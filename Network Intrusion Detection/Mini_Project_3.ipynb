{
 "cells": [
  {
   "cell_type": "code",
   "execution_count": 1,
   "metadata": {},
   "outputs": [
    {
     "name": "stderr",
     "output_type": "stream",
     "text": [
      "/anaconda3/lib/python3.6/importlib/_bootstrap.py:219: RuntimeWarning: compiletime version 3.5 of module 'tensorflow.python.framework.fast_tensor_util' does not match runtime version 3.6\n",
      "  return f(*args, **kwds)\n",
      "/anaconda3/lib/python3.6/site-packages/h5py/__init__.py:36: FutureWarning: Conversion of the second argument of issubdtype from `float` to `np.floating` is deprecated. In future, it will be treated as `np.float64 == np.dtype(float).type`.\n",
      "  from ._conv import register_converters as _register_converters\n",
      "Using TensorFlow backend.\n"
     ]
    }
   ],
   "source": [
    "%matplotlib inline\n",
    "import matplotlib.pyplot as plt\n",
    "import collections\n",
    "import numpy as np\n",
    "import pandas as pd\n",
    "import shutil\n",
    "import os\n",
    "import tensorflow as tf\n",
    "import keras\n",
    "from keras.datasets import mnist\n",
    "from keras.layers import Dense, Dropout, Flatten\n",
    "from keras.models import Sequential\n",
    "from keras.layers.convolutional import Conv1D\n",
    "from sklearn import preprocessing\n",
    "from scipy.stats import zscore\n",
    "from sklearn.metrics import roc_curve, auc\n",
    "from sklearn.model_selection import train_test_split\n",
    "from sklearn import metrics\n",
    "from keras.layers.core import Dense, Activation\n",
    "from keras.callbacks import EarlyStopping\n",
    "from keras.callbacks import ModelCheckpoint\n",
    "from sklearn import svm, datasets\n",
    "from sklearn.model_selection import train_test_split\n",
    "from sklearn.metrics import confusion_matrix, classification_report\n",
    "\n",
    "def encode_text_dummy(df, name):\n",
    "    dummies = pd.get_dummies(df[name])\n",
    "    for x in dummies.columns:\n",
    "        dummy_name = \"{}-{}\".format(name, x)\n",
    "        df[dummy_name] = dummies[x]\n",
    "    df.drop(name, axis=1, inplace=True)\n",
    "\n",
    "# Encode text values to a single dummy variable.  The new columns (which do not replace the old) will have a 1\n",
    "# at every location where the original column (name) matches each of the target_values.  One column is added for\n",
    "# each target value.\n",
    "def encode_text_single_dummy(df, name, target_values):\n",
    "    for tv in target_values:\n",
    "        l = list(df[name].astype(str))\n",
    "        l = [1 if str(x) == str(tv) else 0 for x in l]\n",
    "        name2 = \"{}-{}\".format(name, tv)\n",
    "        df[name2] = l\n",
    "\n",
    "# Encode text values to indexes(i.e. [1],[2],[3] for red,green,blue).\n",
    "def encode_text_index(df, name):\n",
    "    le = preprocessing.LabelEncoder()\n",
    "    df[name] = le.fit_transform(df[name])\n",
    "    return le.classes_\n",
    "\n",
    "# Encode a numeric column as zscores\n",
    "def encode_numeric_zscore(df, name, mean=None, sd=None):\n",
    "    if mean is None:\n",
    "        mean = df[name].mean()\n",
    "\n",
    "    if sd is None:\n",
    "        sd = df[name].std()\n",
    "\n",
    "    df[name] = (df[name] - mean) / sd\n",
    "\n",
    "\n",
    "# Convert all missing values in the specified column to the median\n",
    "def missing_median(df, name):\n",
    "    med = df[name].median()\n",
    "    df[name] = df[name].fillna(med)\n",
    "\n",
    "\n",
    "# Convert all missing values in the specified column to the default\n",
    "def missing_default(df, name, default_value):\n",
    "    df[name] = df[name].fillna(default_value)\n",
    "\n",
    "\n",
    "# Convert a Pandas dataframe to the x,y inputs that TensorFlow needs\n",
    "def to_xy(df, target):\n",
    "    result = []\n",
    "    for x in df.columns:\n",
    "        if x != target:\n",
    "            result.append(x)\n",
    "    # find out the type of the target column. \n",
    "    target_type = df[target].dtypes\n",
    "    target_type = target_type[0] if isinstance(target_type, collections.Sequence) else target_type\n",
    "    # Encode to int for classification, float otherwise. TensorFlow likes 32 bits.\n",
    "    if target_type in (np.int64, np.int32):\n",
    "        # Classification\n",
    "        dummies = pd.get_dummies(df[target])\n",
    "        return df[result].values.astype(np.float32), dummies.values.astype(np.float32)\n",
    "    else:\n",
    "        # Regression\n",
    "        return df[result].values.astype(np.float32), df[target].values.astype(np.float32)\n",
    "\n",
    "# Nicely formatted time string\n",
    "def hms_string(sec_elapsed):\n",
    "    h = int(sec_elapsed / (60 * 60))\n",
    "    m = int((sec_elapsed % (60 * 60)) / 60)\n",
    "    s = sec_elapsed % 60\n",
    "    return \"{}:{:>02}:{:>05.2f}\".format(h, m, s)\n",
    "\n",
    "# Regression chart.\n",
    "def chart_regression(pred,y,sort=True):\n",
    "    t = pd.DataFrame({'pred' : pred, 'y' : y.flatten()})\n",
    "    if sort:\n",
    "        t.sort_values(by=['y'],inplace=True)\n",
    "    a = plt.plot(t['y'].tolist(),label='expected')\n",
    "    b = plt.plot(t['pred'].tolist(),label='prediction')\n",
    "    plt.ylabel('output')\n",
    "    plt.legend()\n",
    "    plt.show()\n",
    "\n",
    "# Remove all rows where the specified column is +/- sd standard deviations\n",
    "def remove_outliers(df, name, sd):\n",
    "    drop_rows = df.index[(np.abs(df[name] - df[name].mean()) >= (sd * df[name].std()))]\n",
    "    df.drop(drop_rows, axis=0, inplace=True)\n",
    "\n",
    "# Encode a column to a range between normalized_low and normalized_high.\n",
    "def encode_numeric_range(df, name, normalized_low=-1, normalized_high=1,\n",
    "                         data_low=None, data_high=None):\n",
    "    if data_low is None:\n",
    "        data_low = min(df[name])\n",
    "        data_high = max(df[name])\n",
    "\n",
    "    df[name] = ((df[name] - data_low) / (data_high - data_low)) \\\n",
    "               * (normalized_high - normalized_low) + normalized_low\n",
    "\n",
    "# Plot a confusion matrix.\n",
    "# cm is the confusion matrix, names are the names of the classes.\n",
    "def plot_confusion_matrix(cm, names, title='Confusion matrix', cmap=plt.cm.Blues):\n",
    "    plt.imshow(cm, interpolation='nearest', cmap=cmap)\n",
    "    plt.title(title)\n",
    "    plt.colorbar()\n",
    "    tick_marks = np.arange(len(names))\n",
    "    plt.xticks(tick_marks, names, rotation=45)\n",
    "    plt.yticks(tick_marks, names)\n",
    "    plt.tight_layout()\n",
    "    plt.ylabel('True label')\n",
    "    plt.xlabel('Predicted label')\n",
    "    \n",
    "\n",
    "# Plot an ROC. pred - the predictions, y - the expected output.\n",
    "def plot_roc(pred,y):\n",
    "    fpr, tpr, thresholds = roc_curve(y, pred)\n",
    "    roc_auc = auc(fpr, tpr)\n",
    "\n",
    "    plt.figure()\n",
    "    plt.plot(fpr, tpr, label='ROC curve (area = %0.2f)' % roc_auc)\n",
    "    plt.plot([0, 1], [0, 1], 'k--')\n",
    "    plt.xlim([0.0, 1.0])\n",
    "    plt.ylim([0.0, 1.05])\n",
    "    plt.xlabel('False Positive Rate')\n",
    "    plt.ylabel('True Positive Rate')\n",
    "    plt.title('Receiver Operating Characteristic (ROC)')\n",
    "    plt.legend(loc=\"lower right\")\n",
    "    plt.show()\n"
   ]
  },
  {
   "cell_type": "code",
   "execution_count": 2,
   "metadata": {
    "scrolled": true
   },
   "outputs": [],
   "source": [
    "path = \"./data/\"\n",
    "    \n",
    "filename = os.path.join(path,\"network_intrusion_data.csv\")\n",
    "df = pd.read_csv(filename, na_values=['NA','?'], header=None)\n",
    "df.columns = [\n",
    "'duration',\n",
    "'protocol_type',\n",
    "'service',\n",
    "'flag',\n",
    "'src_bytes',\n",
    "'dst_bytes',\n",
    "'land',\n",
    "'wrong_fragment',\n",
    "'urgent',\n",
    "'hot',\n",
    "'num_failed_logins',\n",
    "'logged_in',\n",
    "'num_compromised',\n",
    "'root_shell',\n",
    "'su_attempted',\n",
    "'num_root',\n",
    "'num_file_creations',\n",
    "'num_shells',\n",
    "'num_access_files',\n",
    "'num_outbound_cmds',\n",
    "'is_host_login',\n",
    "'is_guest_login',\n",
    "'count',\n",
    "'srv_count',\n",
    "'serror_rate',\n",
    "'srv_serror_rate',\n",
    "'rerror_rate',\n",
    "'srv_rerror_rate',\n",
    "'same_srv_rate',\n",
    "'diff_srv_rate',\n",
    "'srv_diff_host_rate',\n",
    "'dst_host_count',\n",
    "'dst_host_srv_count',\n",
    "'dst_host_same_srv_rate',\n",
    "'dst_host_diff_srv_rate',\n",
    "'dst_host_same_src_port_rate',\n",
    "'dst_host_srv_diff_host_rate',\n",
    "'dst_host_serror_rate',\n",
    "'dst_host_srv_serror_rate',\n",
    "'dst_host_rerror_rate',\n",
    "'dst_host_srv_rerror_rate',\n",
    "'outcome'\n",
    "]\n",
    "#df=df[0:200000]"
   ]
  },
  {
   "cell_type": "code",
   "execution_count": 3,
   "metadata": {
    "scrolled": true
   },
   "outputs": [
    {
     "name": "stdout",
     "output_type": "stream",
     "text": [
      "   duration protocol_type service flag  src_bytes  dst_bytes  land  \\\n",
      "0         0           tcp    http   SF        181       5450     0   \n",
      "1         0           tcp    http   SF        239        486     0   \n",
      "2         0           tcp    http   SF        235       1337     0   \n",
      "3         0           tcp    http   SF        219       1337     0   \n",
      "4         0           tcp    http   SF        217       2032     0   \n",
      "\n",
      "   wrong_fragment  urgent  hot            ...             dst_host_count  \\\n",
      "0               0       0    0            ...                          9   \n",
      "1               0       0    0            ...                         19   \n",
      "2               0       0    0            ...                         29   \n",
      "3               0       0    0            ...                         39   \n",
      "4               0       0    0            ...                         49   \n",
      "\n",
      "   dst_host_srv_count  dst_host_same_srv_rate  dst_host_diff_srv_rate  \\\n",
      "0                   9                     1.0                     0.0   \n",
      "1                  19                     1.0                     0.0   \n",
      "2                  29                     1.0                     0.0   \n",
      "3                  39                     1.0                     0.0   \n",
      "4                  49                     1.0                     0.0   \n",
      "\n",
      "   dst_host_same_src_port_rate  dst_host_srv_diff_host_rate  \\\n",
      "0                         0.11                          0.0   \n",
      "1                         0.05                          0.0   \n",
      "2                         0.03                          0.0   \n",
      "3                         0.03                          0.0   \n",
      "4                         0.02                          0.0   \n",
      "\n",
      "   dst_host_serror_rate  dst_host_srv_serror_rate  dst_host_rerror_rate  \\\n",
      "0                   0.0                       0.0                   0.0   \n",
      "1                   0.0                       0.0                   0.0   \n",
      "2                   0.0                       0.0                   0.0   \n",
      "3                   0.0                       0.0                   0.0   \n",
      "4                   0.0                       0.0                   0.0   \n",
      "\n",
      "   dst_host_srv_rerror_rate  \n",
      "0                       0.0  \n",
      "1                       0.0  \n",
      "2                       0.0  \n",
      "3                       0.0  \n",
      "4                       0.0  \n",
      "\n",
      "[5 rows x 41 columns]\n"
     ]
    },
    {
     "name": "stderr",
     "output_type": "stream",
     "text": [
      "/anaconda3/lib/python3.6/site-packages/sklearn/preprocessing/label.py:111: DataConversionWarning: A column-vector y was passed when a 1d array was expected. Please change the shape of y to (n_samples, ), for example using ravel().\n",
      "  y = column_or_1d(y, warn=True)\n"
     ]
    }
   ],
   "source": [
    "binary_convert = lambda x: 0 if x == \"normal.\" else 1\n",
    "df_binary_array=df['outcome'].apply(binary_convert)\n",
    "df_binary = pd.DataFrame({'out_binary': df_binary_array})\n",
    "# result = pd.concat([df,df_binary], axis=1, sort=False)\n",
    "# result[700:745]\n",
    "result=df;\n",
    "result = result.drop(columns=['outcome'])\n",
    "#Label Encoding\n",
    "from sklearn import preprocessing\n",
    "le = preprocessing.LabelEncoder()\n",
    "out_binary = le.fit_transform(df_binary)\n",
    "out_binary[730:745]\n",
    "print(result[0:5])"
   ]
  },
  {
   "cell_type": "markdown",
   "metadata": {},
   "source": [
    "<h4>OneHotEncoding : Categorical Features</h4>"
   ]
  },
  {
   "cell_type": "code",
   "execution_count": 4,
   "metadata": {
    "scrolled": true
   },
   "outputs": [],
   "source": [
    "protocol_type = le.fit_transform(result['protocol_type'])\n",
    "df_protocol_type = pd.DataFrame(protocol_type, columns=['one_hot_encoded'])\n",
    "encode_text_dummy(df_protocol_type, 'one_hot_encoded')\n",
    "one_hot_protocol_type = df_protocol_type.values\n",
    "\n",
    "service = le.fit_transform(result['service'])\n",
    "df_service = pd.DataFrame(service, columns=['one_hot_encoded'])\n",
    "encode_text_dummy(df_service, 'one_hot_encoded')\n",
    "one_hot_service = df_service.values\n",
    "\n",
    "flag = le.fit_transform(result['flag'])\n",
    "df_flag = pd.DataFrame(flag, columns=['one_hot_encoded'])\n",
    "encode_text_dummy(df_flag, 'one_hot_encoded')\n",
    "one_hot_flag = df_flag.values\n",
    "\n",
    "land = le.fit_transform(result['land'])\n",
    "df_land = pd.DataFrame(land, columns=['one_hot_encoded'])\n",
    "encode_text_dummy(df_land, 'one_hot_encoded')\n",
    "one_hot_land = df_land.values\n",
    "\n",
    "logged_in = le.fit_transform(result['logged_in'])\n",
    "df_logged_in = pd.DataFrame(logged_in, columns=['one_hot_encoded'])\n",
    "encode_text_dummy(df_logged_in, 'one_hot_encoded')\n",
    "one_hot_logged_in = df_logged_in.values\n",
    "\n",
    "root_shell = le.fit_transform(result['root_shell'])\n",
    "df_root_shell = pd.DataFrame(root_shell, columns=['one_hot_encoded'])\n",
    "encode_text_dummy(df_root_shell, 'one_hot_encoded')\n",
    "one_hot_root_shell = df_root_shell.values\n",
    "\n",
    "su_attempted = le.fit_transform(result['su_attempted'])\n",
    "df_su_attempted = pd.DataFrame(su_attempted, columns=['one_hot_encoded'])\n",
    "encode_text_dummy(df_su_attempted, 'one_hot_encoded')\n",
    "one_hot_su_attempted = df_su_attempted.values\n",
    "\n",
    "\n",
    "is_host_login = le.fit_transform(result['is_host_login'])\n",
    "df_is_host_login = pd.DataFrame(is_host_login, columns=['one_hot_encoded'])\n",
    "encode_text_dummy(df_is_host_login, 'one_hot_encoded')\n",
    "one_hot_is_host_login = df_is_host_login.values\n",
    "\n",
    "\n",
    "is_guest_login = le.fit_transform(result['is_guest_login'])\n",
    "df_is_guest_login = pd.DataFrame(is_guest_login, columns=['one_hot_encoded'])\n",
    "encode_text_dummy(df_is_guest_login, 'one_hot_encoded')\n",
    "one_hot_is_guest_login = df_is_guest_login.values"
   ]
  },
  {
   "cell_type": "code",
   "execution_count": 5,
   "metadata": {},
   "outputs": [],
   "source": [
    "df_result=result.copy()"
   ]
  },
  {
   "cell_type": "code",
   "execution_count": 6,
   "metadata": {
    "scrolled": false
   },
   "outputs": [
    {
     "name": "stdout",
     "output_type": "stream",
     "text": [
      "(494021, 92)\n"
     ]
    }
   ],
   "source": [
    "one_hot_combine = np.concatenate([one_hot_protocol_type, one_hot_service, one_hot_flag, one_hot_land, one_hot_logged_in\n",
    ", one_hot_root_shell, one_hot_su_attempted, one_hot_is_host_login, one_hot_is_guest_login],axis=1)\n",
    "\n",
    "print(one_hot_combine.shape)"
   ]
  },
  {
   "cell_type": "markdown",
   "metadata": {},
   "source": [
    "<h3>Numeric Feature Normalization</h3>"
   ]
  },
  {
   "cell_type": "code",
   "execution_count": 7,
   "metadata": {
    "scrolled": true
   },
   "outputs": [],
   "source": [
    "df_result['normalize_duration']=zscore(df_result['duration'])\n",
    "df_result['normalize_src_bytes'] = zscore(df_result['src_bytes'])\n",
    "df_result['normalize_dst_bytes'] = zscore(df_result['dst_bytes'])\n",
    "\n",
    "df_result['normalize_wrong_fragment'] = zscore(df_result['wrong_fragment'])\n",
    "df_result['normalize_urgent'] = zscore(df_result['urgent'])\n",
    "df_result['normalize_hot'] = zscore(df_result['hot'])\n",
    "\n",
    "df_result['normalize_num_failed_logins']=zscore(df_result['num_failed_logins'])\n",
    "df_result['normalize_logged_in'] = zscore(df_result['logged_in'])\n",
    "df_result['normalize_num_compromised']=zscore(df_result['num_compromised'])\n",
    "\n",
    "df_result['normalize_num_root'] = zscore(df_result['num_root'])\n",
    "df_result['normalize_num_file_creations'] = zscore(df_result['num_file_creations'])\n",
    "df_result['normalize_num_shells'] = zscore(df_result['num_shells'])\n",
    "\n",
    "df_result['normalize_num_access_files'] = zscore(df_result['num_access_files'])\n",
    "\n",
    "# df_result['normalize_num_outbound_cmds'] = zscore(df_result['num_outbound_cmds']) All values are zero in this so unable for zscore\n",
    "\n",
    "df_result['normalize_count'] = zscore(df_result['count'])\n",
    "\n",
    "df_result['normalize_srv_count'] = zscore(df_result['srv_count'])\n",
    "df_result['normalize_serror_rate'] = zscore(df_result['serror_rate'])\n",
    "df_result['normalize_srv_serror_rate']=zscore(df_result['srv_serror_rate'])\n",
    "\n",
    "df_result['normalize_rerror_rate'] = zscore(df_result['rerror_rate'])\n",
    "df_result['normalize_srv_rerror_rate']=zscore(df_result['srv_rerror_rate'])\n",
    "df_result['normalize_same_srv_rate'] = zscore(df_result['same_srv_rate'])\n",
    "\n",
    "df_result['normalize_diff_srv_rate'] = zscore(df_result['diff_srv_rate'])\n",
    "df_result['normalize_srv_diff_host_rate']=zscore(df_result['srv_diff_host_rate'])\n",
    "df_result['normalize_dst_host_count'] = zscore(df_result['dst_host_count'])\n",
    "\n",
    "df_result['normalize_dst_host_srv_count'] = zscore(df_result['dst_host_srv_count'])\n",
    "df_result['normalize_dst_host_same_srv_rate'] = zscore(df_result['dst_host_same_srv_rate'])\n",
    "df_result['normalize_dst_host_diff_srv_rate'] = zscore(df_result['dst_host_diff_srv_rate'])\n",
    "\n",
    "df_result['normalize_dst_host_same_src_port_rate'] = zscore(df_result['dst_host_same_src_port_rate'])\n",
    "df_result['normalize_dst_host_srv_diff_host_rate'] = zscore(df_result['dst_host_srv_diff_host_rate'])\n",
    "df_result['normalize_dst_host_serror_rate'] = zscore(df_result['dst_host_serror_rate'])\n",
    "\n",
    "df_result['normalize_dst_host_srv_serror_rate'] = zscore(df_result['dst_host_srv_serror_rate'])\n",
    "df_result['normalize_dst_host_rerror_rate'] = zscore(df_result['dst_host_rerror_rate'])\n",
    "df_result['normalize_dst_host_srv_rerror_rate'] = zscore(df_result['dst_host_srv_rerror_rate'])"
   ]
  },
  {
   "cell_type": "code",
   "execution_count": 8,
   "metadata": {},
   "outputs": [
    {
     "data": {
      "text/html": [
       "<div>\n",
       "<style scoped>\n",
       "    .dataframe tbody tr th:only-of-type {\n",
       "        vertical-align: middle;\n",
       "    }\n",
       "\n",
       "    .dataframe tbody tr th {\n",
       "        vertical-align: top;\n",
       "    }\n",
       "\n",
       "    .dataframe thead th {\n",
       "        text-align: right;\n",
       "    }\n",
       "</style>\n",
       "<table border=\"1\" class=\"dataframe\">\n",
       "  <thead>\n",
       "    <tr style=\"text-align: right;\">\n",
       "      <th></th>\n",
       "      <th>duration</th>\n",
       "      <th>protocol_type</th>\n",
       "      <th>service</th>\n",
       "      <th>flag</th>\n",
       "      <th>src_bytes</th>\n",
       "      <th>dst_bytes</th>\n",
       "      <th>land</th>\n",
       "      <th>wrong_fragment</th>\n",
       "      <th>urgent</th>\n",
       "      <th>hot</th>\n",
       "      <th>...</th>\n",
       "      <th>dst_host_count</th>\n",
       "      <th>dst_host_srv_count</th>\n",
       "      <th>dst_host_same_srv_rate</th>\n",
       "      <th>dst_host_diff_srv_rate</th>\n",
       "      <th>dst_host_same_src_port_rate</th>\n",
       "      <th>dst_host_srv_diff_host_rate</th>\n",
       "      <th>dst_host_serror_rate</th>\n",
       "      <th>dst_host_srv_serror_rate</th>\n",
       "      <th>dst_host_rerror_rate</th>\n",
       "      <th>dst_host_srv_rerror_rate</th>\n",
       "    </tr>\n",
       "  </thead>\n",
       "  <tbody>\n",
       "    <tr>\n",
       "      <th>0</th>\n",
       "      <td>0</td>\n",
       "      <td>tcp</td>\n",
       "      <td>http</td>\n",
       "      <td>SF</td>\n",
       "      <td>181</td>\n",
       "      <td>5450</td>\n",
       "      <td>0</td>\n",
       "      <td>0</td>\n",
       "      <td>0</td>\n",
       "      <td>0</td>\n",
       "      <td>...</td>\n",
       "      <td>9</td>\n",
       "      <td>9</td>\n",
       "      <td>1.0</td>\n",
       "      <td>0.0</td>\n",
       "      <td>0.11</td>\n",
       "      <td>0.00</td>\n",
       "      <td>0.0</td>\n",
       "      <td>0.0</td>\n",
       "      <td>0.0</td>\n",
       "      <td>0.0</td>\n",
       "    </tr>\n",
       "    <tr>\n",
       "      <th>1</th>\n",
       "      <td>0</td>\n",
       "      <td>tcp</td>\n",
       "      <td>http</td>\n",
       "      <td>SF</td>\n",
       "      <td>239</td>\n",
       "      <td>486</td>\n",
       "      <td>0</td>\n",
       "      <td>0</td>\n",
       "      <td>0</td>\n",
       "      <td>0</td>\n",
       "      <td>...</td>\n",
       "      <td>19</td>\n",
       "      <td>19</td>\n",
       "      <td>1.0</td>\n",
       "      <td>0.0</td>\n",
       "      <td>0.05</td>\n",
       "      <td>0.00</td>\n",
       "      <td>0.0</td>\n",
       "      <td>0.0</td>\n",
       "      <td>0.0</td>\n",
       "      <td>0.0</td>\n",
       "    </tr>\n",
       "    <tr>\n",
       "      <th>2</th>\n",
       "      <td>0</td>\n",
       "      <td>tcp</td>\n",
       "      <td>http</td>\n",
       "      <td>SF</td>\n",
       "      <td>235</td>\n",
       "      <td>1337</td>\n",
       "      <td>0</td>\n",
       "      <td>0</td>\n",
       "      <td>0</td>\n",
       "      <td>0</td>\n",
       "      <td>...</td>\n",
       "      <td>29</td>\n",
       "      <td>29</td>\n",
       "      <td>1.0</td>\n",
       "      <td>0.0</td>\n",
       "      <td>0.03</td>\n",
       "      <td>0.00</td>\n",
       "      <td>0.0</td>\n",
       "      <td>0.0</td>\n",
       "      <td>0.0</td>\n",
       "      <td>0.0</td>\n",
       "    </tr>\n",
       "    <tr>\n",
       "      <th>3</th>\n",
       "      <td>0</td>\n",
       "      <td>tcp</td>\n",
       "      <td>http</td>\n",
       "      <td>SF</td>\n",
       "      <td>219</td>\n",
       "      <td>1337</td>\n",
       "      <td>0</td>\n",
       "      <td>0</td>\n",
       "      <td>0</td>\n",
       "      <td>0</td>\n",
       "      <td>...</td>\n",
       "      <td>39</td>\n",
       "      <td>39</td>\n",
       "      <td>1.0</td>\n",
       "      <td>0.0</td>\n",
       "      <td>0.03</td>\n",
       "      <td>0.00</td>\n",
       "      <td>0.0</td>\n",
       "      <td>0.0</td>\n",
       "      <td>0.0</td>\n",
       "      <td>0.0</td>\n",
       "    </tr>\n",
       "    <tr>\n",
       "      <th>4</th>\n",
       "      <td>0</td>\n",
       "      <td>tcp</td>\n",
       "      <td>http</td>\n",
       "      <td>SF</td>\n",
       "      <td>217</td>\n",
       "      <td>2032</td>\n",
       "      <td>0</td>\n",
       "      <td>0</td>\n",
       "      <td>0</td>\n",
       "      <td>0</td>\n",
       "      <td>...</td>\n",
       "      <td>49</td>\n",
       "      <td>49</td>\n",
       "      <td>1.0</td>\n",
       "      <td>0.0</td>\n",
       "      <td>0.02</td>\n",
       "      <td>0.00</td>\n",
       "      <td>0.0</td>\n",
       "      <td>0.0</td>\n",
       "      <td>0.0</td>\n",
       "      <td>0.0</td>\n",
       "    </tr>\n",
       "    <tr>\n",
       "      <th>5</th>\n",
       "      <td>0</td>\n",
       "      <td>tcp</td>\n",
       "      <td>http</td>\n",
       "      <td>SF</td>\n",
       "      <td>217</td>\n",
       "      <td>2032</td>\n",
       "      <td>0</td>\n",
       "      <td>0</td>\n",
       "      <td>0</td>\n",
       "      <td>0</td>\n",
       "      <td>...</td>\n",
       "      <td>59</td>\n",
       "      <td>59</td>\n",
       "      <td>1.0</td>\n",
       "      <td>0.0</td>\n",
       "      <td>0.02</td>\n",
       "      <td>0.00</td>\n",
       "      <td>0.0</td>\n",
       "      <td>0.0</td>\n",
       "      <td>0.0</td>\n",
       "      <td>0.0</td>\n",
       "    </tr>\n",
       "    <tr>\n",
       "      <th>6</th>\n",
       "      <td>0</td>\n",
       "      <td>tcp</td>\n",
       "      <td>http</td>\n",
       "      <td>SF</td>\n",
       "      <td>212</td>\n",
       "      <td>1940</td>\n",
       "      <td>0</td>\n",
       "      <td>0</td>\n",
       "      <td>0</td>\n",
       "      <td>0</td>\n",
       "      <td>...</td>\n",
       "      <td>1</td>\n",
       "      <td>69</td>\n",
       "      <td>1.0</td>\n",
       "      <td>0.0</td>\n",
       "      <td>1.00</td>\n",
       "      <td>0.04</td>\n",
       "      <td>0.0</td>\n",
       "      <td>0.0</td>\n",
       "      <td>0.0</td>\n",
       "      <td>0.0</td>\n",
       "    </tr>\n",
       "    <tr>\n",
       "      <th>7</th>\n",
       "      <td>0</td>\n",
       "      <td>tcp</td>\n",
       "      <td>http</td>\n",
       "      <td>SF</td>\n",
       "      <td>159</td>\n",
       "      <td>4087</td>\n",
       "      <td>0</td>\n",
       "      <td>0</td>\n",
       "      <td>0</td>\n",
       "      <td>0</td>\n",
       "      <td>...</td>\n",
       "      <td>11</td>\n",
       "      <td>79</td>\n",
       "      <td>1.0</td>\n",
       "      <td>0.0</td>\n",
       "      <td>0.09</td>\n",
       "      <td>0.04</td>\n",
       "      <td>0.0</td>\n",
       "      <td>0.0</td>\n",
       "      <td>0.0</td>\n",
       "      <td>0.0</td>\n",
       "    </tr>\n",
       "    <tr>\n",
       "      <th>8</th>\n",
       "      <td>0</td>\n",
       "      <td>tcp</td>\n",
       "      <td>http</td>\n",
       "      <td>SF</td>\n",
       "      <td>210</td>\n",
       "      <td>151</td>\n",
       "      <td>0</td>\n",
       "      <td>0</td>\n",
       "      <td>0</td>\n",
       "      <td>0</td>\n",
       "      <td>...</td>\n",
       "      <td>8</td>\n",
       "      <td>89</td>\n",
       "      <td>1.0</td>\n",
       "      <td>0.0</td>\n",
       "      <td>0.12</td>\n",
       "      <td>0.04</td>\n",
       "      <td>0.0</td>\n",
       "      <td>0.0</td>\n",
       "      <td>0.0</td>\n",
       "      <td>0.0</td>\n",
       "    </tr>\n",
       "    <tr>\n",
       "      <th>9</th>\n",
       "      <td>0</td>\n",
       "      <td>tcp</td>\n",
       "      <td>http</td>\n",
       "      <td>SF</td>\n",
       "      <td>212</td>\n",
       "      <td>786</td>\n",
       "      <td>0</td>\n",
       "      <td>0</td>\n",
       "      <td>0</td>\n",
       "      <td>1</td>\n",
       "      <td>...</td>\n",
       "      <td>8</td>\n",
       "      <td>99</td>\n",
       "      <td>1.0</td>\n",
       "      <td>0.0</td>\n",
       "      <td>0.12</td>\n",
       "      <td>0.05</td>\n",
       "      <td>0.0</td>\n",
       "      <td>0.0</td>\n",
       "      <td>0.0</td>\n",
       "      <td>0.0</td>\n",
       "    </tr>\n",
       "  </tbody>\n",
       "</table>\n",
       "<p>10 rows × 41 columns</p>\n",
       "</div>"
      ],
      "text/plain": [
       "   duration protocol_type service flag  src_bytes  dst_bytes  land  \\\n",
       "0         0           tcp    http   SF        181       5450     0   \n",
       "1         0           tcp    http   SF        239        486     0   \n",
       "2         0           tcp    http   SF        235       1337     0   \n",
       "3         0           tcp    http   SF        219       1337     0   \n",
       "4         0           tcp    http   SF        217       2032     0   \n",
       "5         0           tcp    http   SF        217       2032     0   \n",
       "6         0           tcp    http   SF        212       1940     0   \n",
       "7         0           tcp    http   SF        159       4087     0   \n",
       "8         0           tcp    http   SF        210        151     0   \n",
       "9         0           tcp    http   SF        212        786     0   \n",
       "\n",
       "   wrong_fragment  urgent  hot            ...             dst_host_count  \\\n",
       "0               0       0    0            ...                          9   \n",
       "1               0       0    0            ...                         19   \n",
       "2               0       0    0            ...                         29   \n",
       "3               0       0    0            ...                         39   \n",
       "4               0       0    0            ...                         49   \n",
       "5               0       0    0            ...                         59   \n",
       "6               0       0    0            ...                          1   \n",
       "7               0       0    0            ...                         11   \n",
       "8               0       0    0            ...                          8   \n",
       "9               0       0    1            ...                          8   \n",
       "\n",
       "   dst_host_srv_count  dst_host_same_srv_rate  dst_host_diff_srv_rate  \\\n",
       "0                   9                     1.0                     0.0   \n",
       "1                  19                     1.0                     0.0   \n",
       "2                  29                     1.0                     0.0   \n",
       "3                  39                     1.0                     0.0   \n",
       "4                  49                     1.0                     0.0   \n",
       "5                  59                     1.0                     0.0   \n",
       "6                  69                     1.0                     0.0   \n",
       "7                  79                     1.0                     0.0   \n",
       "8                  89                     1.0                     0.0   \n",
       "9                  99                     1.0                     0.0   \n",
       "\n",
       "   dst_host_same_src_port_rate  dst_host_srv_diff_host_rate  \\\n",
       "0                         0.11                         0.00   \n",
       "1                         0.05                         0.00   \n",
       "2                         0.03                         0.00   \n",
       "3                         0.03                         0.00   \n",
       "4                         0.02                         0.00   \n",
       "5                         0.02                         0.00   \n",
       "6                         1.00                         0.04   \n",
       "7                         0.09                         0.04   \n",
       "8                         0.12                         0.04   \n",
       "9                         0.12                         0.05   \n",
       "\n",
       "   dst_host_serror_rate  dst_host_srv_serror_rate  dst_host_rerror_rate  \\\n",
       "0                   0.0                       0.0                   0.0   \n",
       "1                   0.0                       0.0                   0.0   \n",
       "2                   0.0                       0.0                   0.0   \n",
       "3                   0.0                       0.0                   0.0   \n",
       "4                   0.0                       0.0                   0.0   \n",
       "5                   0.0                       0.0                   0.0   \n",
       "6                   0.0                       0.0                   0.0   \n",
       "7                   0.0                       0.0                   0.0   \n",
       "8                   0.0                       0.0                   0.0   \n",
       "9                   0.0                       0.0                   0.0   \n",
       "\n",
       "   dst_host_srv_rerror_rate  \n",
       "0                       0.0  \n",
       "1                       0.0  \n",
       "2                       0.0  \n",
       "3                       0.0  \n",
       "4                       0.0  \n",
       "5                       0.0  \n",
       "6                       0.0  \n",
       "7                       0.0  \n",
       "8                       0.0  \n",
       "9                       0.0  \n",
       "\n",
       "[10 rows x 41 columns]"
      ]
     },
     "execution_count": 8,
     "metadata": {},
     "output_type": "execute_result"
    }
   ],
   "source": [
    "x1 = df_result['normalize_duration'].values.reshape( len(df_result['duration']),1)\n",
    "x2 = df_result['normalize_src_bytes'].values.reshape( len(df_result['src_bytes']),1)\n",
    "x3 = df_result['normalize_dst_bytes'].values.reshape( len(df_result['dst_bytes']),1)\n",
    "\n",
    "x4 = df_result['normalize_wrong_fragment'].values.reshape( len(df_result['wrong_fragment']),1)\n",
    "x5 = df_result['normalize_urgent'].values.reshape( len(df_result['urgent']),1)\n",
    "x6 = df_result['normalize_hot'].values.reshape( len(df_result['hot']),1)\n",
    "\n",
    "x7 = df_result['normalize_num_failed_logins'].values.reshape( len(df_result['num_failed_logins']),1)\n",
    "x8 = df_result['normalize_logged_in'].values.reshape( len(df_result['logged_in']),1)\n",
    "x9 = df_result['normalize_num_compromised'].values.reshape( len(df_result['num_compromised']),1)\n",
    "\n",
    "x10 = df_result['normalize_num_root'].values.reshape( len(df_result['num_root']),1)\n",
    "x11 = df_result['normalize_num_file_creations'].values.reshape( len(df_result['num_file_creations']),1)\n",
    "x12 = df_result['normalize_num_shells'].values.reshape( len(df_result['num_shells']),1)\n",
    "\n",
    "x13 = df_result['normalize_num_access_files'].values.reshape( len(df_result['num_access_files']),1)\n",
    "\n",
    "# df_result['normalize_num_outbound_cmds'].values.reshape( len(df_result['num_outbound_cmds']),1) All values are zero in this so unable for zscore\n",
    "\n",
    "x14 = df_result['normalize_count'].values.reshape( len(df_result['count']),1)\n",
    "\n",
    "x15 = df_result['normalize_srv_count'].values.reshape( len(df_result['srv_count']),1)\n",
    "x16 = df_result['normalize_serror_rate'].values.reshape( len(df_result['serror_rate']),1)\n",
    "x17 = df_result['normalize_srv_serror_rate'].values.reshape( len(df_result['srv_serror_rate']),1)\n",
    "\n",
    "x18 = df_result['normalize_rerror_rate'].values.reshape( len(df_result['rerror_rate']),1)\n",
    "x19 = df_result['normalize_srv_rerror_rate'].values.reshape( len(df_result['srv_rerror_rate']),1)\n",
    "x20 = df_result['normalize_same_srv_rate'].values.reshape( len(df_result['same_srv_rate']),1)\n",
    "\n",
    "x21 = df_result['normalize_diff_srv_rate'].values.reshape( len(df_result['diff_srv_rate']),1)\n",
    "x22 = df_result['normalize_srv_diff_host_rate'].values.reshape( len(df_result['srv_diff_host_rate']),1)\n",
    "x23 = df_result['normalize_dst_host_count'].values.reshape( len(df_result['dst_host_count']),1)\n",
    "\n",
    "x24 = df_result['normalize_dst_host_srv_count'].values.reshape( len(df_result['dst_host_srv_count']),1)\n",
    "x25 = df_result['normalize_dst_host_same_srv_rate'].values.reshape( len(df_result['dst_host_same_srv_rate']),1)\n",
    "x26 = df_result['normalize_dst_host_diff_srv_rate'].values.reshape( len(df_result['dst_host_diff_srv_rate']),1)\n",
    "\n",
    "x27 = df_result['normalize_dst_host_same_src_port_rate'].values.reshape( len(df_result['dst_host_same_src_port_rate']),1)\n",
    "x28 = df_result['normalize_dst_host_srv_diff_host_rate'].values.reshape( len(df_result['dst_host_srv_diff_host_rate']),1)\n",
    "x29 = df_result['normalize_dst_host_serror_rate'].values.reshape( len(df_result['dst_host_serror_rate']),1)\n",
    "\n",
    "x30 = df_result['normalize_dst_host_srv_serror_rate'].values.reshape( len(df_result['dst_host_srv_serror_rate']),1)\n",
    "x31 = df_result['normalize_dst_host_rerror_rate'].values.reshape( len(df_result['dst_host_rerror_rate']),1)\n",
    "x32 = df_result['normalize_dst_host_srv_rerror_rate'].values.reshape( len(df_result['dst_host_srv_rerror_rate']),1)\n",
    "result[:10]"
   ]
  },
  {
   "cell_type": "code",
   "execution_count": 9,
   "metadata": {},
   "outputs": [
    {
     "name": "stdout",
     "output_type": "stream",
     "text": [
      "[0 0 0 0 0]\n"
     ]
    }
   ],
   "source": [
    "print(out_binary[0:5])"
   ]
  },
  {
   "cell_type": "code",
   "execution_count": 10,
   "metadata": {},
   "outputs": [
    {
     "name": "stderr",
     "output_type": "stream",
     "text": [
      "/anaconda3/lib/python3.6/site-packages/sklearn/preprocessing/label.py:111: DataConversionWarning: A column-vector y was passed when a 1d array was expected. Please change the shape of y to (n_samples, ), for example using ravel().\n",
      "  y = column_or_1d(y, warn=True)\n"
     ]
    }
   ],
   "source": [
    "#Onehot Encoding feature vectore\n",
    "out_binary = le.fit_transform(df_binary)\n",
    "df_out_binary = pd.DataFrame(out_binary, columns=['one_hot_encoded'])\n",
    "encode_text_dummy(df_out_binary,'one_hot_encoded')\n",
    "one_hot_out_binary = df_out_binary.values"
   ]
  },
  {
   "cell_type": "markdown",
   "metadata": {},
   "source": [
    "<h3>Fully-Connected Neural Networks</h3>"
   ]
  },
  {
   "cell_type": "code",
   "execution_count": 11,
   "metadata": {},
   "outputs": [
    {
     "name": "stdout",
     "output_type": "stream",
     "text": [
      "(494021, 2)\n",
      "(494021, 124)\n"
     ]
    }
   ],
   "source": [
    "x = np.concatenate([one_hot_combine,x1,x2,x3,x4,x5,x6,x7,x8,x9,x10,x11,x12,x13,x14,x15,x16,x17,x18,x19,x20,x21,x22,x23,x24,x25,x26,x27,x28,x29,x30,x31,x32],axis=1)\n",
    "y = one_hot_out_binary\n",
    "# Split into train/test\n",
    "x_train, x_test, y_train, y_test = train_test_split(x, y, test_size=0.20, random_state=42) \n",
    "print(y.shape)\n",
    "print(x.shape)"
   ]
  },
  {
   "cell_type": "code",
   "execution_count": 12,
   "metadata": {
    "scrolled": true
   },
   "outputs": [
    {
     "name": "stdout",
     "output_type": "stream",
     "text": [
      "0\n",
      "Train on 395216 samples, validate on 98805 samples\n",
      "Epoch 1/100\n",
      " - 13s - loss: 0.0068 - val_loss: 0.0041\n",
      "Epoch 2/100\n",
      " - 13s - loss: 0.0035 - val_loss: 0.0035\n",
      "Epoch 3/100\n",
      " - 13s - loss: 0.0030 - val_loss: 0.0036\n",
      "Epoch 4/100\n",
      " - 14s - loss: 0.0028 - val_loss: 0.0058\n",
      "Epoch 5/100\n",
      " - 14s - loss: 0.0027 - val_loss: 0.0035\n",
      "Epoch 6/100\n",
      " - 14s - loss: 0.0040 - val_loss: 0.0042\n",
      "Epoch 00006: early stopping\n",
      "1\n",
      "Train on 395216 samples, validate on 98805 samples\n",
      "Epoch 1/100\n",
      " - 15s - loss: 0.0061 - val_loss: 0.0038\n",
      "Epoch 2/100\n",
      " - 15s - loss: 0.0035 - val_loss: 0.0037\n",
      "Epoch 3/100\n",
      " - 14s - loss: 0.0038 - val_loss: 0.0053\n",
      "Epoch 4/100\n",
      " - 14s - loss: 0.0029 - val_loss: 0.0041\n",
      "Epoch 5/100\n",
      " - 15s - loss: 0.0030 - val_loss: 0.0048\n",
      "Epoch 6/100\n",
      " - 15s - loss: 0.0031 - val_loss: 0.0038\n",
      "Epoch 00006: early stopping\n",
      "2\n",
      "Train on 395216 samples, validate on 98805 samples\n",
      "Epoch 1/100\n",
      " - 15s - loss: 0.0060 - val_loss: 0.0053\n",
      "Epoch 2/100\n",
      " - 14s - loss: 0.0034 - val_loss: 0.0045\n",
      "Epoch 3/100\n",
      " - 14s - loss: 0.0032 - val_loss: 0.0028\n",
      "Epoch 4/100\n",
      " - 15s - loss: 0.0028 - val_loss: 0.0042\n",
      "Epoch 5/100\n",
      " - 15s - loss: 0.0036 - val_loss: 0.0044\n",
      "Epoch 6/100\n",
      " - 15s - loss: 0.0042 - val_loss: 0.0047\n",
      "Epoch 7/100\n",
      " - 14s - loss: 0.0040 - val_loss: 0.0109\n",
      "Epoch 8/100\n",
      " - 15s - loss: 0.0040 - val_loss: 0.0050\n",
      "Epoch 00008: early stopping\n",
      "3\n",
      "Train on 395216 samples, validate on 98805 samples\n",
      "Epoch 1/100\n",
      " - 15s - loss: 0.0071 - val_loss: 0.0040\n",
      "Epoch 2/100\n",
      " - 15s - loss: 0.0035 - val_loss: 0.0041\n",
      "Epoch 3/100\n",
      " - 15s - loss: 0.0033 - val_loss: 0.0045\n",
      "Epoch 4/100\n",
      " - 15s - loss: 0.0030 - val_loss: 0.0049\n",
      "Epoch 5/100\n",
      " - 14s - loss: 0.0029 - val_loss: 0.0034\n",
      "Epoch 6/100\n",
      " - 15s - loss: 0.0028 - val_loss: 0.0035\n",
      "Epoch 00006: early stopping\n",
      "4\n",
      "Train on 395216 samples, validate on 98805 samples\n",
      "Epoch 1/100\n",
      " - 15s - loss: 0.0065 - val_loss: 0.0045\n",
      "Epoch 2/100\n",
      " - 15s - loss: 0.0034 - val_loss: 0.0032\n",
      "Epoch 3/100\n",
      " - 15s - loss: 0.0031 - val_loss: 0.0032\n",
      "Epoch 4/100\n",
      " - 15s - loss: 0.0031 - val_loss: 0.0037\n",
      "Epoch 5/100\n",
      " - 15s - loss: 0.0029 - val_loss: 0.0042\n",
      "Epoch 6/100\n",
      " - 15s - loss: 0.0026 - val_loss: 0.0043\n",
      "Epoch 7/100\n",
      " - 15s - loss: 0.0027 - val_loss: 0.0047\n",
      "Epoch 00007: early stopping\n",
      "Training finished...Loading the best model\n",
      "\n",
      "Final accuracy: 0.9990789939780376\n"
     ]
    }
   ],
   "source": [
    "# Define ModelCheckpoint outside the loop\n",
    "checkpointer = ModelCheckpoint(filepath=\"best_weights.hdf5\", verbose=0, save_best_only=True) # save best model\n",
    "\n",
    "for i in range(5):\n",
    "    print(i)\n",
    "\n",
    "    # Build network\n",
    "    model = Sequential()\n",
    "    model.add(Dense(100, input_dim=x.shape[1], activation='relu'))\n",
    "    model.add(Dense(150, activation='relu'))\n",
    "    model.add(Dense(60, activation='relu'))\n",
    "    model.add(Dense(30, activation='relu'))\n",
    "    model.add(Dense(y.shape[1], activation='softmax'))\n",
    "    model.compile(loss='categorical_crossentropy', optimizer='adam')\n",
    "\n",
    "    monitor = EarlyStopping(monitor='val_loss', min_delta=1e-3, patience=5, verbose=1, mode='auto')\n",
    "\n",
    "    model.fit(x_train,y_train,validation_data=(x_test,y_test),callbacks=[monitor,checkpointer],verbose=2,epochs=100)\n",
    "\n",
    "\n",
    "print('Training finished...Loading the best model')  \n",
    "print()\n",
    "model.load_weights('best_weights.hdf5') # load weights from best model\n",
    "\n",
    "# Measure accuracy\n",
    "pred = model.predict(x_test)\n",
    "pred = np.argmax(pred,axis=1)\n",
    "\n",
    "y_true = np.argmax(y_test,axis=1)\n",
    "\n",
    "score = metrics.accuracy_score(y_true, pred)\n",
    "print(\"Final accuracy: {}\".format(score))"
   ]
  },
  {
   "cell_type": "markdown",
   "metadata": {},
   "source": [
    "<h4>Confusion Matrix: Fully-Connected Neural Networks</h4>"
   ]
  },
  {
   "cell_type": "code",
   "execution_count": 13,
   "metadata": {
    "scrolled": false
   },
   "outputs": [
    {
     "name": "stdout",
     "output_type": "stream",
     "text": [
      "[[19324    29]\n",
      " [   62 79390]]\n",
      "Plotting confusion matrix\n"
     ]
    },
    {
     "data": {
      "image/png": "[encoded data removed]",
      "text/plain": [
       "<Figure size 432x288 with 2 Axes>"
      ]
     },
     "metadata": {},
     "output_type": "display_data"
    },
    {
     "name": "stdout",
     "output_type": "stream",
     "text": [
      "             precision    recall  f1-score   support\n",
      "\n",
      "          0       1.00      1.00      1.00     19353\n",
      "          1       1.00      1.00      1.00     79452\n",
      "\n",
      "avg / total       1.00      1.00      1.00     98805\n",
      "\n",
      "Precision :: 0.9990789939780376\n",
      "Recall :: 0.9992196546342446\n",
      "F1 Score :: 0.9994272082381302\n"
     ]
    }
   ],
   "source": [
    "out_binary = encode_text_index(df_binary,'out_binary')\n",
    "# Compute confusion matrix\n",
    "cm = confusion_matrix(y_true, pred)\n",
    "print(cm)\n",
    "\n",
    "print('Plotting confusion matrix')\n",
    "\n",
    "plt.figure()\n",
    "plot_confusion_matrix(cm, out_binary)\n",
    "plt.show()\n",
    "\n",
    "print(classification_report(y_true, pred))\n",
    "print(\"Precision ::\", metrics.accuracy_score(y_true, pred))\n",
    "print(\"Recall ::\", metrics.recall_score(y_true, pred))\n",
    "print(\"F1 Score ::\", metrics.f1_score(y_true, pred))"
   ]
  },
  {
   "cell_type": "markdown",
   "metadata": {},
   "source": [
    "<h4>ROC curve for Neural Network</h4>"
   ]
  },
  {
   "cell_type": "code",
   "execution_count": 14,
   "metadata": {},
   "outputs": [
    {
     "data": {
      "image/png": "[encoded data removed]",
      "text/plain": [
       "<Figure size 432x288 with 1 Axes>"
      ]
     },
     "metadata": {},
     "output_type": "display_data"
    }
   ],
   "source": [
    "# Plot an ROC. pred - the predictions, y - the expected output.\n",
    "plot_roc(pred,y_true)"
   ]
  },
  {
   "cell_type": "markdown",
   "metadata": {},
   "source": [
    "<h3>Logistic Regression</h3>"
   ]
  },
  {
   "cell_type": "code",
   "execution_count": 15,
   "metadata": {},
   "outputs": [
    {
     "name": "stdout",
     "output_type": "stream",
     "text": [
      "(494021, 124)\n",
      "(494021,)\n"
     ]
    }
   ],
   "source": [
    "x = np.concatenate([one_hot_combine,x1,x2,x3,x4,x5,x6,x7,x8,x9,x10,x11,x12,x13,x14,x15,x16,x17,x18,x19,x20,x21,x22,x23,x24,x25,x26,x27,x28,x29,x30,x31,x32],axis=1)\n",
    "y=df_binary['out_binary']\n",
    "x_train, x_test, y_train, y_test = train_test_split(x,y, test_size=0.20, random_state=42)\n",
    "print(x.shape)\n",
    "print(y.shape)\n"
   ]
  },
  {
   "cell_type": "code",
   "execution_count": null,
   "metadata": {},
   "outputs": [],
   "source": [
    "from sklearn.linear_model import LogisticRegression\n",
    "\n",
    "# instantiate the model (using the default parameters)\n",
    "logreg = LogisticRegression()\n",
    "\n",
    "# fit the model with data\n",
    "logreg.fit(x_train, y_train)\n",
    "\n",
    "# predict the response for new observations\n",
    "Log_pred=logreg.predict(x_test)\n",
    "\n",
    "# Measure accuracy\n",
    "score = metrics.accuracy_score(y_test, Log_pred)\n",
    "print(\"Final accuracy: {}\".format(score))"
   ]
  },
  {
   "cell_type": "markdown",
   "metadata": {},
   "source": [
    "<h4>Confusion Matrix: Logistic Regression</h4>"
   ]
  },
  {
   "cell_type": "code",
   "execution_count": null,
   "metadata": {
    "scrolled": true
   },
   "outputs": [],
   "source": [
    "out_binary = encode_text_index(df_binary,'out_binary')\n",
    "# Compute confusion matrix\n",
    "cm = confusion_matrix(y_test, Log_pred)\n",
    "print(cm)\n",
    "print('Plotting confusion matrix')\n",
    "plt.figure()\n",
    "plot_confusion_matrix(cm, out_binary)\n",
    "plt.show()\n",
    "\n",
    "print(classification_report(y_test, Log_pred))\n",
    "print(\"Precision :\", metrics.accuracy_score(y_test, Log_pred))\n",
    "print(\"Recall :\", metrics.recall_score(y_test, Log_pred))\n",
    "print(\"F1 Score :\", metrics.f1_score(y_test, Log_pred))"
   ]
  },
  {
   "cell_type": "markdown",
   "metadata": {},
   "source": [
    "<h4>ROC Curve: Logistic Regression</h4>"
   ]
  },
  {
   "cell_type": "code",
   "execution_count": null,
   "metadata": {},
   "outputs": [],
   "source": [
    "# Plot an ROC. pred - the predictions, y - the expected output.\n",
    "plot_roc(Log_pred,y_test)"
   ]
  },
  {
   "cell_type": "markdown",
   "metadata": {},
   "source": [
    "<h3>Nearest Neighbor</h3>"
   ]
  },
  {
   "cell_type": "code",
   "execution_count": null,
   "metadata": {},
   "outputs": [],
   "source": [
    "from sklearn.neighbors import KNeighborsClassifier\n",
    "knn = KNeighborsClassifier(n_neighbors=1)\n",
    "print(knn)\n",
    "knn.fit(x_train, y_train)\n"
   ]
  },
  {
   "cell_type": "code",
   "execution_count": null,
   "metadata": {},
   "outputs": [],
   "source": [
    "Knn_pred=knn.predict(x_test)  \n",
    "\n",
    "# Measure accuracy\n",
    "score = metrics.accuracy_score(y_test, Knn_pred)\n",
    "print(\"Final accuracy: {}\".format(score))"
   ]
  },
  {
   "cell_type": "markdown",
   "metadata": {},
   "source": [
    "<h4>Confusion Matrix: Nearest Neighbor</h4>"
   ]
  },
  {
   "cell_type": "code",
   "execution_count": null,
   "metadata": {},
   "outputs": [],
   "source": [
    "import numpy as np\n",
    "from sklearn import svm, datasets\n",
    "from sklearn.model_selection import train_test_split\n",
    "from sklearn.metrics import confusion_matrix, classification_report\n",
    "\n",
    "out_binary = encode_text_index(df_binary,'out_binary')\n",
    "# Compute confusion matrix\n",
    "cm = confusion_matrix(y_test, Knn_pred)\n",
    "print(cm)\n",
    "print('Plotting confusion matrix')\n",
    "\n",
    "plt.figure()\n",
    "plot_confusion_matrix(cm, out_binary)\n",
    "plt.show()\n",
    "\n",
    "print(classification_report(y_test, Knn_pred))\n",
    "print(\"Precision :\", metrics.accuracy_score(y_test, Knn_pred))\n",
    "print(\"Recall :\", metrics.recall_score(y_test, Knn_pred))\n",
    "print(\"F1 Score :\", metrics.f1_score(y_test, Knn_pred))\n"
   ]
  },
  {
   "cell_type": "markdown",
   "metadata": {},
   "source": [
    "<h4>ROC Curve: Nearest Neighbor</h4>"
   ]
  },
  {
   "cell_type": "code",
   "execution_count": null,
   "metadata": {},
   "outputs": [],
   "source": [
    "# Plot an ROC. pred - the predictions, y - the expected output.\n",
    "plot_roc(Knn_pred,y_test)"
   ]
  },
  {
   "cell_type": "markdown",
   "metadata": {},
   "source": [
    "<h3>Support Vector Machine</h3>"
   ]
  },
  {
   "cell_type": "code",
   "execution_count": null,
   "metadata": {},
   "outputs": [],
   "source": [
    "from sklearn import svm\n",
    "clf = svm.SVC()\n",
    "clf.fit(x_train, y_train)  \n",
    "svm_pred=clf.predict(x_test)\n",
    "\n",
    "# Measure accuracy\n",
    "score = metrics.accuracy_score(y_test, svm_pred)\n",
    "print(\"Final accuracy: {}\".format(score))"
   ]
  },
  {
   "cell_type": "markdown",
   "metadata": {},
   "source": [
    "<h4>Confusion Matrix: Support Vector Machine</h4>"
   ]
  },
  {
   "cell_type": "code",
   "execution_count": null,
   "metadata": {},
   "outputs": [],
   "source": [
    "out_binary = encode_text_index(df_binary,'out_binary')\n",
    "# Compute confusion matrix\n",
    "cm = confusion_matrix(y_test, svm_pred)\n",
    "print(cm)\n",
    "\n",
    "\n",
    "print('Plotting confusion matrix')\n",
    "\n",
    "plt.figure()\n",
    "plot_confusion_matrix(cm, out_binary)\n",
    "plt.show()\n",
    "\n",
    "print(classification_report(y_test, svm_pred))\n",
    "print(\"Precision :\", metrics.accuracy_score(y_test, svm_pred))\n",
    "print(\"Recall :\", metrics.recall_score(y_test, svm_pred))\n",
    "print(\"F1 Score :\", metrics.f1_score(y_test, svm_pred))"
   ]
  },
  {
   "cell_type": "markdown",
   "metadata": {},
   "source": [
    "<h4>ROC Curve: Support Vector Machine</h4>"
   ]
  },
  {
   "cell_type": "code",
   "execution_count": null,
   "metadata": {},
   "outputs": [],
   "source": [
    "# Plot an ROC. pred - the predictions, y - the expected output.\n",
    "plot_roc(svm_pred,y_test)"
   ]
  },
  {
   "cell_type": "markdown",
   "metadata": {},
   "source": [
    "<h3>Gaussian Naive Bayes</h3>"
   ]
  },
  {
   "cell_type": "code",
   "execution_count": null,
   "metadata": {},
   "outputs": [],
   "source": [
    "from sklearn.naive_bayes import GaussianNB\n",
    "clf = GaussianNB()\n",
    "clf.fit(x_train, y_train)\n",
    "#GaussianNB(priors=None, var_smoothing=1e-09)\n",
    "clf_pf = GaussianNB()\n",
    "clf_pf.partial_fit(x_train, y_train, np.unique(y_train))\n",
    "#GaussianNB(priors=None, var_smoothing=1e-09)\n",
    "gnb_pred = clf_pf.predict(x_test)\n",
    "gnb_pred"
   ]
  },
  {
   "cell_type": "markdown",
   "metadata": {},
   "source": [
    "<h4>Confusion Matrix: Gaussian Naive Bayes</h4>"
   ]
  },
  {
   "cell_type": "code",
   "execution_count": null,
   "metadata": {},
   "outputs": [],
   "source": [
    "out_binary = encode_text_index(df_binary,'out_binary')\n",
    "#Compute confusion matrix\n",
    "cm = confusion_matrix(y_test, gnb_pred)\n",
    "print(cm)\n",
    "\n",
    "\n",
    "print('Plotting confusion matrix')\n",
    "\n",
    "plt.figure()\n",
    "plot_confusion_matrix(cm, out_binary)\n",
    "plt.show()\n",
    "\n",
    "print(classification_report(y_test, gnb_pred))\n",
    "print(\"Precision :\", metrics.accuracy_score(y_test, gnb_pred))\n",
    "print(\"Recall :\", metrics.recall_score(y_test, gnb_pred))\n",
    "print(\"F1 Score :\", metrics.f1_score(y_test, gnb_pred))\n",
    "#print(\"Final accuracy: {}\".format(score))"
   ]
  },
  {
   "cell_type": "markdown",
   "metadata": {},
   "source": [
    "<h4>ROC Curve: Gaussian Naive Bayes</h4>"
   ]
  },
  {
   "cell_type": "code",
   "execution_count": null,
   "metadata": {},
   "outputs": [],
   "source": [
    "# Plot an ROC. pred - the predictions, y - the expected output.\n",
    "plot_roc(gnb_pred,y_test)"
   ]
  },
  {
   "cell_type": "markdown",
   "metadata": {},
   "source": [
    "<h3>Convolutional Neural Networks (CNN)</h3> trying 1D"
   ]
  },
  {
   "cell_type": "code",
   "execution_count": null,
   "metadata": {},
   "outputs": [],
   "source": [
    "x = np.concatenate([one_hot_combine,x1,x2,x3,x4,x5,x6,x7,x8,x9,x10,x11,x12,x13,x14,x15,x16,x17,x18,x19,x20,x21,x22,x23,x24,x25,x26,x27,x28,x29,x30,x31,x32],axis=1)\n",
    "y = one_hot_out_binary\n",
    "x_train, x_test, y_train, y_test = train_test_split(x, y, test_size=0.20, random_state=42)\n",
    "print(x.shape)\n",
    "print(y.shape)"
   ]
  },
  {
   "cell_type": "code",
   "execution_count": null,
   "metadata": {},
   "outputs": [],
   "source": [
    "import keras\n",
    "from keras.datasets import mnist\n",
    "from keras.models import Sequential\n",
    "from keras.layers import Dense, Dropout, Flatten\n",
    "from keras.layers import Conv1D, MaxPooling1D\n",
    "\n",
    "cnn = Sequential()\n",
    "\n",
    "cnn.add(Conv1D(64, kernel_size=5, strides=1, activation='tanh', input_shape=(x.shape[1],1)))\n",
    "\n",
    "cnn.add(MaxPooling1D(pool_size=(2)))\n",
    "\n",
    "cnn.add(Conv1D(128, kernel_size=10, strides=1, activation='tanh', input_shape=(47, 64)))\n",
    "cnn.add(MaxPooling1D(pool_size=(2)))\n",
    "cnn.add(Conv1D(67, kernel_size=20, strides=1, activation='tanh', input_shape=(30, 128)))  \n",
    "cnn.add(MaxPooling1D(pool_size=(1)))\n",
    "cnn.add(Flatten())\n",
    "cnn.add(Dense(1024, activation='tanh'))\n",
    "cnn.add(Dropout(0.5))\n",
    "cnn.add(Dense(2, activation=\"softmax\"))\n",
    "cnn.compile(loss=\"categorical_crossentropy\", optimizer=\"rmsprop\")"
   ]
  },
  {
   "cell_type": "code",
   "execution_count": null,
   "metadata": {
    "scrolled": true
   },
   "outputs": [],
   "source": [
    "import time\n",
    "\n",
    "start_time = time.time()\n",
    "x_train = x_train.reshape(x_train.shape[0], x_train.shape[1], 1)\n",
    "x_test = x_test.reshape(x_test.shape[0], x_test.shape[1], 1)\n",
    "\n",
    "cnn.fit(x_train, y_train,\n",
    "          batch_size=124,\n",
    "          epochs=3,\n",
    "          verbose=2,\n",
    "          validation_data=(x_test, y_test))\n",
    "\n",
    "elapsed_time = time.time() - start_time\n",
    "print(\"Elapsed time: {}\".format(hms_string(elapsed_time)))\n",
    "cnn.summary()"
   ]
  },
  {
   "cell_type": "code",
   "execution_count": null,
   "metadata": {
    "scrolled": true
   },
   "outputs": [],
   "source": [
    "from sklearn import metrics\n",
    "\n",
    "y_true = np.argmax(y_test,axis=1)\n",
    "cnn_pred = cnn.predict(x_test)\n",
    "cnn_pred = np.argmax(cnn_pred,axis=1)\n",
    "\n",
    "score = metrics.accuracy_score(y_true, cnn_pred)\n",
    "print('Accuracy: {}'.format(score))\n",
    "\n",
    "\n",
    "f1 = metrics.f1_score(y_true, cnn_pred, average='weighted')\n",
    "print('Averaged F1: {}'.format(f1))\n",
    "\n",
    "           \n",
    "print(metrics.classification_report(y_true, cnn_pred))"
   ]
  },
  {
   "cell_type": "markdown",
   "metadata": {},
   "source": [
    "<h4>Confusion Matrix: CNN</h4>"
   ]
  },
  {
   "cell_type": "code",
   "execution_count": null,
   "metadata": {
    "scrolled": true
   },
   "outputs": [],
   "source": [
    "out_binary = encode_text_index(df_binary,'out_binary')\n",
    "#Compute confusion matrix\n",
    "cm = confusion_matrix(y_true, cnn_pred)\n",
    "print(cm)\n",
    "\n",
    "\n",
    "print('Plotting confusion matrix')\n",
    "\n",
    "plt.figure()\n",
    "plot_confusion_matrix(cm, out_binary)\n",
    "plt.show()\n",
    "\n",
    "print(classification_report(y_true, cnn_pred))\n",
    "print(\"Precision :\", metrics.accuracy_score(y_true, cnn_pred))\n",
    "print(\"Recall :\", metrics.recall_score(y_true, cnn_pred))\n",
    "print(\"F1 Score :\", metrics.f1_score(y_true, cnn_pred))"
   ]
  },
  {
   "cell_type": "markdown",
   "metadata": {},
   "source": [
    "<h4>ROC Curve: CNN</h4>"
   ]
  },
  {
   "cell_type": "code",
   "execution_count": null,
   "metadata": {},
   "outputs": [],
   "source": [
    "# Plot an ROC. pred - the predictions, y - the expected output.\n",
    "plot_roc(cnn_pred,y_true)"
   ]
  }
 ],
 "metadata": {
  "kernelspec": {
   "display_name": "Python 3",
   "language": "python",
   "name": "python3"
  },
  "language_info": {
   "codemirror_mode": {
    "name": "ipython",
    "version": 3
   },
   "file_extension": ".py",
   "mimetype": "text/x-python",
   "name": "python",
   "nbconvert_exporter": "python",
   "pygments_lexer": "ipython3",
   "version": "3.6.5"
  }
 },
 "nbformat": 4,
 "nbformat_minor": 2
}
