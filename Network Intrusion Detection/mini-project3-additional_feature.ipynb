{
 "cells": [
  {
   "cell_type": "code",
   "execution_count": 1,
   "metadata": {},
   "outputs": [
    {
     "name": "stderr",
     "output_type": "stream",
     "text": [
      "/anaconda3/lib/python3.6/importlib/_bootstrap.py:219: RuntimeWarning: compiletime version 3.5 of module 'tensorflow.python.framework.fast_tensor_util' does not match runtime version 3.6\n",
      "  return f(*args, **kwds)\n",
      "/anaconda3/lib/python3.6/site-packages/h5py/__init__.py:36: FutureWarning: Conversion of the second argument of issubdtype from `float` to `np.floating` is deprecated. In future, it will be treated as `np.float64 == np.dtype(float).type`.\n",
      "  from ._conv import register_converters as _register_converters\n"
     ]
    }
   ],
   "source": [
    "%matplotlib inline\n",
    "import matplotlib.pyplot as plt\n",
    "import collections\n",
    "import numpy as np\n",
    "import pandas as pd\n",
    "import shutil\n",
    "import os\n",
    "from scipy.stats import zscore\n",
    "import tensorflow as tf\n",
    "from sklearn import preprocessing\n",
    "from sklearn.model_selection import train_test_split\n",
    "from sklearn import metrics\n",
    "from sklearn.preprocessing import MinMaxScaler\n",
    "from collections import OrderedDict\n",
    "from sklearn.feature_selection import SelectKBest\n",
    "from sklearn.feature_selection import chi2\n",
    "from sklearn.ensemble import ExtraTreesClassifier\n",
    "from sklearn.feature_selection import RFE\n",
    "from sklearn.linear_model import LogisticRegression\n",
    "from sklearn.metrics import confusion_matrix, classification_report\n",
    "from sklearn.metrics import roc_curve, auc\n",
    "def encode_text_dummy(df, name):\n",
    "    dummies = pd.get_dummies(df[name])\n",
    "    for x in dummies.columns:\n",
    "        dummy_name = \"{}-{}\".format(name, x)\n",
    "        df[dummy_name] = dummies[x]\n",
    "    df.drop(name, axis=1, inplace=True)\n",
    "\n",
    "# Plot a confusion matrix.\n",
    "# cm is the confusion matrix, names are the names of the classes.\n",
    "def plot_confusion_matrix(cm, names, title='Confusion matrix', cmap=plt.cm.Blues):\n",
    "    plt.imshow(cm, interpolation='nearest', cmap=cmap)\n",
    "    plt.title(title)\n",
    "    plt.colorbar()\n",
    "    tick_marks = np.arange(len(names))\n",
    "    plt.xticks(tick_marks, names, rotation=45)\n",
    "    plt.yticks(tick_marks, names)\n",
    "    plt.tight_layout()\n",
    "    plt.ylabel('True label')\n",
    "    plt.xlabel('Predicted label')\n",
    "    \n",
    "\n",
    "# Plot an ROC. pred - the predictions, y - the expected output.\n",
    "def plot_roc(pred,y):\n",
    "    fpr, tpr, thresholds = roc_curve(y, pred)\n",
    "    roc_auc = auc(fpr, tpr)\n",
    "\n",
    "    plt.figure()\n",
    "    plt.plot(fpr, tpr, label='ROC curve (area = %0.2f)' % roc_auc)\n",
    "    plt.plot([0, 1], [0, 1], 'k--')\n",
    "    plt.xlim([0.0, 1.0])\n",
    "    plt.ylim([0.0, 1.05])\n",
    "    plt.xlabel('False Positive Rate')\n",
    "    plt.ylabel('True Positive Rate')\n",
    "    plt.title('Receiver Operating Characteristic (ROC)')\n",
    "    plt.legend(loc=\"lower right\")\n",
    "    plt.show()\n"
   ]
  },
  {
   "cell_type": "code",
   "execution_count": 2,
   "metadata": {},
   "outputs": [],
   "source": [
    "path = \"./data/\"\n",
    "    \n",
    "filename = os.path.join(path,\"network_intrusion_data.csv\")\n",
    "df = pd.read_csv(filename, na_values=['NA','?'], header=None)\n",
    "headers = [\n",
    "'duration',\n",
    "'protocol_type',\n",
    "'service',\n",
    "'flag',\n",
    "'src_bytes',\n",
    "'dst_bytes',\n",
    "'land',\n",
    "'wrong_fragment',\n",
    "'urgent',\n",
    "'hot',\n",
    "'num_failed_logins',\n",
    "'logged_in',\n",
    "'num_compromised',\n",
    "'root_shell',\n",
    "'su_attempted',\n",
    "'num_root',\n",
    "'num_file_creations',\n",
    "'num_shells',\n",
    "'num_access_files',\n",
    "'num_outbound_cmds',\n",
    "'is_host_login',\n",
    "'is_guest_login',\n",
    "'count',\n",
    "'srv_count',\n",
    "'serror_rate',\n",
    "'srv_serror_rate',\n",
    "'rerror_rate',\n",
    "'srv_rerror_rate',\n",
    "'same_srv_rate',\n",
    "'diff_srv_rate',\n",
    "'srv_diff_host_rate',\n",
    "'dst_host_count',\n",
    "'dst_host_srv_count',\n",
    "'dst_host_same_srv_rate',\n",
    "'dst_host_diff_srv_rate',\n",
    "'dst_host_same_src_port_rate',\n",
    "'dst_host_srv_diff_host_rate',\n",
    "'dst_host_serror_rate',\n",
    "'dst_host_srv_serror_rate',\n",
    "'dst_host_rerror_rate',\n",
    "'dst_host_srv_rerror_rate',\n",
    "'outcome'\n",
    "]\n",
    "df.columns=headers"
   ]
  },
  {
   "cell_type": "code",
   "execution_count": 3,
   "metadata": {
    "scrolled": false
   },
   "outputs": [
    {
     "name": "stdout",
     "output_type": "stream",
     "text": [
      "   duration protocol_type service flag  src_bytes  dst_bytes  land  \\\n",
      "0         0           tcp    http   SF        181       5450     0   \n",
      "1         0           tcp    http   SF        239        486     0   \n",
      "2         0           tcp    http   SF        235       1337     0   \n",
      "3         0           tcp    http   SF        219       1337     0   \n",
      "4         0           tcp    http   SF        217       2032     0   \n",
      "\n",
      "   wrong_fragment  urgent  hot     ...      dst_host_same_srv_rate  \\\n",
      "0               0       0    0     ...                         1.0   \n",
      "1               0       0    0     ...                         1.0   \n",
      "2               0       0    0     ...                         1.0   \n",
      "3               0       0    0     ...                         1.0   \n",
      "4               0       0    0     ...                         1.0   \n",
      "\n",
      "   dst_host_diff_srv_rate  dst_host_same_src_port_rate  \\\n",
      "0                     0.0                         0.11   \n",
      "1                     0.0                         0.05   \n",
      "2                     0.0                         0.03   \n",
      "3                     0.0                         0.03   \n",
      "4                     0.0                         0.02   \n",
      "\n",
      "   dst_host_srv_diff_host_rate  dst_host_serror_rate  \\\n",
      "0                          0.0                   0.0   \n",
      "1                          0.0                   0.0   \n",
      "2                          0.0                   0.0   \n",
      "3                          0.0                   0.0   \n",
      "4                          0.0                   0.0   \n",
      "\n",
      "   dst_host_srv_serror_rate  dst_host_rerror_rate  dst_host_srv_rerror_rate  \\\n",
      "0                       0.0                   0.0                       0.0   \n",
      "1                       0.0                   0.0                       0.0   \n",
      "2                       0.0                   0.0                       0.0   \n",
      "3                       0.0                   0.0                       0.0   \n",
      "4                       0.0                   0.0                       0.0   \n",
      "\n",
      "   outcome  out_binary  \n",
      "0  normal.           0  \n",
      "1  normal.           0  \n",
      "2  normal.           0  \n",
      "3  normal.           0  \n",
      "4  normal.           0  \n",
      "\n",
      "[5 rows x 43 columns]\n"
     ]
    }
   ],
   "source": [
    "binary_convert = lambda x: 0 if x == \"normal.\" else 1\n",
    "df_binary_array=df['outcome'].apply(binary_convert)\n",
    "df_binary = pd.DataFrame({'out_binary': df_binary_array})\n",
    "result = pd.concat([df,df_binary], axis=1, sort=False)\n",
    "print(result[0:5])\n",
    "\n",
    "#Label Encoding\n",
    "le = preprocessing.LabelEncoder()\n",
    "out_binary = le.fit_transform(result['out_binary'])"
   ]
  },
  {
   "cell_type": "code",
   "execution_count": 4,
   "metadata": {
    "scrolled": true
   },
   "outputs": [],
   "source": [
    "le = preprocessing.LabelEncoder()\n",
    "result['protocol_type']=le.fit_transform(result['protocol_type'])\n",
    "result['service'] = le.fit_transform(result['service'])\n",
    "result['flag'] = le.fit_transform(result['flag'])\n",
    "result['land'] = le.fit_transform(result['land'])\n",
    "result['logged_in'] = le.fit_transform(result['logged_in'])\n",
    "result['root_shell'] = le.fit_transform(result['root_shell'])\n",
    "result['su_attempted'] = le.fit_transform(result['su_attempted'])\n",
    "result['is_host_login'] = le.fit_transform(result['is_host_login'])\n",
    "result['is_guest_login'] = le.fit_transform(result['is_guest_login'])\n",
    "result=result.drop(columns=['outcome','out_binary'], axis=1)"
   ]
  },
  {
   "cell_type": "markdown",
   "metadata": {},
   "source": [
    "<h4>Feature Extraction with Univariate Statistical test</h4>"
   ]
  },
  {
   "cell_type": "code",
   "execution_count": 5,
   "metadata": {},
   "outputs": [
    {
     "name": "stdout",
     "output_type": "stream",
     "text": [
      "Important feature column indices from X: [ 1 11 22 23 24 25 30 35 37 38]\n"
     ]
    }
   ],
   "source": [
    "scaler = MinMaxScaler()\n",
    "X = result.values\n",
    "X = scaler.fit_transform(X)\n",
    "Y = out_binary\n",
    "# feature extraction\n",
    "test = SelectKBest(score_func=chi2, k=10)\n",
    "fit = test.fit(X, Y)\n",
    "features = fit.transform(X)\n",
    "# summarize selected features\n",
    "print(\"Important feature column indices from X: {}\".format(test.get_support(True)))"
   ]
  },
  {
   "cell_type": "markdown",
   "metadata": {},
   "source": [
    "<h4>Recursive Feature Elimination</h4>"
   ]
  },
  {
   "cell_type": "code",
   "execution_count": 6,
   "metadata": {},
   "outputs": [],
   "source": [
    "model = LogisticRegression()\n",
    "rfe = RFE(model, 10)\n",
    "fit = rfe.fit(X, Y)"
   ]
  },
  {
   "cell_type": "code",
   "execution_count": 7,
   "metadata": {},
   "outputs": [
    {
     "name": "stdout",
     "output_type": "stream",
     "text": [
      "Selected Features: [ 3  7  9 21 22 25 27 28 36 38]\n"
     ]
    }
   ],
   "source": [
    "features = fit.transform(X)\n",
    "print(\"Selected Features: {}\".format(rfe.get_support(True)))"
   ]
  },
  {
   "cell_type": "markdown",
   "metadata": {},
   "source": [
    "<h4>Feature Importance</h4>"
   ]
  },
  {
   "cell_type": "code",
   "execution_count": 8,
   "metadata": {},
   "outputs": [
    {
     "name": "stdout",
     "output_type": "stream",
     "text": [
      "[3.03246944e-04 1.79933815e-01 2.41693750e-03 1.19515043e-02\n",
      " 1.12272006e-02 1.11039909e-03 7.25257233e-06 6.95273788e-03\n",
      " 1.11663259e-05 8.74951083e-03 9.57901820e-05 2.01872404e-03\n",
      " 5.97901015e-03 1.14023644e-04 6.04362689e-06 5.36702727e-05\n",
      " 5.62497679e-05 1.45294002e-05 2.15446623e-05 0.00000000e+00\n",
      " 0.00000000e+00 7.93659060e-04 1.75729361e-01 1.10722860e-01\n",
      " 1.32858835e-02 1.03040233e-02 1.22518704e-03 2.17629284e-02\n",
      " 7.51834499e-02 6.28744064e-04 7.91128274e-03 5.61033822e-02\n",
      " 6.17202429e-02 1.37151122e-02 3.70763495e-03 1.91554191e-01\n",
      " 3.45579280e-03 3.05580443e-03 1.56531652e-03 3.33037372e-03\n",
      " 1.32214142e-02]\n"
     ]
    }
   ],
   "source": [
    "# feature extraction\n",
    "model = ExtraTreesClassifier()\n",
    "model.fit(X, Y)\n",
    "print(model.feature_importances_)"
   ]
  },
  {
   "cell_type": "code",
   "execution_count": 9,
   "metadata": {
    "scrolled": true
   },
   "outputs": [
    {
     "data": {
      "text/plain": [
       "OrderedDict([(0.19155419057977485, 35),\n",
       "             (0.1799338147410496, 1),\n",
       "             (0.1757293605717157, 22),\n",
       "             (0.11072286046571193, 23),\n",
       "             (0.07518344991044268, 28),\n",
       "             (0.061720242879195364, 32),\n",
       "             (0.05610338216894256, 31),\n",
       "             (0.021762928422020537, 27),\n",
       "             (0.013715112159391047, 33),\n",
       "             (0.013285883467924165, 24),\n",
       "             (0.013221414210051524, 40),\n",
       "             (0.011951504304826078, 3),\n",
       "             (0.0112272006164035, 4),\n",
       "             (0.010304023289950191, 25),\n",
       "             (0.008749510829620544, 9),\n",
       "             (0.00791128273952152, 30),\n",
       "             (0.006952737881705423, 7),\n",
       "             (0.005979010147729624, 12),\n",
       "             (0.0037076349515471852, 34),\n",
       "             (0.0034557927953010508, 36),\n",
       "             (0.0033303737200800223, 39),\n",
       "             (0.00305580443369241, 37),\n",
       "             (0.0024169374994581845, 2),\n",
       "             (0.0020187240379966886, 11),\n",
       "             (0.0015653165245059087, 38),\n",
       "             (0.0012251870363118905, 26),\n",
       "             (0.0011103990934824006, 5),\n",
       "             (0.0007936590602465002, 21),\n",
       "             (0.0006287440639931036, 29),\n",
       "             (0.00030324694361243056, 0),\n",
       "             (0.0001140236436057909, 13),\n",
       "             (9.579018200353903e-05, 10),\n",
       "             (5.6249767875960635e-05, 16),\n",
       "             (5.367027270266844e-05, 15),\n",
       "             (2.154466229769977e-05, 18),\n",
       "             (1.4529400205357826e-05, 17),\n",
       "             (1.1166325879363626e-05, 8),\n",
       "             (7.2525723317011674e-06, 6),\n",
       "             (6.043626893279341e-06, 14),\n",
       "             (0.0, 20)])"
      ]
     },
     "execution_count": 9,
     "metadata": {},
     "output_type": "execute_result"
    }
   ],
   "source": [
    "cnt = 0\n",
    "dict = {}\n",
    "for i in model.feature_importances_ :\n",
    "    dict[i] = cnt\n",
    "    cnt = cnt + 1\n",
    "\n",
    "sorted_dictionary = OrderedDict(sorted(dict.items(), key=lambda v: v, reverse=True))\n",
    "sorted_dictionary"
   ]
  },
  {
   "cell_type": "code",
   "execution_count": 10,
   "metadata": {},
   "outputs": [
    {
     "data": {
      "image/png": "[encoded data removed]",
      "text/plain": [
       "<Figure size 720x1080 with 1 Axes>"
      ]
     },
     "metadata": {},
     "output_type": "display_data"
    }
   ],
   "source": [
    "pos = np.arange(41)\n",
    "fig = plt.figure(figsize=(10,15))\n",
    "ax = fig.add_subplot(111)\n",
    "val = model.feature_importances_\n",
    "ax.barh(pos, val, align='center')\n",
    "plt.yticks(pos, headers[:41])\n",
    "fig.subplots_adjust(left=0.4)\n",
    "plt.xlabel('Importance')\n",
    "plt.ylabel('Features')\n",
    "plt.title('Feature Importance Graph')\n",
    "plt.show()"
   ]
  },
  {
   "cell_type": "code",
   "execution_count": 11,
   "metadata": {},
   "outputs": [],
   "source": [
    "result=result.drop(columns=['duration','land','urgent','num_failed_logins','root_shell','su_attempted','num_root','num_file_creations','num_shells','num_access_files','num_outbound_cmds','is_host_login','is_guest_login','rerror_rate'], axis=1)\n"
   ]
  },
  {
   "cell_type": "code",
   "execution_count": 12,
   "metadata": {
    "scrolled": true
   },
   "outputs": [
    {
     "data": {
      "text/html": [
       "<div>\n",
       "<style scoped>\n",
       "    .dataframe tbody tr th:only-of-type {\n",
       "        vertical-align: middle;\n",
       "    }\n",
       "\n",
       "    .dataframe tbody tr th {\n",
       "        vertical-align: top;\n",
       "    }\n",
       "\n",
       "    .dataframe thead th {\n",
       "        text-align: right;\n",
       "    }\n",
       "</style>\n",
       "<table border=\"1\" class=\"dataframe\">\n",
       "  <thead>\n",
       "    <tr style=\"text-align: right;\">\n",
       "      <th></th>\n",
       "      <th>protocol_type</th>\n",
       "      <th>service</th>\n",
       "      <th>flag</th>\n",
       "      <th>src_bytes</th>\n",
       "      <th>dst_bytes</th>\n",
       "      <th>wrong_fragment</th>\n",
       "      <th>hot</th>\n",
       "      <th>logged_in</th>\n",
       "      <th>num_compromised</th>\n",
       "      <th>count</th>\n",
       "      <th>...</th>\n",
       "      <th>dst_host_count</th>\n",
       "      <th>dst_host_srv_count</th>\n",
       "      <th>dst_host_same_srv_rate</th>\n",
       "      <th>dst_host_diff_srv_rate</th>\n",
       "      <th>dst_host_same_src_port_rate</th>\n",
       "      <th>dst_host_srv_diff_host_rate</th>\n",
       "      <th>dst_host_serror_rate</th>\n",
       "      <th>dst_host_srv_serror_rate</th>\n",
       "      <th>dst_host_rerror_rate</th>\n",
       "      <th>dst_host_srv_rerror_rate</th>\n",
       "    </tr>\n",
       "  </thead>\n",
       "  <tbody>\n",
       "    <tr>\n",
       "      <th>0</th>\n",
       "      <td>1</td>\n",
       "      <td>22</td>\n",
       "      <td>9</td>\n",
       "      <td>181</td>\n",
       "      <td>5450</td>\n",
       "      <td>0</td>\n",
       "      <td>0</td>\n",
       "      <td>1</td>\n",
       "      <td>0</td>\n",
       "      <td>8</td>\n",
       "      <td>...</td>\n",
       "      <td>9</td>\n",
       "      <td>9</td>\n",
       "      <td>1.0</td>\n",
       "      <td>0.0</td>\n",
       "      <td>0.11</td>\n",
       "      <td>0.0</td>\n",
       "      <td>0.0</td>\n",
       "      <td>0.0</td>\n",
       "      <td>0.0</td>\n",
       "      <td>0.0</td>\n",
       "    </tr>\n",
       "    <tr>\n",
       "      <th>1</th>\n",
       "      <td>1</td>\n",
       "      <td>22</td>\n",
       "      <td>9</td>\n",
       "      <td>239</td>\n",
       "      <td>486</td>\n",
       "      <td>0</td>\n",
       "      <td>0</td>\n",
       "      <td>1</td>\n",
       "      <td>0</td>\n",
       "      <td>8</td>\n",
       "      <td>...</td>\n",
       "      <td>19</td>\n",
       "      <td>19</td>\n",
       "      <td>1.0</td>\n",
       "      <td>0.0</td>\n",
       "      <td>0.05</td>\n",
       "      <td>0.0</td>\n",
       "      <td>0.0</td>\n",
       "      <td>0.0</td>\n",
       "      <td>0.0</td>\n",
       "      <td>0.0</td>\n",
       "    </tr>\n",
       "    <tr>\n",
       "      <th>2</th>\n",
       "      <td>1</td>\n",
       "      <td>22</td>\n",
       "      <td>9</td>\n",
       "      <td>235</td>\n",
       "      <td>1337</td>\n",
       "      <td>0</td>\n",
       "      <td>0</td>\n",
       "      <td>1</td>\n",
       "      <td>0</td>\n",
       "      <td>8</td>\n",
       "      <td>...</td>\n",
       "      <td>29</td>\n",
       "      <td>29</td>\n",
       "      <td>1.0</td>\n",
       "      <td>0.0</td>\n",
       "      <td>0.03</td>\n",
       "      <td>0.0</td>\n",
       "      <td>0.0</td>\n",
       "      <td>0.0</td>\n",
       "      <td>0.0</td>\n",
       "      <td>0.0</td>\n",
       "    </tr>\n",
       "    <tr>\n",
       "      <th>3</th>\n",
       "      <td>1</td>\n",
       "      <td>22</td>\n",
       "      <td>9</td>\n",
       "      <td>219</td>\n",
       "      <td>1337</td>\n",
       "      <td>0</td>\n",
       "      <td>0</td>\n",
       "      <td>1</td>\n",
       "      <td>0</td>\n",
       "      <td>6</td>\n",
       "      <td>...</td>\n",
       "      <td>39</td>\n",
       "      <td>39</td>\n",
       "      <td>1.0</td>\n",
       "      <td>0.0</td>\n",
       "      <td>0.03</td>\n",
       "      <td>0.0</td>\n",
       "      <td>0.0</td>\n",
       "      <td>0.0</td>\n",
       "      <td>0.0</td>\n",
       "      <td>0.0</td>\n",
       "    </tr>\n",
       "    <tr>\n",
       "      <th>4</th>\n",
       "      <td>1</td>\n",
       "      <td>22</td>\n",
       "      <td>9</td>\n",
       "      <td>217</td>\n",
       "      <td>2032</td>\n",
       "      <td>0</td>\n",
       "      <td>0</td>\n",
       "      <td>1</td>\n",
       "      <td>0</td>\n",
       "      <td>6</td>\n",
       "      <td>...</td>\n",
       "      <td>49</td>\n",
       "      <td>49</td>\n",
       "      <td>1.0</td>\n",
       "      <td>0.0</td>\n",
       "      <td>0.02</td>\n",
       "      <td>0.0</td>\n",
       "      <td>0.0</td>\n",
       "      <td>0.0</td>\n",
       "      <td>0.0</td>\n",
       "      <td>0.0</td>\n",
       "    </tr>\n",
       "  </tbody>\n",
       "</table>\n",
       "<p>5 rows × 27 columns</p>\n",
       "</div>"
      ],
      "text/plain": [
       "   protocol_type  service  flag  src_bytes  dst_bytes  wrong_fragment  hot  \\\n",
       "0              1       22     9        181       5450               0    0   \n",
       "1              1       22     9        239        486               0    0   \n",
       "2              1       22     9        235       1337               0    0   \n",
       "3              1       22     9        219       1337               0    0   \n",
       "4              1       22     9        217       2032               0    0   \n",
       "\n",
       "   logged_in  num_compromised  count            ...             \\\n",
       "0          1                0      8            ...              \n",
       "1          1                0      8            ...              \n",
       "2          1                0      8            ...              \n",
       "3          1                0      6            ...              \n",
       "4          1                0      6            ...              \n",
       "\n",
       "   dst_host_count  dst_host_srv_count  dst_host_same_srv_rate  \\\n",
       "0               9                   9                     1.0   \n",
       "1              19                  19                     1.0   \n",
       "2              29                  29                     1.0   \n",
       "3              39                  39                     1.0   \n",
       "4              49                  49                     1.0   \n",
       "\n",
       "   dst_host_diff_srv_rate  dst_host_same_src_port_rate  \\\n",
       "0                     0.0                         0.11   \n",
       "1                     0.0                         0.05   \n",
       "2                     0.0                         0.03   \n",
       "3                     0.0                         0.03   \n",
       "4                     0.0                         0.02   \n",
       "\n",
       "   dst_host_srv_diff_host_rate  dst_host_serror_rate  \\\n",
       "0                          0.0                   0.0   \n",
       "1                          0.0                   0.0   \n",
       "2                          0.0                   0.0   \n",
       "3                          0.0                   0.0   \n",
       "4                          0.0                   0.0   \n",
       "\n",
       "   dst_host_srv_serror_rate  dst_host_rerror_rate  dst_host_srv_rerror_rate  \n",
       "0                       0.0                   0.0                       0.0  \n",
       "1                       0.0                   0.0                       0.0  \n",
       "2                       0.0                   0.0                       0.0  \n",
       "3                       0.0                   0.0                       0.0  \n",
       "4                       0.0                   0.0                       0.0  \n",
       "\n",
       "[5 rows x 27 columns]"
      ]
     },
     "execution_count": 12,
     "metadata": {},
     "output_type": "execute_result"
    }
   ],
   "source": [
    "result[0:5]"
   ]
  },
  {
   "cell_type": "code",
   "execution_count": 13,
   "metadata": {},
   "outputs": [],
   "source": [
    "df_protocol_type = pd.DataFrame(le.fit_transform(result['protocol_type']), columns=['one_hot_encoded'])\n",
    "encode_text_dummy(df_protocol_type, 'one_hot_encoded')\n",
    "one_hot_protocol_type = df_protocol_type.values\n",
    "\n",
    "df_service = pd.DataFrame(le.fit_transform(result['service']), columns=['one_hot_encoded'])\n",
    "encode_text_dummy(df_service, 'one_hot_encoded')\n",
    "one_hot_service = df_service.values\n",
    "\n",
    "df_flag = pd.DataFrame(le.fit_transform(result['flag']), columns=['one_hot_encoded'])\n",
    "encode_text_dummy(df_flag, 'one_hot_encoded')\n",
    "one_hot_flag = df_flag.values\n",
    "\n",
    "df_logged_in = pd.DataFrame(le.fit_transform(result['logged_in']), columns=['one_hot_encoded'])\n",
    "encode_text_dummy(df_logged_in, 'one_hot_encoded')\n",
    "one_hot_logged_in = df_logged_in.values"
   ]
  },
  {
   "cell_type": "code",
   "execution_count": 14,
   "metadata": {},
   "outputs": [
    {
     "name": "stdout",
     "output_type": "stream",
     "text": [
      "(494021, 82)\n"
     ]
    }
   ],
   "source": [
    "one_hot_combine = np.concatenate([one_hot_protocol_type, one_hot_service, one_hot_flag, one_hot_logged_in],axis=1)\n",
    "\n",
    "print(one_hot_combine.shape)"
   ]
  },
  {
   "cell_type": "code",
   "execution_count": 15,
   "metadata": {},
   "outputs": [],
   "source": [
    "df_result=result.copy()"
   ]
  },
  {
   "cell_type": "code",
   "execution_count": 16,
   "metadata": {},
   "outputs": [],
   "source": [
    "df_result['normalize_src_bytes'] = zscore(df_result['src_bytes'])\n",
    "df_result['normalize_dst_bytes'] = zscore(df_result['dst_bytes'])\n",
    "df_result['normalize_wrong_fragment'] = zscore(df_result['wrong_fragment'])\n",
    "\n",
    "df_result['normalize_hot'] = zscore(df_result['hot'])\n",
    "df_result['normalize_logged_in'] = zscore(df_result['logged_in'])\n",
    "df_result['normalize_num_compromised']=zscore(df_result['num_compromised'])\n",
    "\n",
    "# df_result['normalize_num_outbound_cmds'] = zscore(df_result['num_outbound_cmds']) All values are zero in this so unable for zscore\n",
    "\n",
    "df_result['normalize_count'] = zscore(df_result['count'])\n",
    "df_result['normalize_srv_count'] = zscore(df_result['srv_count'])\n",
    "df_result['normalize_serror_rate'] = zscore(df_result['serror_rate'])\n",
    "\n",
    "df_result['normalize_srv_serror_rate']=zscore(df_result['srv_serror_rate'])\n",
    "df_result['normalize_srv_rerror_rate']=zscore(df_result['srv_rerror_rate'])\n",
    "df_result['normalize_same_srv_rate'] = zscore(df_result['same_srv_rate'])\n",
    "\n",
    "df_result['normalize_diff_srv_rate'] = zscore(df_result['diff_srv_rate'])\n",
    "df_result['normalize_srv_diff_host_rate']=zscore(df_result['srv_diff_host_rate'])\n",
    "df_result['normalize_dst_host_count'] = zscore(df_result['dst_host_count'])\n",
    "\n",
    "df_result['normalize_dst_host_srv_count'] = zscore(df_result['dst_host_srv_count'])\n",
    "df_result['normalize_dst_host_same_srv_rate'] = zscore(df_result['dst_host_same_srv_rate'])\n",
    "df_result['normalize_dst_host_diff_srv_rate'] = zscore(df_result['dst_host_diff_srv_rate'])\n",
    "\n",
    "df_result['normalize_dst_host_same_src_port_rate'] = zscore(df_result['dst_host_same_src_port_rate'])\n",
    "df_result['normalize_dst_host_srv_diff_host_rate'] = zscore(df_result['dst_host_srv_diff_host_rate'])\n",
    "df_result['normalize_dst_host_serror_rate'] = zscore(df_result['dst_host_serror_rate'])\n",
    "\n",
    "df_result['normalize_dst_host_srv_serror_rate'] = zscore(df_result['dst_host_srv_serror_rate'])\n",
    "df_result['normalize_dst_host_rerror_rate'] = zscore(df_result['dst_host_rerror_rate'])\n",
    "df_result['normalize_dst_host_srv_rerror_rate'] = zscore(df_result['dst_host_srv_rerror_rate'])"
   ]
  },
  {
   "cell_type": "code",
   "execution_count": 17,
   "metadata": {},
   "outputs": [],
   "source": [
    "x2 = df_result['normalize_src_bytes'].values.reshape( len(df_result['src_bytes']),1)\n",
    "x3 = df_result['normalize_dst_bytes'].values.reshape( len(df_result['dst_bytes']),1)\n",
    "x4 = df_result['normalize_wrong_fragment'].values.reshape( len(df_result['wrong_fragment']),1)\n",
    "\n",
    "x6 = df_result['normalize_hot'].values.reshape( len(df_result['hot']),1)\n",
    "x8 = df_result['normalize_logged_in'].values.reshape( len(df_result['logged_in']),1)\n",
    "x9 = df_result['normalize_num_compromised'].values.reshape( len(df_result['num_compromised']),1)\n",
    "\n",
    "x14 = df_result['normalize_count'].values.reshape( len(df_result['count']),1)\n",
    "x15 = df_result['normalize_srv_count'].values.reshape( len(df_result['srv_count']),1)\n",
    "x16 = df_result['normalize_serror_rate'].values.reshape( len(df_result['serror_rate']),1)\n",
    "\n",
    "x17 = df_result['normalize_srv_serror_rate'].values.reshape( len(df_result['srv_serror_rate']),1)\n",
    "x19 = df_result['normalize_srv_rerror_rate'].values.reshape( len(df_result['srv_rerror_rate']),1)\n",
    "x20 = df_result['normalize_same_srv_rate'].values.reshape( len(df_result['same_srv_rate']),1)\n",
    "\n",
    "x21 = df_result['normalize_diff_srv_rate'].values.reshape( len(df_result['diff_srv_rate']),1)\n",
    "x22 = df_result['normalize_srv_diff_host_rate'].values.reshape( len(df_result['srv_diff_host_rate']),1)\n",
    "x23 = df_result['normalize_dst_host_count'].values.reshape( len(df_result['dst_host_count']),1)\n",
    "\n",
    "x24 = df_result['normalize_dst_host_srv_count'].values.reshape( len(df_result['dst_host_srv_count']),1)\n",
    "x25 = df_result['normalize_dst_host_same_srv_rate'].values.reshape( len(df_result['dst_host_same_srv_rate']),1)\n",
    "x26 = df_result['normalize_dst_host_diff_srv_rate'].values.reshape( len(df_result['dst_host_diff_srv_rate']),1)\n",
    "\n",
    "x27 = df_result['normalize_dst_host_same_src_port_rate'].values.reshape( len(df_result['dst_host_same_src_port_rate']),1)\n",
    "x28 = df_result['normalize_dst_host_srv_diff_host_rate'].values.reshape( len(df_result['dst_host_srv_diff_host_rate']),1)\n",
    "x29 = df_result['normalize_dst_host_serror_rate'].values.reshape( len(df_result['dst_host_serror_rate']),1)\n",
    "\n",
    "x30 = df_result['normalize_dst_host_srv_serror_rate'].values.reshape( len(df_result['dst_host_srv_serror_rate']),1)\n",
    "x31 = df_result['normalize_dst_host_rerror_rate'].values.reshape( len(df_result['dst_host_rerror_rate']),1)\n",
    "x32 = df_result['normalize_dst_host_srv_rerror_rate'].values.reshape( len(df_result['dst_host_srv_rerror_rate']),1)"
   ]
  },
  {
   "cell_type": "code",
   "execution_count": 18,
   "metadata": {},
   "outputs": [
    {
     "name": "stdout",
     "output_type": "stream",
     "text": [
      "[0 0 0 0 0]\n"
     ]
    }
   ],
   "source": [
    "print(out_binary[0:5])"
   ]
  },
  {
   "cell_type": "markdown",
   "metadata": {},
   "source": [
    "<h4>Applying Logistic regression</h4>"
   ]
  },
  {
   "cell_type": "code",
   "execution_count": 19,
   "metadata": {},
   "outputs": [
    {
     "name": "stdout",
     "output_type": "stream",
     "text": [
      "(494021, 106)\n",
      "(494021,)\n"
     ]
    }
   ],
   "source": [
    "x = np.concatenate([one_hot_combine,x2,x3,x4,x6,x8,x9,x14,x15,x16,x17,x19,x20,x21,x22,x23,x24,x25,x26,x27,x28,x29,x30,x31,x32],axis=1)\n",
    "y=df_binary['out_binary']\n",
    "x_train, x_test, y_train, y_test = train_test_split(x,y, test_size=0.20, random_state=42)\n",
    "print(x.shape)\n",
    "print(y.shape)\n"
   ]
  },
  {
   "cell_type": "code",
   "execution_count": 21,
   "metadata": {},
   "outputs": [
    {
     "name": "stdout",
     "output_type": "stream",
     "text": [
      "Final accuracy: 0.99470674561004\n"
     ]
    }
   ],
   "source": [
    "from sklearn.linear_model import LogisticRegression\n",
    "\n",
    "# instantiate the model (using the default parameters)\n",
    "logreg = LogisticRegression()\n",
    "\n",
    "# fit the model with data\n",
    "logreg.fit(x_train, y_train)\n",
    "\n",
    "# predict the response for new observations\n",
    "Log_pred=logreg.predict(x_test)\n",
    "\n",
    "# Measure accuracy\n",
    "score = metrics.accuracy_score(y_test, Log_pred)\n",
    "print(\"Final accuracy: {}\".format(score))"
   ]
  },
  {
   "cell_type": "markdown",
   "metadata": {},
   "source": [
    "<h4>Confusion Matrix: Logistic Regression</h4>"
   ]
  },
  {
   "cell_type": "code",
   "execution_count": 22,
   "metadata": {},
   "outputs": [
    {
     "name": "stdout",
     "output_type": "stream",
     "text": [
      "[[19227   126]\n",
      " [  397 79055]]\n",
      "Plotting confusion matrix\n"
     ]
    },
    {
     "data": {
      "image/png": "[encoded data removed]",
      "text/plain": [
       "<Figure size 432x288 with 2 Axes>"
      ]
     },
     "metadata": {},
     "output_type": "display_data"
    },
    {
     "name": "stdout",
     "output_type": "stream",
     "text": [
      "             precision    recall  f1-score   support\n",
      "\n",
      "          0       0.98      0.99      0.99     19353\n",
      "          1       1.00      1.00      1.00     79452\n",
      "\n",
      "avg / total       0.99      0.99      0.99     98805\n",
      "\n",
      "Precision : 0.99470674561004\n",
      "Recall : 0.9950032724160499\n",
      "F1 Score : 0.9967030819564656\n"
     ]
    }
   ],
   "source": [
    "# Compute confusion matrix\n",
    "\n",
    "cm = confusion_matrix(y_test, Log_pred)\n",
    "print(cm)\n",
    "print('Plotting confusion matrix')\n",
    "plt.figure()\n",
    "plot_confusion_matrix(cm, logreg.classes_)\n",
    "plt.show()\n",
    "\n",
    "print(classification_report(y_test, Log_pred))\n",
    "print(\"Precision :\", metrics.accuracy_score(y_test, Log_pred))\n",
    "print(\"Recall :\", metrics.recall_score(y_test, Log_pred))\n",
    "print(\"F1 Score :\", metrics.f1_score(y_test, Log_pred))"
   ]
  },
  {
   "cell_type": "markdown",
   "metadata": {},
   "source": [
    "<h4>ROC Curve: Logistic Regression</h4>"
   ]
  },
  {
   "cell_type": "code",
   "execution_count": 23,
   "metadata": {},
   "outputs": [
    {
     "data": {
      "image/png": "[encoded data removed]",
      "text/plain": [
       "<Figure size 432x288 with 1 Axes>"
      ]
     },
     "metadata": {},
     "output_type": "display_data"
    }
   ],
   "source": [
    "# Plot an ROC. pred - the predictions, y - the expected output.\n",
    "plot_roc(Log_pred,y_test)"
   ]
  }
 ],
 "metadata": {
  "kernelspec": {
   "display_name": "Python 3",
   "language": "python",
   "name": "python3"
  },
  "language_info": {
   "codemirror_mode": {
    "name": "ipython",
    "version": 3
   },
   "file_extension": ".py",
   "mimetype": "text/x-python",
   "name": "python",
   "nbconvert_exporter": "python",
   "pygments_lexer": "ipython3",
   "version": "3.6.5"
  }
 },
 "nbformat": 4,
 "nbformat_minor": 2
}
