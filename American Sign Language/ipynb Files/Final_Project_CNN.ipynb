{
 "cells": [
  {
   "cell_type": "code",
   "execution_count": 1,
   "metadata": {},
   "outputs": [
    {
     "name": "stderr",
     "output_type": "stream",
     "text": [
      "/anaconda3/lib/python3.6/importlib/_bootstrap.py:219: RuntimeWarning: compiletime version 3.5 of module 'tensorflow.python.framework.fast_tensor_util' does not match runtime version 3.6\n",
      "  return f(*args, **kwds)\n",
      "/anaconda3/lib/python3.6/site-packages/h5py/__init__.py:36: FutureWarning: Conversion of the second argument of issubdtype from `float` to `np.floating` is deprecated. In future, it will be treated as `np.float64 == np.dtype(float).type`.\n",
      "  from ._conv import register_converters as _register_converters\n",
      "Using TensorFlow backend.\n"
     ]
    }
   ],
   "source": [
    "%matplotlib inline\n",
    "import matplotlib.pyplot as plt\n",
    "import collections\n",
    "import numpy as np\n",
    "import pandas as pd\n",
    "import shutil\n",
    "import os\n",
    "import tensorflow as tf\n",
    "import keras\n",
    "from keras.datasets import mnist\n",
    "from keras.models import Sequential\n",
    "from keras.layers.convolutional import Conv1D\n",
    "from sklearn import preprocessing\n",
    "from scipy.stats import zscore\n",
    "from sklearn.metrics import roc_curve, auc\n",
    "from sklearn.model_selection import train_test_split\n",
    "from sklearn import metrics\n",
    "from keras.layers.core import Dense, Activation\n",
    "from keras.callbacks import EarlyStopping\n",
    "from keras.callbacks import ModelCheckpoint\n",
    "from sklearn import svm, datasets\n",
    "from sklearn.model_selection import train_test_split\n",
    "from sklearn.metrics import confusion_matrix, classification_report\n",
    "from keras.datasets import cifar10\n",
    "from keras.layers import Dense, Dropout, Activation, Flatten\n",
    "from keras.layers import Conv2D, MaxPooling2D\n",
    "from keras.preprocessing.image import ImageDataGenerator\n",
    "\n",
    "def encode_text_dummy(df, name):\n",
    "    dummies = pd.get_dummies(df[name])\n",
    "    for x in dummies.columns:\n",
    "        dummy_name = \"{}-{}\".format(name, x)\n",
    "        df[dummy_name] = dummies[x]\n",
    "    df.drop(name, axis=1, inplace=True)\n",
    "\n",
    "# Encode text values to a single dummy variable.  The new columns (which do not replace the old) will have a 1\n",
    "# at every location where the original column (name) matches each of the target_values.  One column is added for\n",
    "# each target value.\n",
    "def encode_text_single_dummy(df, name, target_values):\n",
    "    for tv in target_values:\n",
    "        l = list(df[name].astype(str))\n",
    "        l = [1 if str(x) == str(tv) else 0 for x in l]\n",
    "        name2 = \"{}-{}\".format(name, tv)\n",
    "        df[name2] = l\n",
    "\n",
    "# Encode text values to indexes(i.e. [1],[2],[3] for red,green,blue).\n",
    "def encode_text_index(df, name):\n",
    "    le = preprocessing.LabelEncoder()\n",
    "    df[name] = le.fit_transform(df[name])\n",
    "    return le.classes_\n",
    "\n",
    "# Encode a numeric column as zscores\n",
    "def encode_numeric_zscore(df, name, mean=None, sd=None):\n",
    "    if mean is None:\n",
    "        mean = df[name].mean()\n",
    "\n",
    "    if sd is None:\n",
    "        sd = df[name].std()\n",
    "\n",
    "    df[name] = (df[name] - mean) / sd\n",
    "\n",
    "\n",
    "# Convert all missing values in the specified column to the median\n",
    "def missing_median(df, name):\n",
    "    med = df[name].median()\n",
    "    df[name] = df[name].fillna(med)\n",
    "\n",
    "\n",
    "# Convert all missing values in the specified column to the default\n",
    "def missing_default(df, name, default_value):\n",
    "    df[name] = df[name].fillna(default_value)\n",
    "\n",
    "\n",
    "# Convert a Pandas dataframe to the x,y inputs that TensorFlow needs\n",
    "def to_xy(df, target):\n",
    "    result = []\n",
    "    for x in df.columns:\n",
    "        if x != target:\n",
    "            result.append(x)\n",
    "    # find out the type of the target column. \n",
    "    target_type = df[target].dtypes\n",
    "    target_type = target_type[0] if isinstance(target_type, collections.Sequence) else target_type\n",
    "    # Encode to int for classification, float otherwise. TensorFlow likes 32 bits.\n",
    "    if target_type in (np.int64, np.int32):\n",
    "        # Classification\n",
    "        dummies = pd.get_dummies(df[target])\n",
    "        return df[result].values.astype(np.float32), dummies.values.astype(np.float32)\n",
    "    else:\n",
    "        # Regression\n",
    "        return df[result].values.astype(np.float32), df[target].values.astype(np.float32)\n",
    "\n",
    "# Nicely formatted time string\n",
    "def hms_string(sec_elapsed):\n",
    "    h = int(sec_elapsed / (60 * 60))\n",
    "    m = int((sec_elapsed % (60 * 60)) / 60)\n",
    "    s = sec_elapsed % 60\n",
    "    return \"{}:{:>02}:{:>05.2f}\".format(h, m, s)\n",
    "\n",
    "# Regression chart.\n",
    "def chart_regression(pred,y,sort=True):\n",
    "    t = pd.DataFrame({'pred' : pred, 'y' : y.flatten()})\n",
    "    if sort:\n",
    "        t.sort_values(by=['y'],inplace=True)\n",
    "    a = plt.plot(t['y'].tolist(),label='expected')\n",
    "    b = plt.plot(t['pred'].tolist(),label='prediction')\n",
    "    plt.ylabel('output')\n",
    "    plt.legend()\n",
    "    plt.show()\n",
    "\n",
    "# Remove all rows where the specified column is +/- sd standard deviations\n",
    "def remove_outliers(df, name, sd):\n",
    "    drop_rows = df.index[(np.abs(df[name] - df[name].mean()) >= (sd * df[name].std()))]\n",
    "    df.drop(drop_rows, axis=0, inplace=True)\n",
    "\n",
    "# Encode a column to a range between normalized_low and normalized_high.\n",
    "def encode_numeric_range(df, name, normalized_low=-1, normalized_high=1,\n",
    "                         data_low=None, data_high=None):\n",
    "    if data_low is None:\n",
    "        data_low = min(df[name])\n",
    "        data_high = max(df[name])\n",
    "\n",
    "    df[name] = ((df[name] - data_low) / (data_high - data_low)) \\\n",
    "               * (normalized_high - normalized_low) + normalized_low\n",
    "\n",
    "# Plot a confusion matrix.\n",
    "# cm is the confusion matrix, names are the names of the classes.\n",
    "def plot_confusion_matrix(cm, names, title='Confusion matrix', cmap=plt.cm.Blues):\n",
    "    plt.imshow(cm, interpolation='nearest', cmap=cmap)\n",
    "    plt.title(title)\n",
    "    plt.colorbar()\n",
    "    tick_marks = np.arange(len(names))\n",
    "    plt.xticks(tick_marks, names, rotation=45)\n",
    "    plt.yticks(tick_marks, names)\n",
    "    plt.tight_layout()\n",
    "    plt.ylabel('True label')\n",
    "    plt.xlabel('Predicted label')\n",
    "    \n",
    "\n",
    "# Plot an ROC. pred - the predictions, y - the expected output.\n",
    "def plot_roc(pred,y):\n",
    "    fpr, tpr, thresholds = roc_curve(y, pred)\n",
    "    roc_auc = auc(fpr, tpr)\n",
    "\n",
    "    plt.figure()\n",
    "    plt.plot(fpr, tpr, label='ROC curve (area = %0.2f)' % roc_auc)\n",
    "    plt.plot([0, 1], [0, 1], 'k--')\n",
    "    plt.xlim([0.0, 1.0])\n",
    "    plt.ylim([0.0, 1.05])\n",
    "    plt.xlabel('False Positive Rate')\n",
    "    plt.ylabel('True Positive Rate')\n",
    "    plt.title('Receiver Operating Characteristic (ROC)')\n",
    "    plt.legend(loc=\"lower right\")\n",
    "    plt.show()\n"
   ]
  },
  {
   "cell_type": "code",
   "execution_count": 2,
   "metadata": {},
   "outputs": [],
   "source": [
    "import numpy as np\n",
    "from skimage import color, exposure, transform\n",
    "\n",
    "NUM_CLASSES = 26\n",
    "IMG_SIZE = 200\n",
    "\n",
    "\n",
    "def preprocess_img_hsv(img):\n",
    "    # Histogram normalization in v channel\n",
    "    hsv = color.rgb2hsv(img)\n",
    "    hsv[:, :, 2] = exposure.equalize_hist(hsv[:, :, 2])\n",
    "    img = color.hsv2rgb(hsv)\n",
    "\n",
    "    # central square crop\n",
    "    min_side = min(img.shape[:-1])\n",
    "    centre = img.shape[0] // 2, img.shape[1] // 2\n",
    "    img = img[centre[0] - min_side // 2:centre[0] + min_side // 2,\n",
    "              centre[1] - min_side // 2:centre[1] + min_side // 2,\n",
    "              :]\n",
    "\n",
    "    # rescale to standard size\n",
    "    img = transform.resize(img, (IMG_SIZE, IMG_SIZE))\n",
    "\n",
    "    # roll color axis to axis 0\n",
    "    img = np.rollaxis(img, -1)\n",
    "\n",
    "    return img\n",
    "\n",
    "\n",
    "import sys\n",
    "import cv2\n",
    "\n",
    "def preprocessing_img_black_and_white(img):\n",
    "    im_ycrcb = cv2.cvtColor(img, cv2.COLOR_BGR2YCR_CB)\n",
    "    skin_ycrcb_mint = np.array((0, 133, 77))\n",
    "    skin_ycrcb_maxt = np.array((255, 173, 127))\n",
    "    skin_ycrcb = cv2.inRange(im_ycrcb, skin_ycrcb_mint, skin_ycrcb_maxt)\n",
    "    return skin_ycrcb"
   ]
  },
  {
   "cell_type": "code",
   "execution_count": 3,
   "metadata": {},
   "outputs": [
    {
     "name": "stdout",
     "output_type": "stream",
     "text": [
      "0\n",
      "1300\n"
     ]
    }
   ],
   "source": [
    "import os\n",
    "\n",
    "testFiles=[]\n",
    "trainFiles=[]\n",
    "for root, dirs, files in os.walk('./data/asl-alphabet/asl_alphabet_train/'):\n",
    "     for file in files:\n",
    "            if file.endswith('.jpg'):\n",
    "                if not file.endswith('_test.jpg'):\n",
    "                    number=file[1:file.find('.')]\n",
    "                    if not number.isdigit():\n",
    "                        continue\n",
    "                    if(int(number)>50):\n",
    "                        continue\n",
    "                file_path = os.path.join(root,file)\n",
    "                #print(file_path)\n",
    "                if file.endswith('_test.jpg'):\n",
    "                    if (not file.startswith('nothing_') and not file.startswith('space_') and not(file.startswith('del_'))):\n",
    "                        testFiles.append(file_path)\n",
    "                else:\n",
    "                    if ((not \"nothing\" in file) and (not \"space\" in file) and (not \"del\" in file)):\n",
    "                        trainFiles.append(file_path)\n",
    "testFiles.sort()\n",
    "trainFiles.sort()\n",
    "print(len(testFiles))\n",
    "print(len(trainFiles))"
   ]
  },
  {
   "cell_type": "code",
   "execution_count": 4,
   "metadata": {},
   "outputs": [
    {
     "name": "stdout",
     "output_type": "stream",
     "text": [
      "260\n",
      "1300\n"
     ]
    }
   ],
   "source": [
    "#creating the sample set of 20 test images for each alphabet\n",
    "import os\n",
    "\n",
    "testFiles=[]\n",
    "\n",
    "for root, dirs, files in os.walk('./data/asl-alphabet/asl_alphabet_train/'): #asl_alphabet_test_sample\n",
    "     for file in files:\n",
    "            if file.endswith('.jpg'):\n",
    "                if not file.endswith('_test.jpg'):\n",
    "                    number=file[1:file.find('.')]\n",
    "                    if not number.isdigit():\n",
    "                        continue\n",
    "                    if((int(number)<=50) or int(number)>60):\n",
    "                        continue\n",
    "                file_path = os.path.join(root,file)\n",
    "                #print(file_path)\n",
    "                if (not file.startswith('nothing_') and not file.startswith('space_') and not(file.startswith('del_'))):\n",
    "                    testFiles.append(file_path)\n",
    "                    \n",
    "testFiles.sort()\n",
    "trainFiles.sort()\n",
    "print(len(testFiles))\n",
    "print(len(trainFiles))"
   ]
  },
  {
   "cell_type": "code",
   "execution_count": 5,
   "metadata": {
    "scrolled": true
   },
   "outputs": [
    {
     "name": "stdout",
     "output_type": "stream",
     "text": [
      "1300\n",
      "1300\n",
      "[[  0.   0.   0. ...   0.   0.   0.]\n",
      " [  0.   0.   0. ...   0.   0.   0.]\n",
      " [  0.   0. 255. ... 255.   0.   0.]\n",
      " ...\n",
      " [  0.   0. 255. ...   0. 255.   0.]\n",
      " [  0.   0.   0. ... 255.   0.   0.]\n",
      " [  0.   0.   0. ...   0.   0.   0.]]\n"
     ]
    }
   ],
   "source": [
    "from skimage import io\n",
    "import numpy as np\n",
    "j=0\n",
    "# numpy_array_train = np.empty([78000,200,200,3])\n",
    "x_train = np.empty([1300,200,200])\n",
    "y_train = []\n",
    "y_train_for_df = []\n",
    "alphabet_array = []\n",
    "alphabet_array.append('A')\n",
    "alphabet_array.append('B')\n",
    "alphabet_array.append('C')\n",
    "alphabet_array.append('D')\n",
    "alphabet_array.append('E')\n",
    "alphabet_array.append('F')\n",
    "alphabet_array.append('G')\n",
    "alphabet_array.append('H')\n",
    "alphabet_array.append('I')\n",
    "alphabet_array.append('J')\n",
    "alphabet_array.append('K')\n",
    "alphabet_array.append('L')\n",
    "alphabet_array.append('M')\n",
    "alphabet_array.append('N')\n",
    "alphabet_array.append('O')\n",
    "alphabet_array.append('P')\n",
    "alphabet_array.append('Q')\n",
    "alphabet_array.append('R')\n",
    "alphabet_array.append('S')\n",
    "alphabet_array.append('T')\n",
    "alphabet_array.append('U')\n",
    "alphabet_array.append('V')\n",
    "alphabet_array.append('W')\n",
    "alphabet_array.append('X')\n",
    "alphabet_array.append('Y')\n",
    "alphabet_array.append('Z')\n",
    "k=0\n",
    "print(len(trainFiles))\n",
    "for i in trainFiles:    \n",
    "    x_train[j]=preprocessing_img_black_and_white(io.imread(i))\n",
    "    j=j+1\n",
    "    y_train.append(alphabet_array[k])\n",
    "    if (j%50) == 0: #j%3000 for complete\n",
    "        k=k+1\n",
    "\n",
    "print(len(x_train))\n",
    "print(x_train[1299])"
   ]
  },
  {
   "cell_type": "code",
   "execution_count": 6,
   "metadata": {
    "scrolled": true
   },
   "outputs": [
    {
     "data": {
      "text/plain": [
       "(260, 200, 200)"
      ]
     },
     "execution_count": 6,
     "metadata": {},
     "output_type": "execute_result"
    }
   ],
   "source": [
    "from skimage import io\n",
    "import numpy as np\n",
    "j=0\n",
    "k=0\n",
    "y_test = []\n",
    "x_test = np.empty([260,200,200]) \n",
    "\n",
    "for i in testFiles:    \n",
    "    x_test[j]=preprocessing_img_black_and_white(io.imread(i))\n",
    "    j=j+1\n",
    "    y_test.append(alphabet_array[k])\n",
    "    if (j%10) == 0:\n",
    "        k=k+1\n",
    "\n",
    "\n",
    "x_test.shape"
   ]
  },
  {
   "cell_type": "code",
   "execution_count": 7,
   "metadata": {},
   "outputs": [
    {
     "name": "stdout",
     "output_type": "stream",
     "text": [
      "(1300, 200, 200)\n",
      "(260, 200, 200)\n",
      "(1300,)\n",
      "(260,)\n"
     ]
    }
   ],
   "source": [
    "y_train_np=np.asarray(y_train)\n",
    "y_test_np = np.asarray(y_test)\n",
    "print(x_train.shape)\n",
    "print(x_test.shape)\n",
    "print(y_train_np.shape)\n",
    "print(y_test_np.shape)"
   ]
  },
  {
   "cell_type": "code",
   "execution_count": 8,
   "metadata": {},
   "outputs": [],
   "source": [
    "x_train = x_train.reshape(x_train.shape[0], 200, 200, 1)\n",
    "x_test = x_test.reshape(x_test.shape[0], 200, 200, 1)\n"
   ]
  },
  {
   "cell_type": "code",
   "execution_count": 9,
   "metadata": {},
   "outputs": [
    {
     "name": "stdout",
     "output_type": "stream",
     "text": [
      "float64\n",
      "float64\n"
     ]
    }
   ],
   "source": [
    "print(x_train.dtype)\n",
    "print(x_test.dtype)\n",
    "\n",
    "x_train = x_train.astype('float32')\n",
    "x_test = x_test.astype('float32')\n"
   ]
  },
  {
   "cell_type": "code",
   "execution_count": 10,
   "metadata": {},
   "outputs": [],
   "source": [
    "# normalize the data values to the range [0, 1]\n",
    "x_train /= 255\n",
    "x_test /= 255"
   ]
  },
  {
   "cell_type": "code",
   "execution_count": 11,
   "metadata": {},
   "outputs": [],
   "source": [
    "#Label Encoding\n",
    "from sklearn import preprocessing\n",
    "le = preprocessing.LabelEncoder()\n",
    "\n",
    "y_train = le.fit_transform(y_train_np)\n",
    "df_y_train = pd.DataFrame(y_train, columns=['one_hot_encoded'])\n",
    "encode_text_dummy(df_y_train, 'one_hot_encoded')\n",
    "y_train = df_y_train.values\n",
    "\n",
    "\n",
    "y_test = le.fit_transform(y_test_np)\n",
    "df_y_test = pd.DataFrame(y_test, columns=['one_hot_encoded'])\n",
    "encode_text_dummy(df_y_test, 'one_hot_encoded')\n",
    "y_test = df_y_test.values"
   ]
  },
  {
   "cell_type": "code",
   "execution_count": 12,
   "metadata": {},
   "outputs": [
    {
     "name": "stdout",
     "output_type": "stream",
     "text": [
      "_________________________________________________________________\n",
      "Layer (type)                 Output Shape              Param #   \n",
      "=================================================================\n",
      "conv2d_1 (Conv2D)            (None, 198, 198, 200)     2000      \n",
      "_________________________________________________________________\n",
      "conv2d_2 (Conv2D)            (None, 198, 197, 167)     66967     \n",
      "_________________________________________________________________\n",
      "dense_1 (Dense)              (None, 198, 197, 92)      15456     \n",
      "_________________________________________________________________\n",
      "dropout_1 (Dropout)          (None, 198, 197, 92)      0         \n",
      "_________________________________________________________________\n",
      "flatten_1 (Flatten)          (None, 3588552)           0         \n",
      "_________________________________________________________________\n",
      "dense_2 (Dense)              (None, 26)                93302378  \n",
      "=================================================================\n",
      "Total params: 93,386,801\n",
      "Trainable params: 93,386,801\n",
      "Non-trainable params: 0\n",
      "_________________________________________________________________\n"
     ]
    }
   ],
   "source": [
    "input_shape = (200, 200, 1)\n",
    "cnn2d = Sequential()\n",
    "cnn2d.add(Conv2D(200, kernel_size=(3, 3), strides=(1,1), padding='valid',\n",
    "                 activation='relu',\n",
    "                 input_shape=input_shape))  \n",
    "cnn2d.add(Conv2D(167, (1,2), activation='relu'))\n",
    "cnn2d.add(Dense(92, activation='relu'))\n",
    "cnn2d.add(Dropout(0.7))\n",
    "cnn2d.add(Flatten())\n",
    "cnn2d.add(Dense(y_train.shape[1], activation='softmax'))\n",
    "cnn2d.compile(loss='categorical_crossentropy', optimizer='adam')\n",
    "\n",
    "monitor_cnn = EarlyStopping(monitor='val_loss', min_delta=1e-5, patience=5, verbose=1, mode='auto')\n",
    "cnn2d.summary()\n"
   ]
  },
  {
   "cell_type": "code",
   "execution_count": 13,
   "metadata": {},
   "outputs": [
    {
     "name": "stdout",
     "output_type": "stream",
     "text": [
      "Train on 1300 samples, validate on 260 samples\n",
      "Epoch 1/100\n",
      " - 616s - loss: 1.7572 - val_loss: 2.7716\n",
      "Epoch 2/100\n",
      " - 599s - loss: 0.1979 - val_loss: 2.9444\n",
      "Epoch 3/100\n",
      " - 600s - loss: 0.0328 - val_loss: 1.9579\n",
      "Epoch 4/100\n",
      " - 590s - loss: 0.0023 - val_loss: 1.8423\n",
      "Epoch 5/100\n",
      " - 588s - loss: 1.7718e-04 - val_loss: 2.1748\n",
      "Epoch 6/100\n",
      " - 594s - loss: 1.1309e-04 - val_loss: 2.2670\n",
      "Epoch 7/100\n",
      " - 597s - loss: 6.0628e-05 - val_loss: 2.3069\n",
      "Epoch 8/100\n",
      " - 592s - loss: 2.5229e-05 - val_loss: 2.3392\n",
      "Epoch 9/100\n",
      " - 590s - loss: 1.9795e-05 - val_loss: 2.3340\n",
      "Epoch 00009: early stopping\n",
      "Elapsed time: 1:29:28.40\n"
     ]
    }
   ],
   "source": [
    "import time\n",
    "from sklearn import metrics\n",
    "\n",
    "start_time = time.time()\n",
    "\n",
    "cnn2d.fit(x_train, y_train,     \n",
    "              epochs=100,\n",
    "              batch_size = 128,\n",
    "              verbose=2,\n",
    "              callbacks=[monitor_cnn],\n",
    "              validation_data=(x_test, y_test))\n",
    "\n",
    "elapsed_time = time.time() - start_time\n",
    "print(\"Elapsed time: {}\".format(hms_string(elapsed_time)))"
   ]
  },
  {
   "cell_type": "code",
   "execution_count": 14,
   "metadata": {},
   "outputs": [
    {
     "name": "stdout",
     "output_type": "stream",
     "text": [
      "Accuracy: 0.7538461538461538\n",
      "Averaged F1: 0.7390270171126244\n",
      "             precision    recall  f1-score   support\n",
      "\n",
      "          0       1.00      0.10      0.18        10\n",
      "          1       0.71      1.00      0.83        10\n",
      "          2       0.47      0.90      0.62        10\n",
      "          3       1.00      1.00      1.00        10\n",
      "          4       1.00      0.50      0.67        10\n",
      "          5       0.91      1.00      0.95        10\n",
      "          6       1.00      1.00      1.00        10\n",
      "          7       0.90      0.90      0.90        10\n",
      "          8       0.90      0.90      0.90        10\n",
      "          9       1.00      1.00      1.00        10\n",
      "         10       1.00      1.00      1.00        10\n",
      "         11       1.00      1.00      1.00        10\n",
      "         12       1.00      0.30      0.46        10\n",
      "         13       0.62      1.00      0.77        10\n",
      "         14       1.00      1.00      1.00        10\n",
      "         15       1.00      1.00      1.00        10\n",
      "         16       1.00      0.20      0.33        10\n",
      "         17       1.00      0.90      0.95        10\n",
      "         18       1.00      1.00      1.00        10\n",
      "         19       0.86      0.60      0.71        10\n",
      "         20       1.00      0.50      0.67        10\n",
      "         21       0.28      0.90      0.43        10\n",
      "         22       1.00      0.20      0.33        10\n",
      "         23       1.00      0.20      0.33        10\n",
      "         24       0.38      1.00      0.56        10\n",
      "         25       0.83      0.50      0.62        10\n",
      "\n",
      "avg / total       0.88      0.75      0.74       260\n",
      "\n"
     ]
    }
   ],
   "source": [
    "from sklearn import metrics\n",
    "\n",
    "y_true = np.argmax(y_test,axis=1)\n",
    "cnn_pred = cnn2d.predict(x_test)\n",
    "cnn_pred = np.argmax(cnn_pred,axis=1)\n",
    "\n",
    "score = metrics.accuracy_score(y_true, cnn_pred)\n",
    "print('Accuracy: {}'.format(score))\n",
    "\n",
    "\n",
    "f1 = metrics.f1_score(y_true, cnn_pred, average='weighted')\n",
    "print('Averaged F1: {}'.format(f1))\n",
    "\n",
    "           \n",
    "print(metrics.classification_report(y_true, cnn_pred))"
   ]
  },
  {
   "cell_type": "code",
   "execution_count": 15,
   "metadata": {},
   "outputs": [],
   "source": [
    "y_train_col = le.fit_transform(y_train_np)\n",
    "df_y_train = pd.DataFrame(y_train_col, columns=['one_hot_encoded'])\n"
   ]
  },
  {
   "cell_type": "markdown",
   "metadata": {},
   "source": [
    "<h4>Confusion Matrix: CNN</h4>"
   ]
  },
  {
   "cell_type": "code",
   "execution_count": 16,
   "metadata": {},
   "outputs": [
    {
     "name": "stdout",
     "output_type": "stream",
     "text": [
      "Plotting confusion matrix\n"
     ]
    },
    {
     "data": {
      "image/png": "[encoded data removed]",
      "text/plain": [
       "<Figure size 432x288 with 2 Axes>"
      ]
     },
     "metadata": {},
     "output_type": "display_data"
    },
    {
     "name": "stdout",
     "output_type": "stream",
     "text": [
      "             precision    recall  f1-score   support\n",
      "\n",
      "          0       1.00      0.10      0.18        10\n",
      "          1       0.71      1.00      0.83        10\n",
      "          2       0.47      0.90      0.62        10\n",
      "          3       1.00      1.00      1.00        10\n",
      "          4       1.00      0.50      0.67        10\n",
      "          5       0.91      1.00      0.95        10\n",
      "          6       1.00      1.00      1.00        10\n",
      "          7       0.90      0.90      0.90        10\n",
      "          8       0.90      0.90      0.90        10\n",
      "          9       1.00      1.00      1.00        10\n",
      "         10       1.00      1.00      1.00        10\n",
      "         11       1.00      1.00      1.00        10\n",
      "         12       1.00      0.30      0.46        10\n",
      "         13       0.62      1.00      0.77        10\n",
      "         14       1.00      1.00      1.00        10\n",
      "         15       1.00      1.00      1.00        10\n",
      "         16       1.00      0.20      0.33        10\n",
      "         17       1.00      0.90      0.95        10\n",
      "         18       1.00      1.00      1.00        10\n",
      "         19       0.86      0.60      0.71        10\n",
      "         20       1.00      0.50      0.67        10\n",
      "         21       0.28      0.90      0.43        10\n",
      "         22       1.00      0.20      0.33        10\n",
      "         23       1.00      0.20      0.33        10\n",
      "         24       0.38      1.00      0.56        10\n",
      "         25       0.83      0.50      0.62        10\n",
      "\n",
      "avg / total       0.88      0.75      0.74       260\n",
      "\n",
      "Precision : 0.7538461538461538\n"
     ]
    }
   ],
   "source": [
    "y_train_class = encode_text_index(df_y_train, 'one_hot_encoded')\n",
    "#Compute confusion matrix\n",
    "cm = confusion_matrix(y_true, cnn_pred)\n",
    "print('Plotting confusion matrix')\n",
    "\n",
    "plt.figure()\n",
    "plot_confusion_matrix(cm, y_train_class)\n",
    "plt.show()\n",
    "\n",
    "print(classification_report(y_true, cnn_pred))\n",
    "print(\"Precision :\", metrics.accuracy_score(y_true, cnn_pred))\n"
   ]
  },
  {
   "cell_type": "code",
   "execution_count": 27,
   "metadata": {
    "collapsed": true
   },
   "outputs": [
    {
     "name": "stdout",
     "output_type": "stream",
     "text": [
      "_________________________________________________________________\n",
      "Layer (type)                 Output Shape              Param #   \n",
      "=================================================================\n",
      "conv2d_13 (Conv2D)           (None, 99, 99, 200)       2000      \n",
      "_________________________________________________________________\n",
      "conv2d_14 (Conv2D)           (None, 99, 98, 500)       200500    \n",
      "_________________________________________________________________\n",
      "dense_16 (Dense)             (None, 99, 98, 97)        48597     \n",
      "_________________________________________________________________\n",
      "dense_17 (Dense)             (None, 99, 98, 254)       24892     \n",
      "_________________________________________________________________\n",
      "dropout_7 (Dropout)          (None, 99, 98, 254)       0         \n",
      "_________________________________________________________________\n",
      "dense_18 (Dense)             (None, 99, 98, 134)       34170     \n",
      "_________________________________________________________________\n",
      "dense_19 (Dense)             (None, 99, 98, 62)        8370      \n",
      "_________________________________________________________________\n",
      "flatten_7 (Flatten)          (None, 601524)            0         \n",
      "_________________________________________________________________\n",
      "dense_20 (Dense)             (None, 26)                15639650  \n",
      "=================================================================\n",
      "Total params: 15,958,179\n",
      "Trainable params: 15,958,179\n",
      "Non-trainable params: 0\n",
      "_________________________________________________________________\n"
     ]
    }
   ],
   "source": [
    "input_shape = (200, 200, 1)\n",
    "cnn2d = Sequential()\n",
    "cnn2d.add(Conv2D(200, kernel_size=(3, 3), strides=(2,2), padding='valid',\n",
    "                 activation='relu',\n",
    "                 input_shape=input_shape))  \n",
    "cnn2d.add(Conv2D(500, (1,2), activation='relu'))\n",
    "\n",
    "cnn2d.add(Dense(97, activation='relu'))\n",
    "cnn2d.add(Dense(254, activation='relu'))\n",
    "cnn2d.add(Dropout(0.2))\n",
    "cnn2d.add(Dense(134, activation='relu'))\n",
    "cnn2d.add(Dense(62, activation='relu'))\n",
    "cnn2d.add(Flatten())\n",
    "\n",
    "\n",
    "cnn2d.add(Dense(y_train.shape[1], activation='softmax'))\n",
    "cnn2d.compile(loss='categorical_crossentropy', optimizer='adam')\n",
    "\n",
    "monitor_cnn = EarlyStopping(monitor='val_loss', min_delta=1e-5, patience=5, verbose=1, mode='auto')\n",
    "cnn2d.summary()\n",
    "\n"
   ]
  },
  {
   "cell_type": "code",
   "execution_count": 28,
   "metadata": {
    "collapsed": true
   },
   "outputs": [
    {
     "name": "stdout",
     "output_type": "stream",
     "text": [
      "Train on 1300 samples, validate on 260 samples\n",
      "Epoch 1/100\n",
      " - 308s - loss: 1.5973 - val_loss: 2.6814\n",
      "Epoch 2/100\n",
      " - 302s - loss: 0.1497 - val_loss: 2.3537\n",
      "Epoch 3/100\n",
      " - 299s - loss: 0.0270 - val_loss: 2.5046\n",
      "Epoch 4/100\n",
      " - 301s - loss: 0.0043 - val_loss: 2.3726\n",
      "Epoch 5/100\n",
      " - 300s - loss: 4.0707e-04 - val_loss: 2.6753\n",
      "Epoch 6/100\n",
      " - 304s - loss: 1.0305e-04 - val_loss: 2.6765\n",
      "Epoch 7/100\n",
      " - 305s - loss: 1.0759e-05 - val_loss: 2.6869\n",
      "Epoch 00007: early stopping\n",
      "Elapsed time: 0:35:18.72\n"
     ]
    }
   ],
   "source": [
    "import time\n",
    "from sklearn import metrics\n",
    "\n",
    "start_time = time.time()\n",
    "\n",
    "cnn2d.fit(x_train, y_train,     \n",
    "              epochs=100,\n",
    "              batch_size = 128,\n",
    "              verbose=2,\n",
    "              callbacks=[monitor_cnn],\n",
    "              validation_data=(x_test, y_test))\n",
    "\n",
    "elapsed_time = time.time() - start_time\n",
    "print(\"Elapsed time: {}\".format(hms_string(elapsed_time)))"
   ]
  },
  {
   "cell_type": "code",
   "execution_count": 29,
   "metadata": {
    "scrolled": true
   },
   "outputs": [
    {
     "name": "stdout",
     "output_type": "stream",
     "text": [
      "Accuracy: 0.7115384615384616\n",
      "Averaged F1: 0.6865758394000987\n",
      "             precision    recall  f1-score   support\n",
      "\n",
      "          0       1.00      0.50      0.67        10\n",
      "          1       0.83      1.00      0.91        10\n",
      "          2       0.29      0.20      0.24        10\n",
      "          3       0.48      1.00      0.65        10\n",
      "          4       1.00      0.60      0.75        10\n",
      "          5       0.56      0.50      0.53        10\n",
      "          6       1.00      1.00      1.00        10\n",
      "          7       1.00      0.80      0.89        10\n",
      "          8       0.83      1.00      0.91        10\n",
      "          9       1.00      1.00      1.00        10\n",
      "         10       1.00      1.00      1.00        10\n",
      "         11       1.00      1.00      1.00        10\n",
      "         12       1.00      0.10      0.18        10\n",
      "         13       0.53      1.00      0.69        10\n",
      "         14       1.00      1.00      1.00        10\n",
      "         15       1.00      1.00      1.00        10\n",
      "         16       0.00      0.00      0.00        10\n",
      "         17       1.00      0.80      0.89        10\n",
      "         18       0.67      1.00      0.80        10\n",
      "         19       1.00      0.50      0.67        10\n",
      "         20       1.00      0.60      0.75        10\n",
      "         21       0.29      1.00      0.45        10\n",
      "         22       1.00      0.20      0.33        10\n",
      "         23       1.00      0.20      0.33        10\n",
      "         24       0.50      1.00      0.67        10\n",
      "         25       0.62      0.50      0.56        10\n",
      "\n",
      "avg / total       0.79      0.71      0.69       260\n",
      "\n",
      "Plotting confusion matrix\n"
     ]
    },
    {
     "name": "stderr",
     "output_type": "stream",
     "text": [
      "/anaconda3/lib/python3.6/site-packages/sklearn/metrics/classification.py:1135: UndefinedMetricWarning: F-score is ill-defined and being set to 0.0 in labels with no predicted samples.\n",
      "  'precision', 'predicted', average, warn_for)\n",
      "/anaconda3/lib/python3.6/site-packages/sklearn/metrics/classification.py:1135: UndefinedMetricWarning: Precision and F-score are ill-defined and being set to 0.0 in labels with no predicted samples.\n",
      "  'precision', 'predicted', average, warn_for)\n"
     ]
    },
    {
     "data": {
      "image/png": "[encoded data removed]",
      "text/plain": [
       "<Figure size 432x288 with 2 Axes>"
      ]
     },
     "metadata": {},
     "output_type": "display_data"
    },
    {
     "name": "stdout",
     "output_type": "stream",
     "text": [
      "             precision    recall  f1-score   support\n",
      "\n",
      "          0       1.00      0.50      0.67        10\n",
      "          1       0.83      1.00      0.91        10\n",
      "          2       0.29      0.20      0.24        10\n",
      "          3       0.48      1.00      0.65        10\n",
      "          4       1.00      0.60      0.75        10\n",
      "          5       0.56      0.50      0.53        10\n",
      "          6       1.00      1.00      1.00        10\n",
      "          7       1.00      0.80      0.89        10\n",
      "          8       0.83      1.00      0.91        10\n",
      "          9       1.00      1.00      1.00        10\n",
      "         10       1.00      1.00      1.00        10\n",
      "         11       1.00      1.00      1.00        10\n",
      "         12       1.00      0.10      0.18        10\n",
      "         13       0.53      1.00      0.69        10\n",
      "         14       1.00      1.00      1.00        10\n",
      "         15       1.00      1.00      1.00        10\n",
      "         16       0.00      0.00      0.00        10\n",
      "         17       1.00      0.80      0.89        10\n",
      "         18       0.67      1.00      0.80        10\n",
      "         19       1.00      0.50      0.67        10\n",
      "         20       1.00      0.60      0.75        10\n",
      "         21       0.29      1.00      0.45        10\n",
      "         22       1.00      0.20      0.33        10\n",
      "         23       1.00      0.20      0.33        10\n",
      "         24       0.50      1.00      0.67        10\n",
      "         25       0.62      0.50      0.56        10\n",
      "\n",
      "avg / total       0.79      0.71      0.69       260\n",
      "\n",
      "Precision : 0.7115384615384616\n"
     ]
    }
   ],
   "source": [
    "from sklearn import metrics\n",
    "\n",
    "y_true = np.argmax(y_test,axis=1)\n",
    "cnn_pred = cnn2d.predict(x_test)\n",
    "cnn_pred = np.argmax(cnn_pred,axis=1)\n",
    "\n",
    "score = metrics.accuracy_score(y_true, cnn_pred)\n",
    "print('Accuracy: {}'.format(score))\n",
    "\n",
    "\n",
    "f1 = metrics.f1_score(y_true, cnn_pred, average='weighted')\n",
    "print('Averaged F1: {}'.format(f1))\n",
    "\n",
    "           \n",
    "print(metrics.classification_report(y_true, cnn_pred))\n",
    "\n",
    "\n",
    "\n",
    "y_train_class = encode_text_index(df_y_train, 'one_hot_encoded')\n",
    "#Compute confusion matrix\n",
    "cm = confusion_matrix(y_true, cnn_pred)\n",
    "print('Plotting confusion matrix')\n",
    "\n",
    "plt.figure()\n",
    "plot_confusion_matrix(cm, y_train_class)\n",
    "plt.show()\n",
    "\n",
    "print(classification_report(y_true, cnn_pred))\n",
    "print(\"Precision :\", metrics.accuracy_score(y_true, cnn_pred))\n"
   ]
  },
  {
   "cell_type": "code",
   "execution_count": 30,
   "metadata": {},
   "outputs": [
    {
     "name": "stdout",
     "output_type": "stream",
     "text": [
      "_________________________________________________________________\n",
      "Layer (type)                 Output Shape              Param #   \n",
      "=================================================================\n",
      "conv2d_15 (Conv2D)           (None, 64, 64, 200)       20200     \n",
      "_________________________________________________________________\n",
      "conv2d_16 (Conv2D)           (None, 60, 60, 300)       1500300   \n",
      "_________________________________________________________________\n",
      "dense_21 (Dense)             (None, 60, 60, 254)       76454     \n",
      "_________________________________________________________________\n",
      "dropout_8 (Dropout)          (None, 60, 60, 254)       0         \n",
      "_________________________________________________________________\n",
      "dense_22 (Dense)             (None, 60, 60, 134)       34170     \n",
      "_________________________________________________________________\n",
      "dense_23 (Dense)             (None, 60, 60, 62)        8370      \n",
      "_________________________________________________________________\n",
      "flatten_8 (Flatten)          (None, 223200)            0         \n",
      "_________________________________________________________________\n",
      "dense_24 (Dense)             (None, 26)                5803226   \n",
      "=================================================================\n",
      "Total params: 7,442,720\n",
      "Trainable params: 7,442,720\n",
      "Non-trainable params: 0\n",
      "_________________________________________________________________\n"
     ]
    }
   ],
   "source": [
    "input_shape = (200, 200, 1)\n",
    "cnn2d = Sequential()\n",
    "cnn2d.add(Conv2D(200, kernel_size=(10,10), strides=(3,3), padding='valid',\n",
    "                 activation='relu',\n",
    "                 input_shape=input_shape))  \n",
    "cnn2d.add(Conv2D(300, (5,5), activation='relu'))\n",
    "\n",
    "cnn2d.add(Dense(254, activation='relu'))\n",
    "cnn2d.add(Dropout(0.1))\n",
    "cnn2d.add(Dense(134, activation='relu'))\n",
    "cnn2d.add(Dense(62, activation='relu'))\n",
    "cnn2d.add(Flatten())\n",
    "\n",
    "\n",
    "cnn2d.add(Dense(y_train.shape[1], activation='softmax'))\n",
    "cnn2d.compile(loss='categorical_crossentropy', optimizer='adam')\n",
    "\n",
    "monitor_cnn = EarlyStopping(monitor='val_loss', min_delta=1e-5, patience=5, verbose=1, mode='auto')\n",
    "cnn2d.summary()\n",
    "\n"
   ]
  },
  {
   "cell_type": "code",
   "execution_count": 31,
   "metadata": {},
   "outputs": [
    {
     "name": "stdout",
     "output_type": "stream",
     "text": [
      "Train on 1300 samples, validate on 260 samples\n",
      "Epoch 1/100\n",
      " - 314s - loss: 1.9924 - val_loss: 4.0583\n",
      "Epoch 2/100\n",
      " - 312s - loss: 0.4502 - val_loss: 2.8141\n",
      "Epoch 3/100\n",
      " - 312s - loss: 0.0729 - val_loss: 3.1055\n",
      "Epoch 4/100\n",
      " - 312s - loss: 0.0287 - val_loss: 2.6364\n",
      "Epoch 5/100\n",
      " - 310s - loss: 0.0108 - val_loss: 2.4722\n",
      "Epoch 6/100\n",
      " - 310s - loss: 0.0075 - val_loss: 2.2213\n",
      "Epoch 7/100\n",
      " - 311s - loss: 0.0031 - val_loss: 2.3246\n",
      "Epoch 8/100\n",
      " - 309s - loss: 0.0037 - val_loss: 2.8359\n",
      "Epoch 9/100\n",
      " - 310s - loss: 4.1908e-04 - val_loss: 3.1566\n",
      "Epoch 10/100\n",
      " - 310s - loss: 4.3497e-04 - val_loss: 3.0758\n",
      "Epoch 11/100\n",
      " - 310s - loss: 3.9538e-05 - val_loss: 2.9161\n",
      "Epoch 00011: early stopping\n",
      "Elapsed time: 0:57:00.48\n"
     ]
    }
   ],
   "source": [
    "import time\n",
    "from sklearn import metrics\n",
    "\n",
    "start_time = time.time()\n",
    "\n",
    "cnn2d.fit(x_train, y_train,     \n",
    "              epochs=100,\n",
    "              batch_size = 128,\n",
    "              verbose=2,\n",
    "              callbacks=[monitor_cnn],\n",
    "              validation_data=(x_test, y_test))\n",
    "\n",
    "elapsed_time = time.time() - start_time\n",
    "print(\"Elapsed time: {}\".format(hms_string(elapsed_time)))"
   ]
  },
  {
   "cell_type": "code",
   "execution_count": 32,
   "metadata": {},
   "outputs": [
    {
     "name": "stdout",
     "output_type": "stream",
     "text": [
      "Accuracy: 0.7461538461538462\n",
      "Averaged F1: 0.7130640860512208\n",
      "             precision    recall  f1-score   support\n",
      "\n",
      "          0       1.00      0.10      0.18        10\n",
      "          1       0.77      1.00      0.87        10\n",
      "          2       0.43      1.00      0.61        10\n",
      "          3       1.00      0.80      0.89        10\n",
      "          4       1.00      0.50      0.67        10\n",
      "          5       1.00      0.90      0.95        10\n",
      "          6       1.00      1.00      1.00        10\n",
      "          7       0.91      1.00      0.95        10\n",
      "          8       1.00      1.00      1.00        10\n",
      "          9       0.83      1.00      0.91        10\n",
      "         10       1.00      1.00      1.00        10\n",
      "         11       1.00      1.00      1.00        10\n",
      "         12       1.00      0.10      0.18        10\n",
      "         13       0.53      1.00      0.69        10\n",
      "         14       1.00      1.00      1.00        10\n",
      "         15       0.83      1.00      0.91        10\n",
      "         16       0.00      0.00      0.00        10\n",
      "         17       1.00      0.70      0.82        10\n",
      "         18       1.00      1.00      1.00        10\n",
      "         19       1.00      0.50      0.67        10\n",
      "         20       0.53      0.80      0.64        10\n",
      "         21       0.40      1.00      0.57        10\n",
      "         22       0.50      0.20      0.29        10\n",
      "         23       1.00      0.40      0.57        10\n",
      "         24       0.48      1.00      0.65        10\n",
      "         25       0.80      0.40      0.53        10\n",
      "\n",
      "avg / total       0.81      0.75      0.71       260\n",
      "\n",
      "Plotting confusion matrix\n"
     ]
    },
    {
     "name": "stderr",
     "output_type": "stream",
     "text": [
      "/anaconda3/lib/python3.6/site-packages/sklearn/metrics/classification.py:1135: UndefinedMetricWarning: F-score is ill-defined and being set to 0.0 in labels with no predicted samples.\n",
      "  'precision', 'predicted', average, warn_for)\n",
      "/anaconda3/lib/python3.6/site-packages/sklearn/metrics/classification.py:1135: UndefinedMetricWarning: Precision and F-score are ill-defined and being set to 0.0 in labels with no predicted samples.\n",
      "  'precision', 'predicted', average, warn_for)\n"
     ]
    },
    {
     "data": {
      "image/png": "[encoded data removed]",
      "text/plain": [
       "<Figure size 432x288 with 2 Axes>"
      ]
     },
     "metadata": {},
     "output_type": "display_data"
    },
    {
     "name": "stdout",
     "output_type": "stream",
     "text": [
      "             precision    recall  f1-score   support\n",
      "\n",
      "          0       1.00      0.10      0.18        10\n",
      "          1       0.77      1.00      0.87        10\n",
      "          2       0.43      1.00      0.61        10\n",
      "          3       1.00      0.80      0.89        10\n",
      "          4       1.00      0.50      0.67        10\n",
      "          5       1.00      0.90      0.95        10\n",
      "          6       1.00      1.00      1.00        10\n",
      "          7       0.91      1.00      0.95        10\n",
      "          8       1.00      1.00      1.00        10\n",
      "          9       0.83      1.00      0.91        10\n",
      "         10       1.00      1.00      1.00        10\n",
      "         11       1.00      1.00      1.00        10\n",
      "         12       1.00      0.10      0.18        10\n",
      "         13       0.53      1.00      0.69        10\n",
      "         14       1.00      1.00      1.00        10\n",
      "         15       0.83      1.00      0.91        10\n",
      "         16       0.00      0.00      0.00        10\n",
      "         17       1.00      0.70      0.82        10\n",
      "         18       1.00      1.00      1.00        10\n",
      "         19       1.00      0.50      0.67        10\n",
      "         20       0.53      0.80      0.64        10\n",
      "         21       0.40      1.00      0.57        10\n",
      "         22       0.50      0.20      0.29        10\n",
      "         23       1.00      0.40      0.57        10\n",
      "         24       0.48      1.00      0.65        10\n",
      "         25       0.80      0.40      0.53        10\n",
      "\n",
      "avg / total       0.81      0.75      0.71       260\n",
      "\n",
      "Precision : 0.7461538461538462\n"
     ]
    }
   ],
   "source": [
    "from sklearn import metrics\n",
    "\n",
    "y_true = np.argmax(y_test,axis=1)\n",
    "cnn_pred = cnn2d.predict(x_test)\n",
    "cnn_pred = np.argmax(cnn_pred,axis=1)\n",
    "\n",
    "score = metrics.accuracy_score(y_true, cnn_pred)\n",
    "print('Accuracy: {}'.format(score))\n",
    "\n",
    "\n",
    "f1 = metrics.f1_score(y_true, cnn_pred, average='weighted')\n",
    "print('Averaged F1: {}'.format(f1))\n",
    "\n",
    "           \n",
    "print(metrics.classification_report(y_true, cnn_pred))\n",
    "\n",
    "\n",
    "\n",
    "y_train_class = encode_text_index(df_y_train, 'one_hot_encoded')\n",
    "#Compute confusion matrix\n",
    "cm = confusion_matrix(y_true, cnn_pred)\n",
    "print('Plotting confusion matrix')\n",
    "\n",
    "plt.figure()\n",
    "plot_confusion_matrix(cm, y_train_class)\n",
    "plt.show()\n",
    "\n",
    "print(classification_report(y_true, cnn_pred))\n",
    "print(\"Precision :\", metrics.accuracy_score(y_true, cnn_pred))\n"
   ]
  }
 ],
 "metadata": {
  "kernelspec": {
   "display_name": "Python 3",
   "language": "python",
   "name": "python3"
  },
  "language_info": {
   "codemirror_mode": {
    "name": "ipython",
    "version": 3
   },
   "file_extension": ".py",
   "mimetype": "text/x-python",
   "name": "python",
   "nbconvert_exporter": "python",
   "pygments_lexer": "ipython3",
   "version": "3.6.5"
  }
 },
 "nbformat": 4,
 "nbformat_minor": 2
}
