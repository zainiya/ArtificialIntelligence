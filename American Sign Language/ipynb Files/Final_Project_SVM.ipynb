{
 "cells": [
  {
   "cell_type": "code",
   "execution_count": 1,
   "metadata": {},
   "outputs": [
    {
     "name": "stderr",
     "output_type": "stream",
     "text": [
      "/anaconda3/lib/python3.6/importlib/_bootstrap.py:219: RuntimeWarning: compiletime version 3.5 of module 'tensorflow.python.framework.fast_tensor_util' does not match runtime version 3.6\n",
      "  return f(*args, **kwds)\n",
      "/anaconda3/lib/python3.6/site-packages/h5py/__init__.py:36: FutureWarning: Conversion of the second argument of issubdtype from `float` to `np.floating` is deprecated. In future, it will be treated as `np.float64 == np.dtype(float).type`.\n",
      "  from ._conv import register_converters as _register_converters\n",
      "Using TensorFlow backend.\n"
     ]
    }
   ],
   "source": [
    "%matplotlib inline\n",
    "import matplotlib.pyplot as plt\n",
    "import collections\n",
    "import numpy as np\n",
    "import pandas as pd\n",
    "import shutil\n",
    "import os\n",
    "import tensorflow as tf\n",
    "import keras\n",
    "from keras.datasets import mnist\n",
    "from keras.models import Sequential\n",
    "from keras.layers.convolutional import Conv1D\n",
    "from sklearn import preprocessing\n",
    "from scipy.stats import zscore\n",
    "from sklearn.metrics import roc_curve, auc\n",
    "from sklearn.model_selection import train_test_split\n",
    "from sklearn import metrics\n",
    "from keras.layers.core import Dense, Activation\n",
    "from keras.callbacks import EarlyStopping\n",
    "from keras.callbacks import ModelCheckpoint\n",
    "from sklearn import svm, datasets\n",
    "from sklearn.model_selection import train_test_split\n",
    "from sklearn.metrics import confusion_matrix, classification_report\n",
    "from keras.datasets import cifar10\n",
    "from keras.layers import Dense, Dropout, Activation, Flatten\n",
    "from keras.layers import Conv2D, MaxPooling2D\n",
    "from keras.preprocessing.image import ImageDataGenerator\n",
    "\n",
    "def encode_text_dummy(df, name):\n",
    "    dummies = pd.get_dummies(df[name])\n",
    "    for x in dummies.columns:\n",
    "        dummy_name = \"{}-{}\".format(name, x)\n",
    "        df[dummy_name] = dummies[x]\n",
    "    df.drop(name, axis=1, inplace=True)\n",
    "\n",
    "# Encode text values to a single dummy variable.  The new columns (which do not replace the old) will have a 1\n",
    "# at every location where the original column (name) matches each of the target_values.  One column is added for\n",
    "# each target value.\n",
    "def encode_text_single_dummy(df, name, target_values):\n",
    "    for tv in target_values:\n",
    "        l = list(df[name].astype(str))\n",
    "        l = [1 if str(x) == str(tv) else 0 for x in l]\n",
    "        name2 = \"{}-{}\".format(name, tv)\n",
    "        df[name2] = l\n",
    "\n",
    "# Encode text values to indexes(i.e. [1],[2],[3] for red,green,blue).\n",
    "def encode_text_index(df, name):\n",
    "    le = preprocessing.LabelEncoder()\n",
    "    df[name] = le.fit_transform(df[name])\n",
    "    return le.classes_\n",
    "\n",
    "# Encode a numeric column as zscores\n",
    "def encode_numeric_zscore(df, name, mean=None, sd=None):\n",
    "    if mean is None:\n",
    "        mean = df[name].mean()\n",
    "\n",
    "    if sd is None:\n",
    "        sd = df[name].std()\n",
    "\n",
    "    df[name] = (df[name] - mean) / sd\n",
    "\n",
    "# Convert a Pandas dataframe to the x,y inputs that TensorFlow needs\n",
    "def to_xy(df, target):\n",
    "    result = []\n",
    "    for x in df.columns:\n",
    "        if x != target:\n",
    "            result.append(x)\n",
    "    # find out the type of the target column. \n",
    "    target_type = df[target].dtypes\n",
    "    target_type = target_type[0] if isinstance(target_type, collections.Sequence) else target_type\n",
    "    # Encode to int for classification, float otherwise. TensorFlow likes 32 bits.\n",
    "    if target_type in (np.int64, np.int32):\n",
    "        # Classification\n",
    "        dummies = pd.get_dummies(df[target])\n",
    "        return df[result].values.astype(np.float32), dummies.values.astype(np.float32)\n",
    "    else:\n",
    "        # Regression\n",
    "        return df[result].values.astype(np.float32), df[target].values.astype(np.float32)\n",
    "\n",
    "# Nicely formatted time string\n",
    "def hms_string(sec_elapsed):\n",
    "    h = int(sec_elapsed / (60 * 60))\n",
    "    m = int((sec_elapsed % (60 * 60)) / 60)\n",
    "    s = sec_elapsed % 60\n",
    "    return \"{}:{:>02}:{:>05.2f}\".format(h, m, s)\n",
    "\n",
    "# Regression chart.\n",
    "def chart_regression(pred,y,sort=True):\n",
    "    t = pd.DataFrame({'pred' : pred, 'y' : y.flatten()})\n",
    "    if sort:\n",
    "        t.sort_values(by=['y'],inplace=True)\n",
    "    a = plt.plot(t['y'].tolist(),label='expected')\n",
    "    b = plt.plot(t['pred'].tolist(),label='prediction')\n",
    "    plt.ylabel('output')\n",
    "    plt.legend()\n",
    "    plt.show()\n",
    "\n",
    "# Remove all rows where the specified column is +/- sd standard deviations\n",
    "def remove_outliers(df, name, sd):\n",
    "    drop_rows = df.index[(np.abs(df[name] - df[name].mean()) >= (sd * df[name].std()))]\n",
    "    df.drop(drop_rows, axis=0, inplace=True)\n",
    "\n",
    "# Encode a column to a range between normalized_low and normalized_high.\n",
    "def encode_numeric_range(df, name, normalized_low=-1, normalized_high=1,\n",
    "                         data_low=None, data_high=None):\n",
    "    if data_low is None:\n",
    "        data_low = min(df[name])\n",
    "        data_high = max(df[name])\n",
    "\n",
    "    df[name] = ((df[name] - data_low) / (data_high - data_low)) \\\n",
    "               * (normalized_high - normalized_low) + normalized_low\n",
    "\n",
    "# Plot a confusion matrix.\n",
    "# cm is the confusion matrix, names are the names of the classes.\n",
    "def plot_confusion_matrix(cm, names, title='Confusion matrix', cmap=plt.cm.Blues):\n",
    "    plt.imshow(cm, interpolation='nearest', cmap=cmap)\n",
    "    plt.title(title)\n",
    "    plt.colorbar()\n",
    "    tick_marks = np.arange(len(names))\n",
    "    plt.xticks(tick_marks, names, rotation=45)\n",
    "    plt.yticks(tick_marks, names)\n",
    "    plt.tight_layout()\n",
    "    plt.ylabel('True label')\n",
    "    plt.xlabel('Predicted label')\n",
    "    \n",
    "\n",
    "# Plot an ROC. pred - the predictions, y - the expected output.\n",
    "def plot_roc(pred,y):\n",
    "    fpr, tpr, thresholds = roc_curve(y, pred)\n",
    "    roc_auc = auc(fpr, tpr)\n",
    "\n",
    "    plt.figure()\n",
    "    plt.plot(fpr, tpr, label='ROC curve (area = %0.2f)' % roc_auc)\n",
    "    plt.plot([0, 1], [0, 1], 'k--')\n",
    "    plt.xlim([0.0, 1.0])\n",
    "    plt.ylim([0.0, 1.05])\n",
    "    plt.xlabel('False Positive Rate')\n",
    "    plt.ylabel('True Positive Rate')\n",
    "    plt.title('Receiver Operating Characteristic (ROC)')\n",
    "    plt.legend(loc=\"lower right\")\n",
    "    plt.show()\n"
   ]
  },
  {
   "cell_type": "code",
   "execution_count": 2,
   "metadata": {
    "scrolled": true
   },
   "outputs": [],
   "source": [
    "import numpy as np\n",
    "from skimage import color, exposure, transform\n",
    "\n",
    "NUM_CLASSES = 26\n",
    "IMG_SIZE = 200\n",
    "\n",
    "\n",
    "def preprocess_img_hsv(img):\n",
    "    # Histogram normalization in v channel\n",
    "    hsv = color.rgb2hsv(img)\n",
    "    hsv[:, :, 2] = exposure.equalize_hist(hsv[:, :, 2])\n",
    "    img = color.hsv2rgb(hsv)\n",
    "\n",
    "    # central square crop\n",
    "    min_side = min(img.shape[:-1])\n",
    "    centre = img.shape[0] // 2, img.shape[1] // 2\n",
    "    img = img[centre[0] - min_side // 2:centre[0] + min_side // 2,\n",
    "              centre[1] - min_side // 2:centre[1] + min_side // 2,\n",
    "              :]\n",
    "\n",
    "    # rescale to standard size\n",
    "    img = transform.resize(img, (IMG_SIZE, IMG_SIZE))\n",
    "\n",
    "    # roll color axis to axis 0\n",
    "    img = np.rollaxis(img, -1)\n",
    "\n",
    "    return img\n",
    "\n",
    "\n",
    "import sys\n",
    "import cv2\n",
    "\n",
    "def preprocessing_img_black_and_white(img):\n",
    "    im_ycrcb = cv2.cvtColor(img, cv2.COLOR_BGR2YCR_CB)\n",
    "    skin_ycrcb_mint = np.array((0, 133, 77))\n",
    "    skin_ycrcb_maxt = np.array((255, 173, 127))\n",
    "    skin_ycrcb = cv2.inRange(im_ycrcb, skin_ycrcb_mint, skin_ycrcb_maxt)\n",
    "    return skin_ycrcb"
   ]
  },
  {
   "cell_type": "code",
   "execution_count": 3,
   "metadata": {},
   "outputs": [
    {
     "name": "stdout",
     "output_type": "stream",
     "text": [
      "0\n",
      "2600\n",
      "520\n",
      "2600\n"
     ]
    }
   ],
   "source": [
    "import os\n",
    "\n",
    "testFiles=[]\n",
    "trainFiles=[]\n",
    "for root, dirs, files in os.walk('./data/asl-alphabet/asl_alphabet_train/'):\n",
    "     for file in files:\n",
    "            if file.endswith('.jpg'):\n",
    "                if not file.endswith('_test.jpg'):\n",
    "                    number=file[1:file.find('.')]\n",
    "                    if not number.isdigit():\n",
    "                        continue\n",
    "                    if(int(number)>100):\n",
    "                        continue\n",
    "                file_path = os.path.join(root,file)\n",
    "                #print(file_path)\n",
    "                if file.endswith('_test.jpg'):\n",
    "                    if (not file.startswith('nothing_') and not file.startswith('space_') and not(file.startswith('del_'))):\n",
    "                        testFiles.append(file_path)\n",
    "                else:\n",
    "                    if ((not \"nothing\" in file) and (not \"space\" in file) and (not \"del\" in file)):\n",
    "                        trainFiles.append(file_path)\n",
    "testFiles.sort()\n",
    "trainFiles.sort()\n",
    "print(len(testFiles))\n",
    "print(len(trainFiles))\n",
    "\n",
    "#creating the sample set of 20 test images for each alphabet\n",
    "import os\n",
    "\n",
    "testFiles=[]\n",
    "\n",
    "for root, dirs, files in os.walk('./data/asl-alphabet/asl_alphabet_train/'): #asl_alphabet_test_sample\n",
    "     for file in files:\n",
    "            if file.endswith('.jpg'):\n",
    "                if not file.endswith('_test.jpg'):\n",
    "                    number=file[1:file.find('.')]\n",
    "                    if not number.isdigit():\n",
    "                        continue\n",
    "                    if((int(number)<=100) or int(number)>120):\n",
    "                        continue\n",
    "                file_path = os.path.join(root,file)\n",
    "                #print(file_path)\n",
    "                if (not file.startswith('nothing_') and not file.startswith('space_') and not(file.startswith('del_'))):\n",
    "                    testFiles.append(file_path)\n",
    "                    \n",
    "testFiles.sort()\n",
    "trainFiles.sort()\n",
    "print(len(testFiles))\n",
    "print(len(trainFiles))"
   ]
  },
  {
   "cell_type": "code",
   "execution_count": 4,
   "metadata": {},
   "outputs": [
    {
     "name": "stdout",
     "output_type": "stream",
     "text": [
      "2600\n",
      "2600\n",
      "[[  0.   0.   0. ...   0.   0.   0.]\n",
      " [  0.   0.   0. ...   0.   0.   0.]\n",
      " [  0.   0. 255. ...   0.   0.   0.]\n",
      " ...\n",
      " [  0.   0. 255. ...   0. 255.   0.]\n",
      " [  0.   0.   0. ... 255.   0.   0.]\n",
      " [  0.   0.   0. ...   0.   0.   0.]]\n"
     ]
    }
   ],
   "source": [
    "from skimage import io\n",
    "import numpy as np\n",
    "j=0\n",
    "# numpy_array_train = np.empty([78000,200,200,3])\n",
    "x_train = np.empty([2600,200,200])\n",
    "y_train = []\n",
    "y_train_for_df = []\n",
    "alphabet_array = []\n",
    "alphabet_array.append('A')\n",
    "alphabet_array.append('B')\n",
    "alphabet_array.append('C')\n",
    "alphabet_array.append('D')\n",
    "alphabet_array.append('E')\n",
    "alphabet_array.append('F')\n",
    "alphabet_array.append('G')\n",
    "alphabet_array.append('H')\n",
    "alphabet_array.append('I')\n",
    "alphabet_array.append('J')\n",
    "alphabet_array.append('K')\n",
    "alphabet_array.append('L')\n",
    "alphabet_array.append('M')\n",
    "alphabet_array.append('N')\n",
    "alphabet_array.append('O')\n",
    "alphabet_array.append('P')\n",
    "alphabet_array.append('Q')\n",
    "alphabet_array.append('R')\n",
    "alphabet_array.append('S')\n",
    "alphabet_array.append('T')\n",
    "alphabet_array.append('U')\n",
    "alphabet_array.append('V')\n",
    "alphabet_array.append('W')\n",
    "alphabet_array.append('X')\n",
    "alphabet_array.append('Y')\n",
    "alphabet_array.append('Z')\n",
    "k=0\n",
    "print(len(trainFiles))\n",
    "for i in trainFiles:    \n",
    "    x_train[j]=preprocessing_img_black_and_white(io.imread(i))\n",
    "    j=j+1\n",
    "    y_train.append(alphabet_array[k])\n",
    "    if (j%100) == 0: #j%3000 for complete\n",
    "        k=k+1\n",
    "\n",
    "print(len(x_train))\n",
    "print(x_train[1299])"
   ]
  },
  {
   "cell_type": "code",
   "execution_count": 5,
   "metadata": {},
   "outputs": [
    {
     "data": {
      "text/plain": [
       "(520, 200, 200)"
      ]
     },
     "execution_count": 5,
     "metadata": {},
     "output_type": "execute_result"
    }
   ],
   "source": [
    "from skimage import io\n",
    "import numpy as np\n",
    "j=0\n",
    "k=0\n",
    "y_test = []\n",
    "x_test = np.empty([520,200,200]) \n",
    "\n",
    "for i in testFiles:    \n",
    "    x_test[j]=preprocessing_img_black_and_white(io.imread(i))\n",
    "    j=j+1\n",
    "    y_test.append(alphabet_array[k])\n",
    "    if (j%20) == 0:\n",
    "        k=k+1\n",
    "\n",
    "\n",
    "x_test.shape"
   ]
  },
  {
   "cell_type": "code",
   "execution_count": 6,
   "metadata": {},
   "outputs": [
    {
     "name": "stdout",
     "output_type": "stream",
     "text": [
      "(2600, 200, 200)\n",
      "(520, 200, 200)\n",
      "(2600,)\n",
      "(520,)\n"
     ]
    }
   ],
   "source": [
    "y_train_np=np.asarray(y_train)\n",
    "y_test_np = np.asarray(y_test)\n",
    "print(x_train.shape)\n",
    "print(x_test.shape)\n",
    "print(y_train_np.shape)\n",
    "print(y_test_np.shape)"
   ]
  },
  {
   "cell_type": "code",
   "execution_count": 7,
   "metadata": {},
   "outputs": [
    {
     "name": "stdout",
     "output_type": "stream",
     "text": [
      "float64\n",
      "float64\n"
     ]
    }
   ],
   "source": [
    "print(x_train.dtype)\n",
    "print(x_test.dtype)\n",
    "x_train = x_train.astype('float32')\n",
    "x_test = x_test.astype('float32')\n"
   ]
  },
  {
   "cell_type": "code",
   "execution_count": 8,
   "metadata": {},
   "outputs": [],
   "source": [
    "# normalize the data values to the range [0, 1]\n",
    "x_train /= 255\n",
    "x_test /= 255"
   ]
  },
  {
   "cell_type": "code",
   "execution_count": 9,
   "metadata": {},
   "outputs": [
    {
     "name": "stdout",
     "output_type": "stream",
     "text": [
      "(2600, 200, 200)\n",
      "(520, 200, 200)\n",
      "(2600,)\n",
      "(520,)\n"
     ]
    }
   ],
   "source": [
    "le = preprocessing.LabelEncoder()\n",
    "print(x_train.shape)\n",
    "print(x_test.shape)\n",
    "y_train = le.fit_transform(y_train_np)\n",
    "y_test = le.fit_transform(y_test_np)\n",
    "print(y_train.shape)\n",
    "print(y_test.shape)\n"
   ]
  },
  {
   "cell_type": "code",
   "execution_count": 10,
   "metadata": {},
   "outputs": [],
   "source": [
    "x_train=x_train.reshape(len(x_train),-1)\n",
    "x_test=x_test.reshape(len(x_test),-1)"
   ]
  },
  {
   "cell_type": "code",
   "execution_count": 11,
   "metadata": {},
   "outputs": [
    {
     "name": "stdout",
     "output_type": "stream",
     "text": [
      "(2600, 40000)\n",
      "(520, 40000)\n",
      "(2600,)\n",
      "(520,)\n"
     ]
    }
   ],
   "source": [
    "print(x_train.shape)\n",
    "print(x_test.shape)\n",
    "print(y_train.shape)\n",
    "print(y_test.shape)"
   ]
  },
  {
   "cell_type": "code",
   "execution_count": 12,
   "metadata": {
    "scrolled": true
   },
   "outputs": [
    {
     "data": {
      "text/plain": [
       "array([0., 0., 0., ..., 0., 0., 0.], dtype=float32)"
      ]
     },
     "execution_count": 12,
     "metadata": {},
     "output_type": "execute_result"
    }
   ],
   "source": [
    "x_train[0]"
   ]
  },
  {
   "cell_type": "markdown",
   "metadata": {},
   "source": [
    "<h3>Support Vector Machine</h3>"
   ]
  },
  {
   "cell_type": "code",
   "execution_count": 13,
   "metadata": {
    "scrolled": false
   },
   "outputs": [
    {
     "name": "stdout",
     "output_type": "stream",
     "text": [
      "Final accuracy: 0.6\n",
      "Plotting confusion matrix\n"
     ]
    },
    {
     "data": {
      "image/png": "[encoded data removed]",
      "text/plain": [
       "<Figure size 432x288 with 2 Axes>"
      ]
     },
     "metadata": {},
     "output_type": "display_data"
    },
    {
     "name": "stdout",
     "output_type": "stream",
     "text": [
      "             precision    recall  f1-score   support\n",
      "\n",
      "          0       0.75      0.15      0.25        20\n",
      "          1       0.40      0.80      0.53        20\n",
      "          2       0.80      1.00      0.89        20\n",
      "          3       1.00      1.00      1.00        20\n",
      "          4       0.00      0.00      0.00        20\n",
      "          5       0.15      0.15      0.15        20\n",
      "          6       1.00      1.00      1.00        20\n",
      "          7       1.00      0.95      0.97        20\n",
      "          8       0.93      0.70      0.80        20\n",
      "          9       0.75      0.90      0.82        20\n",
      "         10       0.87      1.00      0.93        20\n",
      "         11       0.48      1.00      0.65        20\n",
      "         12       0.00      0.00      0.00        20\n",
      "         13       0.76      0.80      0.78        20\n",
      "         14       1.00      0.45      0.62        20\n",
      "         15       1.00      1.00      1.00        20\n",
      "         16       0.00      0.00      0.00        20\n",
      "         17       0.95      1.00      0.98        20\n",
      "         18       1.00      0.55      0.71        20\n",
      "         19       0.38      1.00      0.55        20\n",
      "         20       0.79      0.75      0.77        20\n",
      "         21       0.62      1.00      0.77        20\n",
      "         22       0.06      0.10      0.08        20\n",
      "         23       0.00      0.00      0.00        20\n",
      "         24       0.50      0.10      0.17        20\n",
      "         25       1.00      0.20      0.33        20\n",
      "\n",
      "avg / total       0.62      0.60      0.57       520\n",
      "\n",
      "Precision : 0.6\n"
     ]
    }
   ],
   "source": [
    "from sklearn import svm\n",
    "clf = svm.SVC()\n",
    "clf.fit(x_train, y_train)  \n",
    "svm_pred=clf.predict(x_test)\n",
    "\n",
    "# Measure accuracy\n",
    "score = metrics.accuracy_score(y_test, svm_pred)\n",
    "print(\"Final accuracy: {}\".format(score))\n",
    "#y_train_class = encode_text_index(df_y_train, 'one_hot_encoded')\n",
    "cm = confusion_matrix(y_test, svm_pred)\n",
    "print('Plotting confusion matrix')\n",
    "\n",
    "plt.figure()\n",
    "plot_confusion_matrix(cm,alphabet_array)\n",
    "plt.show()\n",
    "\n",
    "print(classification_report(y_test, svm_pred))\n",
    "print(\"Precision :\", metrics.accuracy_score(y_test, svm_pred))"
   ]
  },
  {
   "cell_type": "markdown",
   "metadata": {},
   "source": [
    "<h3>Support Vector Machine : LinearSVC</h3>"
   ]
  },
  {
   "cell_type": "code",
   "execution_count": 14,
   "metadata": {},
   "outputs": [
    {
     "name": "stdout",
     "output_type": "stream",
     "text": [
      "Final accuracy: 0.7788461538461539\n",
      "Plotting confusion matrix\n"
     ]
    },
    {
     "data": {
      "image/png": "[encoded data removed]",
      "text/plain": [
       "<Figure size 432x288 with 2 Axes>"
      ]
     },
     "metadata": {},
     "output_type": "display_data"
    },
    {
     "name": "stdout",
     "output_type": "stream",
     "text": [
      "             precision    recall  f1-score   support\n",
      "\n",
      "          0       1.00      0.75      0.86        20\n",
      "          1       0.68      0.85      0.76        20\n",
      "          2       0.91      1.00      0.95        20\n",
      "          3       0.86      0.60      0.71        20\n",
      "          4       0.25      0.05      0.08        20\n",
      "          5       0.21      0.45      0.29        20\n",
      "          6       1.00      1.00      1.00        20\n",
      "          7       0.95      1.00      0.98        20\n",
      "          8       1.00      0.85      0.92        20\n",
      "          9       0.83      1.00      0.91        20\n",
      "         10       1.00      1.00      1.00        20\n",
      "         11       1.00      0.95      0.97        20\n",
      "         12       0.91      1.00      0.95        20\n",
      "         13       0.68      0.95      0.79        20\n",
      "         14       1.00      0.55      0.71        20\n",
      "         15       0.77      1.00      0.87        20\n",
      "         16       0.80      1.00      0.89        20\n",
      "         17       0.95      1.00      0.98        20\n",
      "         18       1.00      1.00      1.00        20\n",
      "         19       0.90      0.90      0.90        20\n",
      "         20       0.84      0.80      0.82        20\n",
      "         21       0.79      0.95      0.86        20\n",
      "         22       0.23      0.15      0.18        20\n",
      "         23       0.50      0.45      0.47        20\n",
      "         24       0.40      0.20      0.27        20\n",
      "         25       0.80      0.80      0.80        20\n",
      "\n",
      "avg / total       0.78      0.78      0.77       520\n",
      "\n",
      "Precision : 0.7788461538461539\n"
     ]
    }
   ],
   "source": [
    "from sklearn.svm import LinearSVC\n",
    "from sklearn.datasets import make_classification\n",
    "clf = LinearSVC(random_state=0, tol=1e-5)\n",
    "clf.fit(x_train, y_train)\n",
    "LinearSVC(C=1.0, class_weight=None, dual=True, fit_intercept=True,\n",
    "     intercept_scaling=1, loss='squared_hinge', max_iter=1000,\n",
    "     multi_class='ovr', penalty='l2', random_state=0, tol=1e-05, verbose=0)\n",
    "\n",
    "Linear_svc_pred=clf.predict(x_test)\n",
    "\n",
    "# Measure accuracy\n",
    "score = metrics.accuracy_score(y_test, Linear_svc_pred)\n",
    "print(\"Final accuracy: {}\".format(score))\n",
    "#y_train_class = encode_text_index(df_y_train, 'one_hot_encoded')\n",
    "cm = confusion_matrix(y_test, Linear_svc_pred)\n",
    "print('Plotting confusion matrix')\n",
    "\n",
    "plt.figure()\n",
    "plot_confusion_matrix(cm,alphabet_array)\n",
    "plt.show()\n",
    "\n",
    "print(classification_report(y_test, Linear_svc_pred))\n",
    "print(\"Precision :\", metrics.accuracy_score(y_test, Linear_svc_pred))\n"
   ]
  },
  {
   "cell_type": "markdown",
   "metadata": {},
   "source": [
    "<h3>Support Vector Machine : NuSVC</h3>"
   ]
  },
  {
   "cell_type": "code",
   "execution_count": 15,
   "metadata": {},
   "outputs": [
    {
     "name": "stdout",
     "output_type": "stream",
     "text": [
      "Final accuracy: 0.7038461538461539\n",
      "Plotting confusion matrix\n"
     ]
    },
    {
     "data": {
      "image/png": "[encoded data removed]",
      "text/plain": [
       "<Figure size 432x288 with 2 Axes>"
      ]
     },
     "metadata": {},
     "output_type": "display_data"
    },
    {
     "name": "stdout",
     "output_type": "stream",
     "text": [
      "             precision    recall  f1-score   support\n",
      "\n",
      "          0       1.00      0.75      0.86        20\n",
      "          1       0.61      0.85      0.71        20\n",
      "          2       0.87      1.00      0.93        20\n",
      "          3       1.00      1.00      1.00        20\n",
      "          4       0.00      0.00      0.00        20\n",
      "          5       0.25      0.40      0.31        20\n",
      "          6       1.00      1.00      1.00        20\n",
      "          7       1.00      1.00      1.00        20\n",
      "          8       1.00      0.70      0.82        20\n",
      "          9       0.77      1.00      0.87        20\n",
      "         10       0.77      1.00      0.87        20\n",
      "         11       0.53      1.00      0.69        20\n",
      "         12       0.17      0.20      0.18        20\n",
      "         13       0.69      0.55      0.61        20\n",
      "         14       1.00      0.45      0.62        20\n",
      "         15       1.00      1.00      1.00        20\n",
      "         16       0.61      0.70      0.65        20\n",
      "         17       0.95      1.00      0.98        20\n",
      "         18       1.00      0.55      0.71        20\n",
      "         19       0.67      1.00      0.80        20\n",
      "         20       1.00      0.90      0.95        20\n",
      "         21       0.77      1.00      0.87        20\n",
      "         22       0.13      0.15      0.14        20\n",
      "         23       0.12      0.05      0.07        20\n",
      "         24       0.33      0.10      0.15        20\n",
      "         25       0.90      0.95      0.93        20\n",
      "\n",
      "avg / total       0.70      0.70      0.68       520\n",
      "\n",
      "Precision : 0.7038461538461539\n"
     ]
    }
   ],
   "source": [
    "import numpy as np\n",
    "from sklearn.svm import NuSVC\n",
    "clf = NuSVC(kernel='rbf')\n",
    "clf.fit(x_train, y_train)\n",
    "Nu_SVC_pred=clf.predict(x_test)\n",
    "\n",
    "# Measure accuracy\n",
    "score = metrics.accuracy_score(y_test, Nu_SVC_pred)\n",
    "print(\"Final accuracy: {}\".format(score))\n",
    "#y_train_class = encode_text_index(df_y_train, 'one_hot_encoded')\n",
    "cm = confusion_matrix(y_test, Nu_SVC_pred)\n",
    "print('Plotting confusion matrix')\n",
    "\n",
    "plt.figure()\n",
    "plot_confusion_matrix(cm,alphabet_array)\n",
    "plt.show()\n",
    "\n",
    "print(classification_report(y_test, Nu_SVC_pred))\n",
    "print(\"Precision :\", metrics.accuracy_score(y_test, Nu_SVC_pred))\n"
   ]
  },
  {
   "cell_type": "code",
   "execution_count": null,
   "metadata": {},
   "outputs": [],
   "source": []
  }
 ],
 "metadata": {
  "kernelspec": {
   "display_name": "Python 3",
   "language": "python",
   "name": "python3"
  },
  "language_info": {
   "codemirror_mode": {
    "name": "ipython",
    "version": 3
   },
   "file_extension": ".py",
   "mimetype": "text/x-python",
   "name": "python",
   "nbconvert_exporter": "python",
   "pygments_lexer": "ipython3",
   "version": "3.6.5"
  }
 },
 "nbformat": 4,
 "nbformat_minor": 2
}
