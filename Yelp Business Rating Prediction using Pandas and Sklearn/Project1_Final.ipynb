{
 "cells": [
  {
   "cell_type": "code",
   "execution_count": 1,
   "metadata": {
    "scrolled": true
   },
   "outputs": [],
   "source": [
    "import json as json\n",
    "import csv as csv\n",
    "import pandas as pd\n",
    "import numpy as np\n",
    "outfile = open(\"review_stars.tsv\", 'w')\n",
    "sfile = csv.writer(outfile, delimiter =\"\\t\", quoting=csv.QUOTE_MINIMAL) \n",
    "sfile.writerow(['business_id','stars', 'text'])\n",
    "with open('./yelp_dataset/yelp_academic_dataset_review.json', encoding='utf-8') as f: \n",
    "    for line in f:\n",
    "        row = json.loads(line)\n",
    "        # some special char must be encoded in 'utf-8' \n",
    "        sfile.writerow([row['business_id'], row['stars'], (row['text']).encode('utf-8')])\n",
    "outfile.close()\n",
    "outfile2 = open(\"business_dataset.tsv\", 'w')\n",
    "sfile2 = csv.writer(outfile2, delimiter =\"\\t\", quoting=csv.QUOTE_MINIMAL) \n",
    "sfile2.writerow(['business_id','review_count', 'categories'])\n",
    "with open('./yelp_dataset/yelp_academic_dataset_business.json', encoding='utf-8') as f2: \n",
    "    for line in f2:\n",
    "        row = json.loads(line)\n",
    "        # some special char must be encoded in 'utf-8' \n",
    "        if row['categories'] is None:\n",
    "            sfile2.writerow([row['business_id'], row['review_count']])\n",
    "        else :\n",
    "            sfile2.writerow([row['business_id'], row['review_count'], (row['categories']).encode('utf-8')])\n",
    "outfile2.close()\n"
   ]
  },
  {
   "cell_type": "code",
   "execution_count": 2,
   "metadata": {},
   "outputs": [],
   "source": [
    "df1= pd.read_csv('review_stars.tsv', delimiter =\"\\t\", encoding=\"utf-8\",na_values=['NA','?'])\n",
    "df2= pd.read_csv('business_dataset.tsv', delimiter =\"\\t\", encoding=\"utf-8\",na_values=['NA','?'])\n"
   ]
  },
  {
   "cell_type": "code",
   "execution_count": 3,
   "metadata": {},
   "outputs": [
    {
     "data": {
      "text/html": [
       "<div>\n",
       "<style scoped>\n",
       "    .dataframe tbody tr th:only-of-type {\n",
       "        vertical-align: middle;\n",
       "    }\n",
       "\n",
       "    .dataframe tbody tr th {\n",
       "        vertical-align: top;\n",
       "    }\n",
       "\n",
       "    .dataframe thead th {\n",
       "        text-align: right;\n",
       "    }\n",
       "</style>\n",
       "<table border=\"1\" class=\"dataframe\">\n",
       "  <thead>\n",
       "    <tr style=\"text-align: right;\">\n",
       "      <th></th>\n",
       "      <th>business_id</th>\n",
       "      <th>stars</th>\n",
       "      <th>text</th>\n",
       "    </tr>\n",
       "  </thead>\n",
       "  <tbody>\n",
       "    <tr>\n",
       "      <th>0</th>\n",
       "      <td>iCQpiavjjPzJ5_3gPD5Ebg</td>\n",
       "      <td>2</td>\n",
       "      <td>b\"The pizza was okay. Not the best I've had. I...</td>\n",
       "    </tr>\n",
       "    <tr>\n",
       "      <th>1</th>\n",
       "      <td>pomGBqfbxcqPv14c3XH-ZQ</td>\n",
       "      <td>5</td>\n",
       "      <td>b'I love this place! My fiance And I go here a...</td>\n",
       "    </tr>\n",
       "    <tr>\n",
       "      <th>2</th>\n",
       "      <td>jtQARsP6P-LbkyjbO1qNGg</td>\n",
       "      <td>1</td>\n",
       "      <td>b'Terrible. Dry corn bread. Rib tips were all ...</td>\n",
       "    </tr>\n",
       "    <tr>\n",
       "      <th>3</th>\n",
       "      <td>elqbBhBfElMNSrjFqW3now</td>\n",
       "      <td>2</td>\n",
       "      <td>b'Back in 2005-2007 this place was my FAVORITE...</td>\n",
       "    </tr>\n",
       "    <tr>\n",
       "      <th>4</th>\n",
       "      <td>Ums3gaP2qM3W1XcA5r6SsQ</td>\n",
       "      <td>5</td>\n",
       "      <td>b'Delicious healthy food. The steak is amazing...</td>\n",
       "    </tr>\n",
       "  </tbody>\n",
       "</table>\n",
       "</div>"
      ],
      "text/plain": [
       "              business_id  stars  \\\n",
       "0  iCQpiavjjPzJ5_3gPD5Ebg      2   \n",
       "1  pomGBqfbxcqPv14c3XH-ZQ      5   \n",
       "2  jtQARsP6P-LbkyjbO1qNGg      1   \n",
       "3  elqbBhBfElMNSrjFqW3now      2   \n",
       "4  Ums3gaP2qM3W1XcA5r6SsQ      5   \n",
       "\n",
       "                                                text  \n",
       "0  b\"The pizza was okay. Not the best I've had. I...  \n",
       "1  b'I love this place! My fiance And I go here a...  \n",
       "2  b'Terrible. Dry corn bread. Rib tips were all ...  \n",
       "3  b'Back in 2005-2007 this place was my FAVORITE...  \n",
       "4  b'Delicious healthy food. The steak is amazing...  "
      ]
     },
     "execution_count": 3,
     "metadata": {},
     "output_type": "execute_result"
    }
   ],
   "source": [
    "df1.head()\n"
   ]
  },
  {
   "cell_type": "code",
   "execution_count": 4,
   "metadata": {},
   "outputs": [
    {
     "data": {
      "text/html": [
       "<div>\n",
       "<style scoped>\n",
       "    .dataframe tbody tr th:only-of-type {\n",
       "        vertical-align: middle;\n",
       "    }\n",
       "\n",
       "    .dataframe tbody tr th {\n",
       "        vertical-align: top;\n",
       "    }\n",
       "\n",
       "    .dataframe thead th {\n",
       "        text-align: right;\n",
       "    }\n",
       "</style>\n",
       "<table border=\"1\" class=\"dataframe\">\n",
       "  <thead>\n",
       "    <tr style=\"text-align: right;\">\n",
       "      <th></th>\n",
       "      <th>business_id</th>\n",
       "      <th>review_count</th>\n",
       "      <th>categories</th>\n",
       "    </tr>\n",
       "  </thead>\n",
       "  <tbody>\n",
       "    <tr>\n",
       "      <th>0</th>\n",
       "      <td>Apn5Q_b6Nz61Tq4XzPdf9A</td>\n",
       "      <td>24</td>\n",
       "      <td>b'Tours, Breweries, Pizza, Restaurants, Food, ...</td>\n",
       "    </tr>\n",
       "    <tr>\n",
       "      <th>1</th>\n",
       "      <td>AjEbIBw6ZFfln7ePHha9PA</td>\n",
       "      <td>3</td>\n",
       "      <td>b'Chicken Wings, Burgers, Caterers, Street Ven...</td>\n",
       "    </tr>\n",
       "    <tr>\n",
       "      <th>2</th>\n",
       "      <td>O8S5hYJ1SMc8fA4QBtVujA</td>\n",
       "      <td>5</td>\n",
       "      <td>b'Breakfast &amp; Brunch, Restaurants, French, San...</td>\n",
       "    </tr>\n",
       "    <tr>\n",
       "      <th>3</th>\n",
       "      <td>bFzdJJ3wp3PZssNEsyU23g</td>\n",
       "      <td>8</td>\n",
       "      <td>b'Insurance, Financial Services'</td>\n",
       "    </tr>\n",
       "    <tr>\n",
       "      <th>4</th>\n",
       "      <td>8USyCYqpScwiNEb58Bt6CA</td>\n",
       "      <td>4</td>\n",
       "      <td>b'Home &amp; Garden, Nurseries &amp; Gardening, Shoppi...</td>\n",
       "    </tr>\n",
       "  </tbody>\n",
       "</table>\n",
       "</div>"
      ],
      "text/plain": [
       "              business_id  review_count  \\\n",
       "0  Apn5Q_b6Nz61Tq4XzPdf9A            24   \n",
       "1  AjEbIBw6ZFfln7ePHha9PA             3   \n",
       "2  O8S5hYJ1SMc8fA4QBtVujA             5   \n",
       "3  bFzdJJ3wp3PZssNEsyU23g             8   \n",
       "4  8USyCYqpScwiNEb58Bt6CA             4   \n",
       "\n",
       "                                          categories  \n",
       "0  b'Tours, Breweries, Pizza, Restaurants, Food, ...  \n",
       "1  b'Chicken Wings, Burgers, Caterers, Street Ven...  \n",
       "2  b'Breakfast & Brunch, Restaurants, French, San...  \n",
       "3                   b'Insurance, Financial Services'  \n",
       "4  b'Home & Garden, Nurseries & Gardening, Shoppi...  "
      ]
     },
     "execution_count": 4,
     "metadata": {},
     "output_type": "execute_result"
    }
   ],
   "source": [
    "df2.head()"
   ]
  },
  {
   "cell_type": "code",
   "execution_count": 5,
   "metadata": {},
   "outputs": [],
   "source": [
    "# dfa = df1\n",
    "# dfb = df2\n",
    "dfa = df1[0:50000]\n",
    "dfb = df2[0:50000]"
   ]
  },
  {
   "cell_type": "code",
   "execution_count": 6,
   "metadata": {},
   "outputs": [],
   "source": [
    "dfmerged = pd.merge(dfa, dfb, on='business_id')"
   ]
  },
  {
   "cell_type": "code",
   "execution_count": 7,
   "metadata": {},
   "outputs": [],
   "source": [
    "df_review_agg = dfmerged.groupby('business_id')['text'].sum()\n",
    "df_review_agg.sort_index(inplace=True)\n",
    "dfmerged.stars = dfmerged.stars.astype(float)\n",
    "df_stars_agg = dfmerged.groupby('business_id')['stars'].mean()\n",
    "df_stars_agg.sort_index(inplace=True)\n",
    "df_rating_count = dfmerged.groupby('business_id')['review_count'].mean()\n",
    "df_rating_count.sort_index(inplace=True)\n",
    "df_ready_for_sklearn = pd.DataFrame({'business_id': df_review_agg.index, 'all_reviews': df_review_agg.values, 'all_stars' : df_stars_agg.values, 'review_count' : df_rating_count.values})"
   ]
  },
  {
   "cell_type": "code",
   "execution_count": 8,
   "metadata": {},
   "outputs": [
    {
     "data": {
      "text/html": [
       "<div>\n",
       "<style scoped>\n",
       "    .dataframe tbody tr th:only-of-type {\n",
       "        vertical-align: middle;\n",
       "    }\n",
       "\n",
       "    .dataframe tbody tr th {\n",
       "        vertical-align: top;\n",
       "    }\n",
       "\n",
       "    .dataframe thead th {\n",
       "        text-align: right;\n",
       "    }\n",
       "</style>\n",
       "<table border=\"1\" class=\"dataframe\">\n",
       "  <thead>\n",
       "    <tr style=\"text-align: right;\">\n",
       "      <th></th>\n",
       "      <th>business_id</th>\n",
       "      <th>all_reviews</th>\n",
       "      <th>all_stars</th>\n",
       "      <th>review_count</th>\n",
       "    </tr>\n",
       "  </thead>\n",
       "  <tbody>\n",
       "    <tr>\n",
       "      <th>0</th>\n",
       "      <td>--6MefnULPED_I942VcFNA</td>\n",
       "      <td>b\"The incredibly rude woman behind the cashier...</td>\n",
       "      <td>1.0</td>\n",
       "      <td>39</td>\n",
       "    </tr>\n",
       "    <tr>\n",
       "      <th>1</th>\n",
       "      <td>--Y7NhBKzLTbNliMUX_wfg</td>\n",
       "      <td>b'I have hired the Pinnacle Restoration for 3 ...</td>\n",
       "      <td>5.0</td>\n",
       "      <td>12</td>\n",
       "    </tr>\n",
       "    <tr>\n",
       "      <th>2</th>\n",
       "      <td>--g-a85VwrdZJNf0R95GcQ</td>\n",
       "      <td>b'super fresh food..great prices. ala carte an...</td>\n",
       "      <td>5.0</td>\n",
       "      <td>24</td>\n",
       "    </tr>\n",
       "    <tr>\n",
       "      <th>3</th>\n",
       "      <td>--orEUqwTzz5QKbmyYbAWw</td>\n",
       "      <td>b\"Hour-long waits are apparently typical and e...</td>\n",
       "      <td>1.0</td>\n",
       "      <td>3</td>\n",
       "    </tr>\n",
       "    <tr>\n",
       "      <th>4</th>\n",
       "      <td>-050d_XIor1NpCuWkbIVaQ</td>\n",
       "      <td>b\"One of the best breakfast places in Phoenix....</td>\n",
       "      <td>4.0</td>\n",
       "      <td>698</td>\n",
       "    </tr>\n",
       "  </tbody>\n",
       "</table>\n",
       "</div>"
      ],
      "text/plain": [
       "              business_id                                        all_reviews  \\\n",
       "0  --6MefnULPED_I942VcFNA  b\"The incredibly rude woman behind the cashier...   \n",
       "1  --Y7NhBKzLTbNliMUX_wfg  b'I have hired the Pinnacle Restoration for 3 ...   \n",
       "2  --g-a85VwrdZJNf0R95GcQ  b'super fresh food..great prices. ala carte an...   \n",
       "3  --orEUqwTzz5QKbmyYbAWw  b\"Hour-long waits are apparently typical and e...   \n",
       "4  -050d_XIor1NpCuWkbIVaQ  b\"One of the best breakfast places in Phoenix....   \n",
       "\n",
       "   all_stars  review_count  \n",
       "0        1.0            39  \n",
       "1        5.0            12  \n",
       "2        5.0            24  \n",
       "3        1.0             3  \n",
       "4        4.0           698  "
      ]
     },
     "execution_count": 8,
     "metadata": {},
     "output_type": "execute_result"
    }
   ],
   "source": [
    "df_ready_for_sklearn[0:5]"
   ]
  },
  {
   "cell_type": "code",
   "execution_count": 9,
   "metadata": {},
   "outputs": [],
   "source": [
    "import sklearn.feature_extraction.text as sk_text\n",
    "# vectorizer = sk_text.CountVectorizer(min_df=1, stop_words = 'english')\n",
    "vectorizer = sk_text.TfidfVectorizer(\n",
    "                             stop_words='english',\n",
    "                             max_features = 1000,\n",
    "                             min_df=2, max_df=0.5)\n",
    "matrix = vectorizer.fit_transform(df_ready_for_sklearn.all_reviews)\n"
   ]
  },
  {
   "cell_type": "code",
   "execution_count": 10,
   "metadata": {},
   "outputs": [],
   "source": [
    "tfidf_data = matrix.toarray()"
   ]
  },
  {
   "cell_type": "code",
   "execution_count": 11,
   "metadata": {},
   "outputs": [
    {
     "name": "stdout",
     "output_type": "stream",
     "text": [
      "[[0. 0. 0. ... 0. 0. 0.]\n",
      " [0. 0. 0. ... 0. 0. 0.]\n",
      " [0. 0. 0. ... 0. 0. 0.]\n",
      " ...\n",
      " [0. 0. 0. ... 0. 0. 0.]\n",
      " [0. 0. 0. ... 0. 0. 0.]\n",
      " [0. 0. 0. ... 0. 0. 0.]]\n"
     ]
    }
   ],
   "source": [
    "print(tfidf_data)        #  convert it to numpy array"
   ]
  },
  {
   "cell_type": "markdown",
   "metadata": {},
   "source": []
  },
  {
   "cell_type": "code",
   "execution_count": 12,
   "metadata": {},
   "outputs": [
    {
     "data": {
      "text/html": [
       "<div>\n",
       "<style scoped>\n",
       "    .dataframe tbody tr th:only-of-type {\n",
       "        vertical-align: middle;\n",
       "    }\n",
       "\n",
       "    .dataframe tbody tr th {\n",
       "        vertical-align: top;\n",
       "    }\n",
       "\n",
       "    .dataframe thead th {\n",
       "        text-align: right;\n",
       "    }\n",
       "</style>\n",
       "<table border=\"1\" class=\"dataframe\">\n",
       "  <thead>\n",
       "    <tr style=\"text-align: right;\">\n",
       "      <th></th>\n",
       "      <th>business_id</th>\n",
       "      <th>all_reviews</th>\n",
       "      <th>all_stars</th>\n",
       "      <th>review_count</th>\n",
       "      <th>normalize_rc</th>\n",
       "    </tr>\n",
       "  </thead>\n",
       "  <tbody>\n",
       "    <tr>\n",
       "      <th>0</th>\n",
       "      <td>--6MefnULPED_I942VcFNA</td>\n",
       "      <td>b\"The incredibly rude woman behind the cashier...</td>\n",
       "      <td>1.0</td>\n",
       "      <td>39</td>\n",
       "      <td>-0.345096</td>\n",
       "    </tr>\n",
       "    <tr>\n",
       "      <th>1</th>\n",
       "      <td>--Y7NhBKzLTbNliMUX_wfg</td>\n",
       "      <td>b'I have hired the Pinnacle Restoration for 3 ...</td>\n",
       "      <td>5.0</td>\n",
       "      <td>12</td>\n",
       "      <td>-0.489705</td>\n",
       "    </tr>\n",
       "    <tr>\n",
       "      <th>2</th>\n",
       "      <td>--g-a85VwrdZJNf0R95GcQ</td>\n",
       "      <td>b'super fresh food..great prices. ala carte an...</td>\n",
       "      <td>5.0</td>\n",
       "      <td>24</td>\n",
       "      <td>-0.425435</td>\n",
       "    </tr>\n",
       "    <tr>\n",
       "      <th>3</th>\n",
       "      <td>--orEUqwTzz5QKbmyYbAWw</td>\n",
       "      <td>b\"Hour-long waits are apparently typical and e...</td>\n",
       "      <td>1.0</td>\n",
       "      <td>3</td>\n",
       "      <td>-0.537909</td>\n",
       "    </tr>\n",
       "    <tr>\n",
       "      <th>4</th>\n",
       "      <td>-050d_XIor1NpCuWkbIVaQ</td>\n",
       "      <td>b\"One of the best breakfast places in Phoenix....</td>\n",
       "      <td>4.0</td>\n",
       "      <td>698</td>\n",
       "      <td>3.184447</td>\n",
       "    </tr>\n",
       "  </tbody>\n",
       "</table>\n",
       "</div>"
      ],
      "text/plain": [
       "              business_id                                        all_reviews  \\\n",
       "0  --6MefnULPED_I942VcFNA  b\"The incredibly rude woman behind the cashier...   \n",
       "1  --Y7NhBKzLTbNliMUX_wfg  b'I have hired the Pinnacle Restoration for 3 ...   \n",
       "2  --g-a85VwrdZJNf0R95GcQ  b'super fresh food..great prices. ala carte an...   \n",
       "3  --orEUqwTzz5QKbmyYbAWw  b\"Hour-long waits are apparently typical and e...   \n",
       "4  -050d_XIor1NpCuWkbIVaQ  b\"One of the best breakfast places in Phoenix....   \n",
       "\n",
       "   all_stars  review_count  normalize_rc  \n",
       "0        1.0            39     -0.345096  \n",
       "1        5.0            12     -0.489705  \n",
       "2        5.0            24     -0.425435  \n",
       "3        1.0             3     -0.537909  \n",
       "4        4.0           698      3.184447  "
      ]
     },
     "execution_count": 12,
     "metadata": {},
     "output_type": "execute_result"
    }
   ],
   "source": [
    "from scipy.stats import zscore\n",
    "\n",
    "df_ready_for_sklearn['normalize_rc'] = zscore(df_ready_for_sklearn['review_count'])\n",
    "df_ready_for_sklearn[0:5]\n"
   ]
  },
  {
   "cell_type": "code",
   "execution_count": 13,
   "metadata": {},
   "outputs": [
    {
     "data": {
      "text/plain": [
       "array([[-0.34509598],\n",
       "       [-0.48970546],\n",
       "       [-0.42543458],\n",
       "       ...,\n",
       "       [-0.52184091],\n",
       "       [-0.53255272],\n",
       "       [-0.03445338]])"
      ]
     },
     "execution_count": 13,
     "metadata": {},
     "output_type": "execute_result"
    }
   ],
   "source": [
    "y = df_ready_for_sklearn['normalize_rc'].values.reshape( len(df_ready_for_sklearn['normalize_rc']),1)\n",
    "\n",
    "y"
   ]
  },
  {
   "cell_type": "code",
   "execution_count": 14,
   "metadata": {
    "scrolled": true
   },
   "outputs": [],
   "source": [
    "tfidf_data = np.concatenate([tfidf_data,y],axis=1)"
   ]
  },
  {
   "cell_type": "code",
   "execution_count": 15,
   "metadata": {
    "scrolled": true
   },
   "outputs": [],
   "source": [
    "from sklearn.model_selection import train_test_split\n",
    "x_train, x_test, y_train, y_test = train_test_split(tfidf_data,df_ready_for_sklearn['all_stars'], test_size=0.25, random_state=42)"
   ]
  },
  {
   "cell_type": "code",
   "execution_count": 16,
   "metadata": {},
   "outputs": [
    {
     "data": {
      "text/plain": [
       "array([4.83311911, 4.75546749, 3.59332121, ..., 4.64916021, 4.30080896,\n",
       "       4.74658304])"
      ]
     },
     "execution_count": 16,
     "metadata": {},
     "output_type": "execute_result"
    }
   ],
   "source": [
    "# Linear Regression\n",
    "from sklearn import datasets, linear_model\n",
    "linreg = linear_model.LinearRegression()\n",
    "\n",
    "# fit the model with data\n",
    "linreg.fit(x_train, y_train)\n",
    "\n",
    "# predict the response for new observations\n",
    "linreg.predict(x_test)"
   ]
  },
  {
   "cell_type": "code",
   "execution_count": 17,
   "metadata": {},
   "outputs": [
    {
     "data": {
      "text/plain": [
       "array([5, 4, 4, ..., 5, 4, 5])"
      ]
     },
     "execution_count": 17,
     "metadata": {},
     "output_type": "execute_result"
    }
   ],
   "source": [
    "# Logistic Regression\n",
    "from sklearn.linear_model import LogisticRegression\n",
    "\n",
    "# instantiate the model (using the default parameters)\n",
    "logreg = LogisticRegression()\n",
    "\n",
    "# fit the model with data\n",
    "logreg.fit(x_train, y_train.astype(int))\n",
    "\n",
    "# predict the response for new observations\n",
    "logreg.predict(x_test)"
   ]
  },
  {
   "cell_type": "code",
   "execution_count": 18,
   "metadata": {},
   "outputs": [
    {
     "name": "stdout",
     "output_type": "stream",
     "text": [
      "KNeighborsClassifier(algorithm='auto', leaf_size=30, metric='minkowski',\n",
      "           metric_params=None, n_jobs=1, n_neighbors=1, p=2,\n",
      "           weights='uniform')\n"
     ]
    },
    {
     "data": {
      "text/plain": [
       "array([5, 3, 3, ..., 4, 3, 4])"
      ]
     },
     "execution_count": 18,
     "metadata": {},
     "output_type": "execute_result"
    }
   ],
   "source": [
    "#correct\n",
    "from sklearn.neighbors import KNeighborsClassifier\n",
    "knn = KNeighborsClassifier(n_neighbors=1)\n",
    "print(knn)\n",
    "knn.fit(x_train, y_train.astype('int'))\n",
    "knn.predict(x_test)  "
   ]
  },
  {
   "cell_type": "code",
   "execution_count": 19,
   "metadata": {},
   "outputs": [
    {
     "data": {
      "text/plain": [
       "array([[   0,  440, 1414, ..., 5106, 2612, 3917],\n",
       "       [   1, 5796, 4356, ..., 3159, 4489, 4111],\n",
       "       [   2,  202, 3954, ..., 3627, 1447, 2039],\n",
       "       ...,\n",
       "       [5977, 1110, 1606, ..., 5470, 4602, 1605],\n",
       "       [5978, 5450, 2157, ..., 3301, 4363, 4676],\n",
       "       [5979, 4561, 4480, ..., 3266, 4525, 1544]])"
      ]
     },
     "execution_count": 19,
     "metadata": {},
     "output_type": "execute_result"
    }
   ],
   "source": [
    "# Nearest Neighbor\n",
    "from sklearn.neighbors import NearestNeighbors\n",
    "#X = np.array()\n",
    "nbrs = NearestNeighbors(n_neighbors=10, algorithm='ball_tree').fit(x_train,x_test)\n",
    "distances, indices = nbrs.kneighbors(x_train)\n",
    "indices \n"
   ]
  },
  {
   "cell_type": "code",
   "execution_count": 20,
   "metadata": {},
   "outputs": [
    {
     "data": {
      "text/plain": [
       "array([5, 4, 5, ..., 5, 5, 5])"
      ]
     },
     "execution_count": 20,
     "metadata": {},
     "output_type": "execute_result"
    }
   ],
   "source": [
    "#Support Vector Machine\n",
    "from sklearn import svm\n",
    "clf = svm.SVC()\n",
    "clf.fit(x_train, y_train.astype('int'))  \n",
    "clf.predict(x_test)"
   ]
  },
  {
   "cell_type": "code",
   "execution_count": 21,
   "metadata": {
    "scrolled": true
   },
   "outputs": [
    {
     "data": {
      "text/plain": [
       "array([5, 4, 4, ..., 5, 4, 5])"
      ]
     },
     "execution_count": 21,
     "metadata": {},
     "output_type": "execute_result"
    }
   ],
   "source": [
    "# Multinomial Naive Bayes\n",
    "from sklearn import preprocessing\n",
    "from sklearn.naive_bayes import MultinomialNB\n",
    "min_max_scaler = preprocessing.MinMaxScaler()\n",
    "mnb = MultinomialNB()\n",
    "mnb.fit(min_max_scaler.fit_transform(x_train), y_train.astype(int))\n",
    "mnb.predict(min_max_scaler.fit_transform(x_test))"
   ]
  },
  {
   "cell_type": "code",
   "execution_count": 22,
   "metadata": {},
   "outputs": [
    {
     "name": "stdout",
     "output_type": "stream",
     "text": [
      "[5 4 4 ... 5 4 5]\n"
     ]
    }
   ],
   "source": [
    "#Extra : GaussianNB\n",
    "import numpy as np\n",
    "\n",
    "from sklearn.naive_bayes import GaussianNB\n",
    "clf = GaussianNB()\n",
    "clf.fit(x_train, y_train.astype(int))\n",
    "#MultinomialNB(alpha=1.0, class_prior=None, fit_prior=True)\n",
    "print(clf.predict(x_test))\n"
   ]
  }
 ],
 "metadata": {
  "kernelspec": {
   "display_name": "Python 3",
   "language": "python",
   "name": "python3"
  },
  "language_info": {
   "codemirror_mode": {
    "name": "ipython",
    "version": 3
   },
   "file_extension": ".py",
   "mimetype": "text/x-python",
   "name": "python",
   "nbconvert_exporter": "python",
   "pygments_lexer": "ipython3",
   "version": "3.6.5"
  }
 },
 "nbformat": 4,
 "nbformat_minor": 2
}
